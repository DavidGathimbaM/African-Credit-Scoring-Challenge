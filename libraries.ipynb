{
 "cells": [
  {
   "cell_type": "code",
   "execution_count": 1,
   "metadata": {},
   "outputs": [
    {
     "name": "stdout",
     "output_type": "stream",
     "text": [
      "Requirement already satisfied: numpy in c:\\users\\user\\anaconda3\\envs\\myenv\\lib\\site-packages (1.26.4)Note: you may need to restart the kernel to use updated packages.\n",
      "\n",
      "Collecting numpy\n",
      "  Using cached numpy-2.1.3-cp310-cp310-win_amd64.whl.metadata (60 kB)\n",
      "Requirement already satisfied: pandas in c:\\users\\user\\anaconda3\\envs\\myenv\\lib\\site-packages (2.2.3)\n",
      "Requirement already satisfied: python-dateutil>=2.8.2 in c:\\users\\user\\anaconda3\\envs\\myenv\\lib\\site-packages (from pandas) (2.9.0.post0)\n",
      "Requirement already satisfied: pytz>=2020.1 in c:\\users\\user\\anaconda3\\envs\\myenv\\lib\\site-packages (from pandas) (2024.1)\n",
      "Requirement already satisfied: tzdata>=2022.7 in c:\\users\\user\\anaconda3\\envs\\myenv\\lib\\site-packages (from pandas) (2023.3)\n",
      "Requirement already satisfied: six>=1.5 in c:\\users\\user\\anaconda3\\envs\\myenv\\lib\\site-packages (from python-dateutil>=2.8.2->pandas) (1.16.0)\n",
      "Using cached numpy-2.1.3-cp310-cp310-win_amd64.whl (12.9 MB)\n",
      "Installing collected packages: numpy\n",
      "  Attempting uninstall: numpy\n",
      "    Found existing installation: numpy 1.26.4\n",
      "    Uninstalling numpy-1.26.4:\n",
      "      Successfully uninstalled numpy-1.26.4\n",
      "Successfully installed numpy-2.1.3\n"
     ]
    },
    {
     "name": "stderr",
     "output_type": "stream",
     "text": [
      "  WARNING: Failed to remove contents in a temporary directory 'C:\\Users\\User\\AppData\\Local\\Temp\\pip-uninstall-a4mphogm'.\n",
      "  You can safely remove it manually.\n"
     ]
    }
   ],
   "source": [
    "pip install --upgrade numpy pandas"
   ]
  },
  {
   "cell_type": "code",
   "execution_count": 2,
   "metadata": {},
   "outputs": [
    {
     "name": "stdout",
     "output_type": "stream",
     "text": [
      "Requirement already satisfied: pandas in c:\\users\\user\\anaconda3\\envs\\myenv\\lib\\site-packages (2.2.3)\n",
      "Requirement already satisfied: numpy>=1.22.4 in c:\\users\\user\\anaconda3\\envs\\myenv\\lib\\site-packages (from pandas) (2.1.3)\n",
      "Requirement already satisfied: python-dateutil>=2.8.2 in c:\\users\\user\\anaconda3\\envs\\myenv\\lib\\site-packages (from pandas) (2.9.0.post0)\n",
      "Requirement already satisfied: pytz>=2020.1 in c:\\users\\user\\anaconda3\\envs\\myenv\\lib\\site-packages (from pandas) (2024.1)\n",
      "Requirement already satisfied: tzdata>=2022.7 in c:\\users\\user\\anaconda3\\envs\\myenv\\lib\\site-packages (from pandas) (2023.3)\n",
      "Requirement already satisfied: six>=1.5 in c:\\users\\user\\anaconda3\\envs\\myenv\\lib\\site-packages (from python-dateutil>=2.8.2->pandas) (1.16.0)\n",
      "Note: you may need to restart the kernel to use updated packages.\n"
     ]
    }
   ],
   "source": [
    "pip install pandas"
   ]
  },
  {
   "cell_type": "code",
   "execution_count": 4,
   "metadata": {},
   "outputs": [
    {
     "name": "stdout",
     "output_type": "stream",
     "text": [
      "^C\n",
      "Requirement already satisfied: numpy in c:\\users\\user\\anaconda3\\envs\\myenv\\lib\\site-packages (2.1.3)\n"
     ]
    }
   ],
   "source": [
    "!pip uninstall numpy\n",
    "!pip install numpy"
   ]
  },
  {
   "cell_type": "code",
   "execution_count": 5,
   "metadata": {},
   "outputs": [
    {
     "name": "stdout",
     "output_type": "stream",
     "text": [
      "Requirement already satisfied: pandas in c:\\users\\user\\anaconda3\\envs\\myenv\\lib\\site-packages (2.2.3)\n",
      "Requirement already satisfied: numpy>=1.22.4 in c:\\users\\user\\anaconda3\\envs\\myenv\\lib\\site-packages (from pandas) (2.1.3)\n",
      "Requirement already satisfied: python-dateutil>=2.8.2 in c:\\users\\user\\anaconda3\\envs\\myenv\\lib\\site-packages (from pandas) (2.9.0.post0)\n",
      "Requirement already satisfied: pytz>=2020.1 in c:\\users\\user\\anaconda3\\envs\\myenv\\lib\\site-packages (from pandas) (2024.1)\n",
      "Requirement already satisfied: tzdata>=2022.7 in c:\\users\\user\\anaconda3\\envs\\myenv\\lib\\site-packages (from pandas) (2023.3)\n",
      "Requirement already satisfied: six>=1.5 in c:\\users\\user\\anaconda3\\envs\\myenv\\lib\\site-packages (from python-dateutil>=2.8.2->pandas) (1.16.0)\n",
      "Note: you may need to restart the kernel to use updated packages.\n"
     ]
    }
   ],
   "source": [
    "pip install pandas"
   ]
  },
  {
   "cell_type": "code",
   "execution_count": 6,
   "metadata": {},
   "outputs": [
    {
     "name": "stdout",
     "output_type": "stream",
     "text": [
      "Collecting matplotlib\n",
      "  Downloading matplotlib-3.9.3-cp310-cp310-win_amd64.whl.metadata (11 kB)\n",
      "Collecting contourpy>=1.0.1 (from matplotlib)\n",
      "  Downloading contourpy-1.3.1-cp310-cp310-win_amd64.whl.metadata (5.4 kB)\n",
      "Collecting cycler>=0.10 (from matplotlib)\n",
      "  Downloading cycler-0.12.1-py3-none-any.whl.metadata (3.8 kB)\n",
      "Collecting fonttools>=4.22.0 (from matplotlib)\n",
      "  Downloading fonttools-4.55.1-cp310-cp310-win_amd64.whl.metadata (168 kB)\n",
      "Collecting kiwisolver>=1.3.1 (from matplotlib)\n",
      "  Downloading kiwisolver-1.4.7-cp310-cp310-win_amd64.whl.metadata (6.4 kB)\n",
      "Requirement already satisfied: numpy>=1.23 in c:\\users\\user\\anaconda3\\envs\\myenv\\lib\\site-packages (from matplotlib) (2.1.3)\n",
      "Requirement already satisfied: packaging>=20.0 in c:\\users\\user\\anaconda3\\envs\\myenv\\lib\\site-packages (from matplotlib) (24.2)\n",
      "Requirement already satisfied: pillow>=8 in c:\\users\\user\\anaconda3\\envs\\myenv\\lib\\site-packages (from matplotlib) (10.2.0)\n",
      "Collecting pyparsing>=2.3.1 (from matplotlib)\n",
      "  Downloading pyparsing-3.2.0-py3-none-any.whl.metadata (5.0 kB)\n",
      "Requirement already satisfied: python-dateutil>=2.7 in c:\\users\\user\\anaconda3\\envs\\myenv\\lib\\site-packages (from matplotlib) (2.9.0.post0)\n",
      "Requirement already satisfied: six>=1.5 in c:\\users\\user\\anaconda3\\envs\\myenv\\lib\\site-packages (from python-dateutil>=2.7->matplotlib) (1.16.0)\n",
      "Downloading matplotlib-3.9.3-cp310-cp310-win_amd64.whl (7.8 MB)\n",
      "   ---------------------------------------- 0.0/7.8 MB ? eta -:--:--\n",
      "   ---------------------------------------- 0.0/7.8 MB ? eta -:--:--\n",
      "   ---------------------------------------- 0.0/7.8 MB ? eta -:--:--\n",
      "   ---------------------------------------- 0.0/7.8 MB ? eta -:--:--\n",
      "   - -------------------------------------- 0.3/7.8 MB ? eta -:--:--\n",
      "   - -------------------------------------- 0.3/7.8 MB ? eta -:--:--\n",
      "   - -------------------------------------- 0.3/7.8 MB ? eta -:--:--\n",
      "   -- ------------------------------------- 0.5/7.8 MB 524.3 kB/s eta 0:00:14\n",
      "   -- ------------------------------------- 0.5/7.8 MB 524.3 kB/s eta 0:00:14\n",
      "   ---- ----------------------------------- 0.8/7.8 MB 479.7 kB/s eta 0:00:15\n",
      "   ---- ----------------------------------- 0.8/7.8 MB 479.7 kB/s eta 0:00:15\n",
      "   ---- ----------------------------------- 0.8/7.8 MB 479.7 kB/s eta 0:00:15\n",
      "   ---- ----------------------------------- 0.8/7.8 MB 479.7 kB/s eta 0:00:15\n",
      "   ----- ---------------------------------- 1.0/7.8 MB 409.4 kB/s eta 0:00:17\n",
      "   ----- ---------------------------------- 1.0/7.8 MB 409.4 kB/s eta 0:00:17\n",
      "   ----- ---------------------------------- 1.0/7.8 MB 409.4 kB/s eta 0:00:17\n",
      "   ----- ---------------------------------- 1.0/7.8 MB 409.4 kB/s eta 0:00:17\n",
      "   ----- ---------------------------------- 1.0/7.8 MB 409.4 kB/s eta 0:00:17\n",
      "   ------ --------------------------------- 1.3/7.8 MB 344.2 kB/s eta 0:00:19\n",
      "   ------ --------------------------------- 1.3/7.8 MB 344.2 kB/s eta 0:00:19\n",
      "   ------ --------------------------------- 1.3/7.8 MB 344.2 kB/s eta 0:00:19\n",
      "   ------ --------------------------------- 1.3/7.8 MB 344.2 kB/s eta 0:00:19\n",
      "   ------ --------------------------------- 1.3/7.8 MB 344.2 kB/s eta 0:00:19\n",
      "   ------ --------------------------------- 1.3/7.8 MB 344.2 kB/s eta 0:00:19\n",
      "   ------ --------------------------------- 1.3/7.8 MB 344.2 kB/s eta 0:00:19\n",
      "   -------- ------------------------------- 1.6/7.8 MB 287.3 kB/s eta 0:00:22\n",
      "   -------- ------------------------------- 1.6/7.8 MB 287.3 kB/s eta 0:00:22\n",
      "   -------- ------------------------------- 1.6/7.8 MB 287.3 kB/s eta 0:00:22\n",
      "   -------- ------------------------------- 1.6/7.8 MB 287.3 kB/s eta 0:00:22\n",
      "   -------- ------------------------------- 1.6/7.8 MB 287.3 kB/s eta 0:00:22\n",
      "   -------- ------------------------------- 1.6/7.8 MB 287.3 kB/s eta 0:00:22\n",
      "   --------- ------------------------------ 1.8/7.8 MB 269.2 kB/s eta 0:00:23\n",
      "   --------- ------------------------------ 1.8/7.8 MB 269.2 kB/s eta 0:00:23\n",
      "   --------- ------------------------------ 1.8/7.8 MB 269.2 kB/s eta 0:00:23\n",
      "   --------- ------------------------------ 1.8/7.8 MB 269.2 kB/s eta 0:00:23\n",
      "   --------- ------------------------------ 1.8/7.8 MB 269.2 kB/s eta 0:00:23\n",
      "   ---------- ----------------------------- 2.1/7.8 MB 264.5 kB/s eta 0:00:22\n",
      "   ---------- ----------------------------- 2.1/7.8 MB 264.5 kB/s eta 0:00:22\n",
      "   ---------- ----------------------------- 2.1/7.8 MB 264.5 kB/s eta 0:00:22\n",
      "   ---------- ----------------------------- 2.1/7.8 MB 264.5 kB/s eta 0:00:22\n",
      "   ---------- ----------------------------- 2.1/7.8 MB 264.5 kB/s eta 0:00:22\n",
      "   ------------ --------------------------- 2.4/7.8 MB 262.7 kB/s eta 0:00:21\n",
      "   ------------ --------------------------- 2.4/7.8 MB 262.7 kB/s eta 0:00:21\n",
      "   ------------ --------------------------- 2.4/7.8 MB 262.7 kB/s eta 0:00:21\n",
      "   ------------ --------------------------- 2.4/7.8 MB 262.7 kB/s eta 0:00:21\n",
      "   ------------- -------------------------- 2.6/7.8 MB 265.8 kB/s eta 0:00:20\n",
      "   ------------- -------------------------- 2.6/7.8 MB 265.8 kB/s eta 0:00:20\n",
      "   ------------- -------------------------- 2.6/7.8 MB 265.8 kB/s eta 0:00:20\n",
      "   ------------- -------------------------- 2.6/7.8 MB 265.8 kB/s eta 0:00:20\n",
      "   -------------- ------------------------- 2.9/7.8 MB 269.3 kB/s eta 0:00:19\n",
      "   -------------- ------------------------- 2.9/7.8 MB 269.3 kB/s eta 0:00:19\n",
      "   -------------- ------------------------- 2.9/7.8 MB 269.3 kB/s eta 0:00:19\n",
      "   -------------- ------------------------- 2.9/7.8 MB 269.3 kB/s eta 0:00:19\n",
      "   ---------------- ----------------------- 3.1/7.8 MB 275.0 kB/s eta 0:00:17\n",
      "   ---------------- ----------------------- 3.1/7.8 MB 275.0 kB/s eta 0:00:17\n",
      "   ----------------- ---------------------- 3.4/7.8 MB 285.2 kB/s eta 0:00:16\n",
      "   ----------------- ---------------------- 3.4/7.8 MB 285.2 kB/s eta 0:00:16\n",
      "   ----------------- ---------------------- 3.4/7.8 MB 285.2 kB/s eta 0:00:16\n",
      "   ------------------ --------------------- 3.7/7.8 MB 296.3 kB/s eta 0:00:15\n",
      "   ------------------ --------------------- 3.7/7.8 MB 296.3 kB/s eta 0:00:15\n",
      "   -------------------- ------------------- 3.9/7.8 MB 308.2 kB/s eta 0:00:13\n",
      "   --------------------- ------------------ 4.2/7.8 MB 321.4 kB/s eta 0:00:12\n",
      "   --------------------- ------------------ 4.2/7.8 MB 321.4 kB/s eta 0:00:12\n",
      "   ---------------------- ----------------- 4.5/7.8 MB 334.3 kB/s eta 0:00:11\n",
      "   ------------------------ --------------- 4.7/7.8 MB 347.0 kB/s eta 0:00:09\n",
      "   ------------------------- -------------- 5.0/7.8 MB 360.8 kB/s eta 0:00:08\n",
      "   -------------------------- ------------- 5.2/7.8 MB 374.2 kB/s eta 0:00:07\n",
      "   ---------------------------- ----------- 5.5/7.8 MB 388.4 kB/s eta 0:00:06\n",
      "   ----------------------------- ---------- 5.8/7.8 MB 402.2 kB/s eta 0:00:06\n",
      "   ------------------------------ --------- 6.0/7.8 MB 415.7 kB/s eta 0:00:05\n",
      "   -------------------------------- ------- 6.3/7.8 MB 429.3 kB/s eta 0:00:04\n",
      "   --------------------------------- ------ 6.6/7.8 MB 443.0 kB/s eta 0:00:03\n",
      "   ------------------------------------ --- 7.1/7.8 MB 469.6 kB/s eta 0:00:02\n",
      "   ------------------------------------- -- 7.3/7.8 MB 480.9 kB/s eta 0:00:01\n",
      "   ------------------------------------- -- 7.3/7.8 MB 480.9 kB/s eta 0:00:01\n",
      "   -------------------------------------- - 7.6/7.8 MB 488.3 kB/s eta 0:00:01\n",
      "   ---------------------------------------- 7.8/7.8 MB 491.1 kB/s eta 0:00:00\n",
      "Downloading contourpy-1.3.1-cp310-cp310-win_amd64.whl (218 kB)\n",
      "Downloading cycler-0.12.1-py3-none-any.whl (8.3 kB)\n",
      "Downloading fonttools-4.55.1-cp310-cp310-win_amd64.whl (2.2 MB)\n",
      "   ---------------------------------------- 0.0/2.2 MB ? eta -:--:--\n",
      "   ---------------------------------------- 0.0/2.2 MB ? eta -:--:--\n",
      "   ---- ----------------------------------- 0.3/2.2 MB ? eta -:--:--\n",
      "   --------- ------------------------------ 0.5/2.2 MB 932.9 kB/s eta 0:00:02\n",
      "   --------- ------------------------------ 0.5/2.2 MB 932.9 kB/s eta 0:00:02\n",
      "   -------------- ------------------------- 0.8/2.2 MB 907.1 kB/s eta 0:00:02\n",
      "   ------------------ --------------------- 1.0/2.2 MB 915.5 kB/s eta 0:00:02\n",
      "   ----------------------- ---------------- 1.3/2.2 MB 919.0 kB/s eta 0:00:01\n",
      "   ----------------------- ---------------- 1.3/2.2 MB 919.0 kB/s eta 0:00:01\n",
      "   ---------------------------- ----------- 1.6/2.2 MB 921.7 kB/s eta 0:00:01\n",
      "   --------------------------------- ------ 1.8/2.2 MB 931.8 kB/s eta 0:00:01\n",
      "   ------------------------------------- -- 2.1/2.2 MB 917.5 kB/s eta 0:00:01\n",
      "   ------------------------------------- -- 2.1/2.2 MB 917.5 kB/s eta 0:00:01\n",
      "   ------------------------------------- -- 2.1/2.2 MB 917.5 kB/s eta 0:00:01\n",
      "   ---------------------------------------- 2.2/2.2 MB 773.6 kB/s eta 0:00:00\n",
      "Downloading kiwisolver-1.4.7-cp310-cp310-win_amd64.whl (55 kB)\n",
      "Downloading pyparsing-3.2.0-py3-none-any.whl (106 kB)\n",
      "Installing collected packages: pyparsing, kiwisolver, fonttools, cycler, contourpy, matplotlib\n",
      "Successfully installed contourpy-1.3.1 cycler-0.12.1 fonttools-4.55.1 kiwisolver-1.4.7 matplotlib-3.9.3 pyparsing-3.2.0\n",
      "Note: you may need to restart the kernel to use updated packages.\n"
     ]
    }
   ],
   "source": [
    "pip install matplotlib"
   ]
  },
  {
   "cell_type": "code",
   "execution_count": 7,
   "metadata": {},
   "outputs": [
    {
     "name": "stdout",
     "output_type": "stream",
     "text": [
      "Collecting seaborn\n",
      "  Downloading seaborn-0.13.2-py3-none-any.whl.metadata (5.4 kB)\n",
      "Requirement already satisfied: numpy!=1.24.0,>=1.20 in c:\\users\\user\\anaconda3\\envs\\myenv\\lib\\site-packages (from seaborn) (2.1.3)\n",
      "Requirement already satisfied: pandas>=1.2 in c:\\users\\user\\anaconda3\\envs\\myenv\\lib\\site-packages (from seaborn) (2.2.3)\n",
      "Requirement already satisfied: matplotlib!=3.6.1,>=3.4 in c:\\users\\user\\anaconda3\\envs\\myenv\\lib\\site-packages (from seaborn) (3.9.3)\n",
      "Requirement already satisfied: contourpy>=1.0.1 in c:\\users\\user\\anaconda3\\envs\\myenv\\lib\\site-packages (from matplotlib!=3.6.1,>=3.4->seaborn) (1.3.1)\n",
      "Requirement already satisfied: cycler>=0.10 in c:\\users\\user\\anaconda3\\envs\\myenv\\lib\\site-packages (from matplotlib!=3.6.1,>=3.4->seaborn) (0.12.1)\n",
      "Requirement already satisfied: fonttools>=4.22.0 in c:\\users\\user\\anaconda3\\envs\\myenv\\lib\\site-packages (from matplotlib!=3.6.1,>=3.4->seaborn) (4.55.1)\n",
      "Requirement already satisfied: kiwisolver>=1.3.1 in c:\\users\\user\\anaconda3\\envs\\myenv\\lib\\site-packages (from matplotlib!=3.6.1,>=3.4->seaborn) (1.4.7)\n",
      "Requirement already satisfied: packaging>=20.0 in c:\\users\\user\\anaconda3\\envs\\myenv\\lib\\site-packages (from matplotlib!=3.6.1,>=3.4->seaborn) (24.2)\n",
      "Requirement already satisfied: pillow>=8 in c:\\users\\user\\anaconda3\\envs\\myenv\\lib\\site-packages (from matplotlib!=3.6.1,>=3.4->seaborn) (10.2.0)\n",
      "Requirement already satisfied: pyparsing>=2.3.1 in c:\\users\\user\\anaconda3\\envs\\myenv\\lib\\site-packages (from matplotlib!=3.6.1,>=3.4->seaborn) (3.2.0)\n",
      "Requirement already satisfied: python-dateutil>=2.7 in c:\\users\\user\\anaconda3\\envs\\myenv\\lib\\site-packages (from matplotlib!=3.6.1,>=3.4->seaborn) (2.9.0.post0)\n",
      "Requirement already satisfied: pytz>=2020.1 in c:\\users\\user\\anaconda3\\envs\\myenv\\lib\\site-packages (from pandas>=1.2->seaborn) (2024.1)\n",
      "Requirement already satisfied: tzdata>=2022.7 in c:\\users\\user\\anaconda3\\envs\\myenv\\lib\\site-packages (from pandas>=1.2->seaborn) (2023.3)\n",
      "Requirement already satisfied: six>=1.5 in c:\\users\\user\\anaconda3\\envs\\myenv\\lib\\site-packages (from python-dateutil>=2.7->matplotlib!=3.6.1,>=3.4->seaborn) (1.16.0)\n",
      "Downloading seaborn-0.13.2-py3-none-any.whl (294 kB)\n",
      "Installing collected packages: seaborn\n",
      "Successfully installed seaborn-0.13.2\n",
      "Note: you may need to restart the kernel to use updated packages.\n"
     ]
    }
   ],
   "source": [
    "pip install seaborn"
   ]
  },
  {
   "cell_type": "code",
   "execution_count": 10,
   "metadata": {},
   "outputs": [
    {
     "name": "stdout",
     "output_type": "stream",
     "text": [
      "Collecting scikit-learnNote: you may need to restart the kernel to use updated packages.\n",
      "\n",
      "  Downloading scikit_learn-1.5.2-cp310-cp310-win_amd64.whl.metadata (13 kB)\n",
      "Requirement already satisfied: numpy>=1.19.5 in c:\\users\\user\\anaconda3\\envs\\myenv\\lib\\site-packages (from scikit-learn) (2.1.3)\n",
      "Collecting scipy>=1.6.0 (from scikit-learn)\n",
      "  Downloading scipy-1.14.1-cp310-cp310-win_amd64.whl.metadata (60 kB)\n",
      "Collecting joblib>=1.2.0 (from scikit-learn)\n",
      "  Downloading joblib-1.4.2-py3-none-any.whl.metadata (5.4 kB)\n",
      "Collecting threadpoolctl>=3.1.0 (from scikit-learn)\n",
      "  Downloading threadpoolctl-3.5.0-py3-none-any.whl.metadata (13 kB)\n",
      "Downloading scikit_learn-1.5.2-cp310-cp310-win_amd64.whl (11.0 MB)\n",
      "   ---------------------------------------- 0.0/11.0 MB ? eta -:--:--\n",
      "   ---------------------------------------- 0.0/11.0 MB ? eta -:--:--\n",
      "   - -------------------------------------- 0.5/11.0 MB 2.4 MB/s eta 0:00:05\n",
      "   ----- ---------------------------------- 1.6/11.0 MB 4.0 MB/s eta 0:00:03\n",
      "   --------- ------------------------------ 2.6/11.0 MB 4.9 MB/s eta 0:00:02\n",
      "   ------------- -------------------------- 3.7/11.0 MB 4.6 MB/s eta 0:00:02\n",
      "   ---------------- ----------------------- 4.5/11.0 MB 4.1 MB/s eta 0:00:02\n",
      "   ------------------- -------------------- 5.2/11.0 MB 4.0 MB/s eta 0:00:02\n",
      "   ---------------------- ----------------- 6.3/11.0 MB 4.1 MB/s eta 0:00:02\n",
      "   ------------------------- -------------- 7.1/11.0 MB 4.1 MB/s eta 0:00:01\n",
      "   -------------------------------- ------- 8.9/11.0 MB 4.6 MB/s eta 0:00:01\n",
      "   -------------------------------------- - 10.5/11.0 MB 4.8 MB/s eta 0:00:01\n",
      "   ---------------------------------------  10.7/11.0 MB 4.9 MB/s eta 0:00:01\n",
      "   ---------------------------------------- 11.0/11.0 MB 4.4 MB/s eta 0:00:00\n",
      "Downloading joblib-1.4.2-py3-none-any.whl (301 kB)\n",
      "Downloading scipy-1.14.1-cp310-cp310-win_amd64.whl (44.8 MB)\n",
      "   ---------------------------------------- 0.0/44.8 MB ? eta -:--:--\n",
      "   ---------------------------------------- 0.5/44.8 MB 2.8 MB/s eta 0:00:16\n",
      "    --------------------------------------- 0.8/44.8 MB 3.0 MB/s eta 0:00:15\n",
      "   -- ------------------------------------- 3.1/44.8 MB 5.1 MB/s eta 0:00:09\n",
      "   --- ------------------------------------ 4.5/44.8 MB 5.5 MB/s eta 0:00:08\n",
      "   ---- ----------------------------------- 5.5/44.8 MB 5.8 MB/s eta 0:00:07\n",
      "   ------ --------------------------------- 6.8/44.8 MB 5.4 MB/s eta 0:00:07\n",
      "   ------- -------------------------------- 8.1/44.8 MB 5.6 MB/s eta 0:00:07\n",
      "   -------- ------------------------------- 10.0/44.8 MB 6.0 MB/s eta 0:00:06\n",
      "   ---------- ----------------------------- 11.5/44.8 MB 6.2 MB/s eta 0:00:06\n",
      "   ----------- ---------------------------- 12.6/44.8 MB 6.1 MB/s eta 0:00:06\n",
      "   ------------ --------------------------- 14.4/44.8 MB 6.3 MB/s eta 0:00:05\n",
      "   -------------- ------------------------- 15.7/44.8 MB 6.4 MB/s eta 0:00:05\n",
      "   --------------- ------------------------ 17.3/44.8 MB 6.4 MB/s eta 0:00:05\n",
      "   ---------------- ----------------------- 18.4/44.8 MB 6.4 MB/s eta 0:00:05\n",
      "   ----------------- ---------------------- 19.4/44.8 MB 6.2 MB/s eta 0:00:05\n",
      "   ------------------ --------------------- 20.4/44.8 MB 6.4 MB/s eta 0:00:04\n",
      "   ------------------ --------------------- 21.2/44.8 MB 6.0 MB/s eta 0:00:04\n",
      "   -------------------- ------------------- 22.5/44.8 MB 6.0 MB/s eta 0:00:04\n",
      "   --------------------- ------------------ 23.6/44.8 MB 6.1 MB/s eta 0:00:04\n",
      "   --------------------- ------------------ 24.4/44.8 MB 5.8 MB/s eta 0:00:04\n",
      "   ----------------------- ---------------- 26.0/44.8 MB 5.9 MB/s eta 0:00:04\n",
      "   ------------------------ --------------- 27.3/44.8 MB 5.9 MB/s eta 0:00:03\n",
      "   ------------------------- -------------- 28.0/44.8 MB 5.9 MB/s eta 0:00:03\n",
      "   -------------------------- ------------- 30.1/44.8 MB 6.0 MB/s eta 0:00:03\n",
      "   ---------------------------- ----------- 31.5/44.8 MB 6.0 MB/s eta 0:00:03\n",
      "   ----------------------------- ---------- 32.8/44.8 MB 6.0 MB/s eta 0:00:03\n",
      "   ------------------------------ --------- 34.3/44.8 MB 6.0 MB/s eta 0:00:02\n",
      "   ------------------------------ --------- 34.6/44.8 MB 6.0 MB/s eta 0:00:02\n",
      "   -------------------------------- ------- 36.2/44.8 MB 6.0 MB/s eta 0:00:02\n",
      "   --------------------------------- ------ 37.2/44.8 MB 5.9 MB/s eta 0:00:02\n",
      "   ---------------------------------- ----- 38.3/44.8 MB 5.9 MB/s eta 0:00:02\n",
      "   ----------------------------------- ---- 39.3/44.8 MB 5.9 MB/s eta 0:00:01\n",
      "   ------------------------------------ --- 40.4/44.8 MB 5.8 MB/s eta 0:00:01\n",
      "   ------------------------------------- -- 41.7/44.8 MB 5.9 MB/s eta 0:00:01\n",
      "   ------------------------------------- -- 41.9/44.8 MB 5.9 MB/s eta 0:00:01\n",
      "   ------------------------------------- -- 41.9/44.8 MB 5.9 MB/s eta 0:00:01\n",
      "   -------------------------------------- - 43.3/44.8 MB 5.6 MB/s eta 0:00:01\n",
      "   ---------------------------------------  44.0/44.8 MB 5.6 MB/s eta 0:00:01\n",
      "   ---------------------------------------  44.6/44.8 MB 5.5 MB/s eta 0:00:01\n",
      "   ---------------------------------------  44.6/44.8 MB 5.5 MB/s eta 0:00:01\n",
      "   ---------------------------------------  44.6/44.8 MB 5.5 MB/s eta 0:00:01\n",
      "   ---------------------------------------  44.6/44.8 MB 5.5 MB/s eta 0:00:01\n",
      "   ---------------------------------------  44.6/44.8 MB 5.5 MB/s eta 0:00:01\n",
      "   ---------------------------------------- 44.8/44.8 MB 4.8 MB/s eta 0:00:00\n",
      "Downloading threadpoolctl-3.5.0-py3-none-any.whl (18 kB)\n",
      "Installing collected packages: threadpoolctl, scipy, joblib, scikit-learn\n",
      "Successfully installed joblib-1.4.2 scikit-learn-1.5.2 scipy-1.14.1 threadpoolctl-3.5.0\n"
     ]
    }
   ],
   "source": [
    "pip install scikit-learn"
   ]
  },
  {
   "cell_type": "code",
   "execution_count": 11,
   "metadata": {},
   "outputs": [
    {
     "name": "stdout",
     "output_type": "stream",
     "text": [
      "Collecting imbalanced-learn\n",
      "  Downloading imbalanced_learn-0.12.4-py3-none-any.whl.metadata (8.3 kB)\n",
      "Requirement already satisfied: numpy>=1.17.3 in c:\\users\\user\\anaconda3\\envs\\myenv\\lib\\site-packages (from imbalanced-learn) (2.1.3)\n",
      "Requirement already satisfied: scipy>=1.5.0 in c:\\users\\user\\anaconda3\\envs\\myenv\\lib\\site-packages (from imbalanced-learn) (1.14.1)\n",
      "Requirement already satisfied: scikit-learn>=1.0.2 in c:\\users\\user\\anaconda3\\envs\\myenv\\lib\\site-packages (from imbalanced-learn) (1.5.2)\n",
      "Requirement already satisfied: joblib>=1.1.1 in c:\\users\\user\\anaconda3\\envs\\myenv\\lib\\site-packages (from imbalanced-learn) (1.4.2)\n",
      "Requirement already satisfied: threadpoolctl>=2.0.0 in c:\\users\\user\\anaconda3\\envs\\myenv\\lib\\site-packages (from imbalanced-learn) (3.5.0)\n",
      "Downloading imbalanced_learn-0.12.4-py3-none-any.whl (258 kB)\n",
      "Installing collected packages: imbalanced-learn\n",
      "Successfully installed imbalanced-learn-0.12.4\n",
      "Note: you may need to restart the kernel to use updated packages.\n"
     ]
    }
   ],
   "source": [
    "pip install imbalanced-learn"
   ]
  },
  {
   "cell_type": "code",
   "execution_count": null,
   "metadata": {},
   "outputs": [],
   "source": []
  }
 ],
 "metadata": {
  "kernelspec": {
   "display_name": "myenv",
   "language": "python",
   "name": "python3"
  },
  "language_info": {
   "codemirror_mode": {
    "name": "ipython",
    "version": 3
   },
   "file_extension": ".py",
   "mimetype": "text/x-python",
   "name": "python",
   "nbconvert_exporter": "python",
   "pygments_lexer": "ipython3",
   "version": "3.10.15"
  }
 },
 "nbformat": 4,
 "nbformat_minor": 2
}
