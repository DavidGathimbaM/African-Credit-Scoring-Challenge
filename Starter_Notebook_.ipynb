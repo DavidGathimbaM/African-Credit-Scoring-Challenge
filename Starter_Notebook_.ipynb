{
 "cells": [
  {
   "cell_type": "markdown",
   "metadata": {
    "id": "d5GHuQ1ptcB1"
   },
   "source": [
    "# Africa Credit Challenge\n",
    "\n",
    "The goals of this `starter notebook` are:\n",
    "\n",
    "1. How to load data into a `Pandas` dataframe\n",
    "\n",
    "2. How to `train` a basic machine learning model\n",
    "\n",
    "3. How to `evaluate` the model\n",
    "\n",
    "4. How to `save` your __submission__ following the required format.\n",
    "\n",
    "<font color=\"red\"><b>Note: This is just a starter notebook. It is by no means an ideal solution.</b></font>"
   ]
  },
  {
   "cell_type": "code",
   "execution_count": 34,
   "metadata": {
    "id": "rn5lSuA7pZNS"
   },
   "outputs": [],
   "source": [
    "# Import libraries\n",
    "import pandas as pd\n",
    "import numpy as np\n",
    "import matplotlib.pyplot as plt\n",
    "import seaborn as sns\n",
    "from sklearn.preprocessing import StandardScaler, LabelEncoder\n",
    "from sklearn.linear_model import LogisticRegression\n",
    "from sklearn.metrics import classification_report, confusion_matrix\n",
    "from sklearn.metrics import ConfusionMatrixDisplay\n",
    "from sklearn.metrics import f1_score, roc_auc_score\n",
    "from sklearn.compose import ColumnTransformer\n",
    "from sklearn.preprocessing import StandardScaler\n",
    "from sklearn.ensemble import RandomForestClassifier\n",
    "from sklearn.model_selection import train_test_split\n",
    "import warnings\n",
    "warnings.filterwarnings('ignore')"
   ]
  },
  {
   "cell_type": "markdown",
   "metadata": {
    "id": "4XXM1TMkqieB"
   },
   "source": [
    "## Load and Inspect the data"
   ]
  },
  {
   "cell_type": "code",
   "execution_count": 4,
   "metadata": {
    "colab": {
     "base_uri": "https://localhost:8080/",
     "height": 660
    },
    "id": "oilPceniqg3H",
    "outputId": "bd1f829a-8e7f-4dd9-da09-257b365205cb"
   },
   "outputs": [
    {
     "data": {
      "text/plain": [
       "'Train'"
      ]
     },
     "metadata": {},
     "output_type": "display_data"
    },
    {
     "data": {
      "text/html": [
       "<div>\n",
       "<style scoped>\n",
       "    .dataframe tbody tr th:only-of-type {\n",
       "        vertical-align: middle;\n",
       "    }\n",
       "\n",
       "    .dataframe tbody tr th {\n",
       "        vertical-align: top;\n",
       "    }\n",
       "\n",
       "    .dataframe thead th {\n",
       "        text-align: right;\n",
       "    }\n",
       "</style>\n",
       "<table border=\"1\" class=\"dataframe\">\n",
       "  <thead>\n",
       "    <tr style=\"text-align: right;\">\n",
       "      <th></th>\n",
       "      <th>ID</th>\n",
       "      <th>customer_id</th>\n",
       "      <th>country_id</th>\n",
       "      <th>tbl_loan_id</th>\n",
       "      <th>lender_id</th>\n",
       "      <th>loan_type</th>\n",
       "      <th>Total_Amount</th>\n",
       "      <th>Total_Amount_to_Repay</th>\n",
       "      <th>disbursement_date</th>\n",
       "      <th>due_date</th>\n",
       "      <th>duration</th>\n",
       "      <th>New_versus_Repeat</th>\n",
       "      <th>Amount_Funded_By_Lender</th>\n",
       "      <th>Lender_portion_Funded</th>\n",
       "      <th>Lender_portion_to_be_repaid</th>\n",
       "      <th>target</th>\n",
       "    </tr>\n",
       "  </thead>\n",
       "  <tbody>\n",
       "    <tr>\n",
       "      <th>0</th>\n",
       "      <td>ID_266671248032267278</td>\n",
       "      <td>266671</td>\n",
       "      <td>Kenya</td>\n",
       "      <td>248032</td>\n",
       "      <td>267278</td>\n",
       "      <td>Type_1</td>\n",
       "      <td>8448.0</td>\n",
       "      <td>8448.0</td>\n",
       "      <td>2022-08-30</td>\n",
       "      <td>2022-09-06</td>\n",
       "      <td>7</td>\n",
       "      <td>Repeat Loan</td>\n",
       "      <td>120.85</td>\n",
       "      <td>0.014305</td>\n",
       "      <td>121.0</td>\n",
       "      <td>0</td>\n",
       "    </tr>\n",
       "    <tr>\n",
       "      <th>1</th>\n",
       "      <td>ID_248919228515267278</td>\n",
       "      <td>248919</td>\n",
       "      <td>Kenya</td>\n",
       "      <td>228515</td>\n",
       "      <td>267278</td>\n",
       "      <td>Type_1</td>\n",
       "      <td>25895.0</td>\n",
       "      <td>25979.0</td>\n",
       "      <td>2022-07-30</td>\n",
       "      <td>2022-08-06</td>\n",
       "      <td>7</td>\n",
       "      <td>Repeat Loan</td>\n",
       "      <td>7768.50</td>\n",
       "      <td>0.300000</td>\n",
       "      <td>7794.0</td>\n",
       "      <td>0</td>\n",
       "    </tr>\n",
       "    <tr>\n",
       "      <th>2</th>\n",
       "      <td>ID_308486370501251804</td>\n",
       "      <td>308486</td>\n",
       "      <td>Kenya</td>\n",
       "      <td>370501</td>\n",
       "      <td>251804</td>\n",
       "      <td>Type_7</td>\n",
       "      <td>6900.0</td>\n",
       "      <td>7142.0</td>\n",
       "      <td>2024-09-06</td>\n",
       "      <td>2024-09-13</td>\n",
       "      <td>7</td>\n",
       "      <td>Repeat Loan</td>\n",
       "      <td>1380.00</td>\n",
       "      <td>0.200000</td>\n",
       "      <td>1428.0</td>\n",
       "      <td>0</td>\n",
       "    </tr>\n",
       "    <tr>\n",
       "      <th>3</th>\n",
       "      <td>ID_266004285009267278</td>\n",
       "      <td>266004</td>\n",
       "      <td>Kenya</td>\n",
       "      <td>285009</td>\n",
       "      <td>267278</td>\n",
       "      <td>Type_1</td>\n",
       "      <td>8958.0</td>\n",
       "      <td>9233.0</td>\n",
       "      <td>2022-10-20</td>\n",
       "      <td>2022-10-27</td>\n",
       "      <td>7</td>\n",
       "      <td>Repeat Loan</td>\n",
       "      <td>2687.40</td>\n",
       "      <td>0.300000</td>\n",
       "      <td>2770.0</td>\n",
       "      <td>0</td>\n",
       "    </tr>\n",
       "    <tr>\n",
       "      <th>4</th>\n",
       "      <td>ID_253803305312267278</td>\n",
       "      <td>253803</td>\n",
       "      <td>Kenya</td>\n",
       "      <td>305312</td>\n",
       "      <td>267278</td>\n",
       "      <td>Type_1</td>\n",
       "      <td>4564.0</td>\n",
       "      <td>4728.0</td>\n",
       "      <td>2022-11-28</td>\n",
       "      <td>2022-12-05</td>\n",
       "      <td>7</td>\n",
       "      <td>Repeat Loan</td>\n",
       "      <td>1369.20</td>\n",
       "      <td>0.300000</td>\n",
       "      <td>1418.0</td>\n",
       "      <td>0</td>\n",
       "    </tr>\n",
       "  </tbody>\n",
       "</table>\n",
       "</div>"
      ],
      "text/plain": [
       "                      ID  customer_id country_id  tbl_loan_id  lender_id  \\\n",
       "0  ID_266671248032267278       266671      Kenya       248032     267278   \n",
       "1  ID_248919228515267278       248919      Kenya       228515     267278   \n",
       "2  ID_308486370501251804       308486      Kenya       370501     251804   \n",
       "3  ID_266004285009267278       266004      Kenya       285009     267278   \n",
       "4  ID_253803305312267278       253803      Kenya       305312     267278   \n",
       "\n",
       "  loan_type  Total_Amount  Total_Amount_to_Repay disbursement_date  \\\n",
       "0    Type_1        8448.0                 8448.0        2022-08-30   \n",
       "1    Type_1       25895.0                25979.0        2022-07-30   \n",
       "2    Type_7        6900.0                 7142.0        2024-09-06   \n",
       "3    Type_1        8958.0                 9233.0        2022-10-20   \n",
       "4    Type_1        4564.0                 4728.0        2022-11-28   \n",
       "\n",
       "     due_date  duration New_versus_Repeat  Amount_Funded_By_Lender  \\\n",
       "0  2022-09-06         7       Repeat Loan                   120.85   \n",
       "1  2022-08-06         7       Repeat Loan                  7768.50   \n",
       "2  2024-09-13         7       Repeat Loan                  1380.00   \n",
       "3  2022-10-27         7       Repeat Loan                  2687.40   \n",
       "4  2022-12-05         7       Repeat Loan                  1369.20   \n",
       "\n",
       "   Lender_portion_Funded  Lender_portion_to_be_repaid  target  \n",
       "0               0.014305                        121.0       0  \n",
       "1               0.300000                       7794.0       0  \n",
       "2               0.200000                       1428.0       0  \n",
       "3               0.300000                       2770.0       0  \n",
       "4               0.300000                       1418.0       0  "
      ]
     },
     "metadata": {},
     "output_type": "display_data"
    },
    {
     "data": {
      "text/plain": [
       "(68654, 16)"
      ]
     },
     "metadata": {},
     "output_type": "display_data"
    },
    {
     "data": {
      "text/plain": [
       "'Test'"
      ]
     },
     "metadata": {},
     "output_type": "display_data"
    },
    {
     "data": {
      "text/html": [
       "<div>\n",
       "<style scoped>\n",
       "    .dataframe tbody tr th:only-of-type {\n",
       "        vertical-align: middle;\n",
       "    }\n",
       "\n",
       "    .dataframe tbody tr th {\n",
       "        vertical-align: top;\n",
       "    }\n",
       "\n",
       "    .dataframe thead th {\n",
       "        text-align: right;\n",
       "    }\n",
       "</style>\n",
       "<table border=\"1\" class=\"dataframe\">\n",
       "  <thead>\n",
       "    <tr style=\"text-align: right;\">\n",
       "      <th></th>\n",
       "      <th>ID</th>\n",
       "      <th>customer_id</th>\n",
       "      <th>country_id</th>\n",
       "      <th>tbl_loan_id</th>\n",
       "      <th>lender_id</th>\n",
       "      <th>loan_type</th>\n",
       "      <th>Total_Amount</th>\n",
       "      <th>Total_Amount_to_Repay</th>\n",
       "      <th>disbursement_date</th>\n",
       "      <th>due_date</th>\n",
       "      <th>duration</th>\n",
       "      <th>New_versus_Repeat</th>\n",
       "      <th>Amount_Funded_By_Lender</th>\n",
       "      <th>Lender_portion_Funded</th>\n",
       "      <th>Lender_portion_to_be_repaid</th>\n",
       "    </tr>\n",
       "  </thead>\n",
       "  <tbody>\n",
       "    <tr>\n",
       "      <th>0</th>\n",
       "      <td>ID_269404226088267278</td>\n",
       "      <td>269404</td>\n",
       "      <td>Kenya</td>\n",
       "      <td>226088</td>\n",
       "      <td>267278</td>\n",
       "      <td>Type_1</td>\n",
       "      <td>1919.0</td>\n",
       "      <td>1989.0</td>\n",
       "      <td>2022-07-27</td>\n",
       "      <td>2022-08-03</td>\n",
       "      <td>7</td>\n",
       "      <td>Repeat Loan</td>\n",
       "      <td>575.7</td>\n",
       "      <td>0.300000</td>\n",
       "      <td>597.0</td>\n",
       "    </tr>\n",
       "    <tr>\n",
       "      <th>1</th>\n",
       "      <td>ID_255356300042267278</td>\n",
       "      <td>255356</td>\n",
       "      <td>Kenya</td>\n",
       "      <td>300042</td>\n",
       "      <td>267278</td>\n",
       "      <td>Type_1</td>\n",
       "      <td>2138.0</td>\n",
       "      <td>2153.0</td>\n",
       "      <td>2022-11-16</td>\n",
       "      <td>2022-11-23</td>\n",
       "      <td>7</td>\n",
       "      <td>Repeat Loan</td>\n",
       "      <td>0.0</td>\n",
       "      <td>0.000000</td>\n",
       "      <td>0.0</td>\n",
       "    </tr>\n",
       "    <tr>\n",
       "      <th>2</th>\n",
       "      <td>ID_257026243764267278</td>\n",
       "      <td>257026</td>\n",
       "      <td>Kenya</td>\n",
       "      <td>243764</td>\n",
       "      <td>267278</td>\n",
       "      <td>Type_1</td>\n",
       "      <td>8254.0</td>\n",
       "      <td>8304.0</td>\n",
       "      <td>2022-08-24</td>\n",
       "      <td>2022-08-31</td>\n",
       "      <td>7</td>\n",
       "      <td>Repeat Loan</td>\n",
       "      <td>207.0</td>\n",
       "      <td>0.025079</td>\n",
       "      <td>208.0</td>\n",
       "    </tr>\n",
       "    <tr>\n",
       "      <th>3</th>\n",
       "      <td>ID_264617299409267278</td>\n",
       "      <td>264617</td>\n",
       "      <td>Kenya</td>\n",
       "      <td>299409</td>\n",
       "      <td>267278</td>\n",
       "      <td>Type_1</td>\n",
       "      <td>3379.0</td>\n",
       "      <td>3379.0</td>\n",
       "      <td>2022-11-15</td>\n",
       "      <td>2022-11-22</td>\n",
       "      <td>7</td>\n",
       "      <td>Repeat Loan</td>\n",
       "      <td>1013.7</td>\n",
       "      <td>0.300000</td>\n",
       "      <td>1014.0</td>\n",
       "    </tr>\n",
       "    <tr>\n",
       "      <th>4</th>\n",
       "      <td>ID_247613296713267278</td>\n",
       "      <td>247613</td>\n",
       "      <td>Kenya</td>\n",
       "      <td>296713</td>\n",
       "      <td>267278</td>\n",
       "      <td>Type_1</td>\n",
       "      <td>120.0</td>\n",
       "      <td>120.0</td>\n",
       "      <td>2022-11-10</td>\n",
       "      <td>2022-11-17</td>\n",
       "      <td>7</td>\n",
       "      <td>Repeat Loan</td>\n",
       "      <td>36.0</td>\n",
       "      <td>0.300000</td>\n",
       "      <td>36.0</td>\n",
       "    </tr>\n",
       "  </tbody>\n",
       "</table>\n",
       "</div>"
      ],
      "text/plain": [
       "                      ID  customer_id country_id  tbl_loan_id  lender_id  \\\n",
       "0  ID_269404226088267278       269404      Kenya       226088     267278   \n",
       "1  ID_255356300042267278       255356      Kenya       300042     267278   \n",
       "2  ID_257026243764267278       257026      Kenya       243764     267278   \n",
       "3  ID_264617299409267278       264617      Kenya       299409     267278   \n",
       "4  ID_247613296713267278       247613      Kenya       296713     267278   \n",
       "\n",
       "  loan_type  Total_Amount  Total_Amount_to_Repay disbursement_date  \\\n",
       "0    Type_1        1919.0                 1989.0        2022-07-27   \n",
       "1    Type_1        2138.0                 2153.0        2022-11-16   \n",
       "2    Type_1        8254.0                 8304.0        2022-08-24   \n",
       "3    Type_1        3379.0                 3379.0        2022-11-15   \n",
       "4    Type_1         120.0                  120.0        2022-11-10   \n",
       "\n",
       "     due_date  duration New_versus_Repeat  Amount_Funded_By_Lender  \\\n",
       "0  2022-08-03         7       Repeat Loan                    575.7   \n",
       "1  2022-11-23         7       Repeat Loan                      0.0   \n",
       "2  2022-08-31         7       Repeat Loan                    207.0   \n",
       "3  2022-11-22         7       Repeat Loan                   1013.7   \n",
       "4  2022-11-17         7       Repeat Loan                     36.0   \n",
       "\n",
       "   Lender_portion_Funded  Lender_portion_to_be_repaid  \n",
       "0               0.300000                        597.0  \n",
       "1               0.000000                          0.0  \n",
       "2               0.025079                        208.0  \n",
       "3               0.300000                       1014.0  \n",
       "4               0.300000                         36.0  "
      ]
     },
     "metadata": {},
     "output_type": "display_data"
    },
    {
     "data": {
      "text/plain": [
       "(18594, 15)"
      ]
     },
     "metadata": {},
     "output_type": "display_data"
    }
   ],
   "source": [
    "# Loading the train dataset\n",
    "train = pd.read_csv('data/Train.csv')\n",
    "test = pd.read_csv('data/Test.csv')\n",
    "# Display the first few rows of the datasets and their shape\n",
    "display(\"Train\", train.head(), train.shape, \"Test\", test.head(), test.shape)"
   ]
  },
  {
   "cell_type": "code",
   "execution_count": 5,
   "metadata": {
    "colab": {
     "base_uri": "https://localhost:8080/"
    },
    "id": "oP15Xwr1rWtV",
    "outputId": "6631493f-1466-45a1-e624-c36f0cbf02da"
   },
   "outputs": [
    {
     "name": "stdout",
     "output_type": "stream",
     "text": [
      "<class 'pandas.core.frame.DataFrame'>\n",
      "RangeIndex: 68654 entries, 0 to 68653\n",
      "Data columns (total 16 columns):\n",
      " #   Column                       Non-Null Count  Dtype  \n",
      "---  ------                       --------------  -----  \n",
      " 0   ID                           68654 non-null  object \n",
      " 1   customer_id                  68654 non-null  int64  \n",
      " 2   country_id                   68654 non-null  object \n",
      " 3   tbl_loan_id                  68654 non-null  int64  \n",
      " 4   lender_id                    68654 non-null  int64  \n",
      " 5   loan_type                    68654 non-null  object \n",
      " 6   Total_Amount                 68654 non-null  float64\n",
      " 7   Total_Amount_to_Repay        68654 non-null  float64\n",
      " 8   disbursement_date            68654 non-null  object \n",
      " 9   due_date                     68654 non-null  object \n",
      " 10  duration                     68654 non-null  int64  \n",
      " 11  New_versus_Repeat            68654 non-null  object \n",
      " 12  Amount_Funded_By_Lender      68654 non-null  float64\n",
      " 13  Lender_portion_Funded        68654 non-null  float64\n",
      " 14  Lender_portion_to_be_repaid  68654 non-null  float64\n",
      " 15  target                       68654 non-null  int64  \n",
      "dtypes: float64(5), int64(5), object(6)\n",
      "memory usage: 8.4+ MB\n"
     ]
    }
   ],
   "source": [
    "# Check column types & missing values\n",
    "train.info()"
   ]
  },
  {
   "cell_type": "code",
   "execution_count": 6,
   "metadata": {
    "colab": {
     "base_uri": "https://localhost:8080/"
    },
    "id": "m2iSLCpUrjRo",
    "outputId": "d1401dee-885b-4955-f6b1-b888bdf489db"
   },
   "outputs": [
    {
     "name": "stdout",
     "output_type": "stream",
     "text": [
      "There are 0 missing values in the data.\n"
     ]
    }
   ],
   "source": [
    "# Are there missing values in the train dataset ?\n",
    "print(f\"There are {train.isna().sum().sum()} missing values in the data.\")"
   ]
  },
  {
   "cell_type": "code",
   "execution_count": 7,
   "metadata": {},
   "outputs": [
    {
     "name": "stdout",
     "output_type": "stream",
     "text": [
      "<class 'pandas.core.frame.DataFrame'>\n",
      "RangeIndex: 18594 entries, 0 to 18593\n",
      "Data columns (total 15 columns):\n",
      " #   Column                       Non-Null Count  Dtype  \n",
      "---  ------                       --------------  -----  \n",
      " 0   ID                           18594 non-null  object \n",
      " 1   customer_id                  18594 non-null  int64  \n",
      " 2   country_id                   18594 non-null  object \n",
      " 3   tbl_loan_id                  18594 non-null  int64  \n",
      " 4   lender_id                    18594 non-null  int64  \n",
      " 5   loan_type                    18594 non-null  object \n",
      " 6   Total_Amount                 18594 non-null  float64\n",
      " 7   Total_Amount_to_Repay        18594 non-null  float64\n",
      " 8   disbursement_date            18594 non-null  object \n",
      " 9   due_date                     18594 non-null  object \n",
      " 10  duration                     18594 non-null  int64  \n",
      " 11  New_versus_Repeat            18594 non-null  object \n",
      " 12  Amount_Funded_By_Lender      18594 non-null  float64\n",
      " 13  Lender_portion_Funded        18594 non-null  float64\n",
      " 14  Lender_portion_to_be_repaid  18594 non-null  float64\n",
      "dtypes: float64(5), int64(4), object(6)\n",
      "memory usage: 2.1+ MB\n"
     ]
    }
   ],
   "source": [
    "# Check column types & missing values\n",
    "test.info()"
   ]
  },
  {
   "cell_type": "code",
   "execution_count": 8,
   "metadata": {},
   "outputs": [
    {
     "name": "stdout",
     "output_type": "stream",
     "text": [
      "There are 0 missing values in the data.\n"
     ]
    }
   ],
   "source": [
    "# Are there missing values in the train dataset ?\n",
    "print(f\"There are {train.isna().sum().sum()} missing values in the data.\")"
   ]
  },
  {
   "cell_type": "code",
   "execution_count": 14,
   "metadata": {},
   "outputs": [
    {
     "data": {
      "text/plain": [
       "{'loan_type': ['Type_1',\n",
       "  'Type_7',\n",
       "  'Type_5',\n",
       "  'Type_4',\n",
       "  'Type_6',\n",
       "  'Type_14',\n",
       "  'Type_9',\n",
       "  'Type_10',\n",
       "  'Type_19',\n",
       "  'Type_16',\n",
       "  'Type_2',\n",
       "  'Type_11',\n",
       "  'Type_23',\n",
       "  'Type_18',\n",
       "  'Type_17',\n",
       "  'Type_12',\n",
       "  'Type_20',\n",
       "  'Type_13',\n",
       "  'Type_21',\n",
       "  'Type_15',\n",
       "  'Type_24',\n",
       "  'Type_22'],\n",
       " 'New_versus_Repeat': ['Repeat Loan', 'New Loan'],\n",
       " 'country_id': ['Kenya']}"
      ]
     },
     "execution_count": 14,
     "metadata": {},
     "output_type": "execute_result"
    }
   ],
   "source": [
    "# Inspect unique values in categorical columns\n",
    "categorical_columns = ['loan_type', 'New_versus_Repeat', 'country_id']\n",
    "unique_values = {col: train[col].unique().tolist() for col in categorical_columns}\n",
    "unique_values"
   ]
  },
  {
   "cell_type": "code",
   "execution_count": 13,
   "metadata": {},
   "outputs": [
    {
     "data": {
      "text/plain": [
       "{'loan_type': ['Type_1',\n",
       "  'Type_7',\n",
       "  'Type_3',\n",
       "  'Type_2',\n",
       "  'Type_10',\n",
       "  'Type_6',\n",
       "  'Type_23',\n",
       "  'Type_14',\n",
       "  'Type_5',\n",
       "  'Type_4',\n",
       "  'Type_17',\n",
       "  'Type_9',\n",
       "  'Type_12',\n",
       "  'Type_8',\n",
       "  'Type_11',\n",
       "  'Type_18',\n",
       "  'Type_24',\n",
       "  'Type_22',\n",
       "  'Type_20',\n",
       "  'Type_15',\n",
       "  'Type_21',\n",
       "  'Type_13'],\n",
       " 'New_versus_Repeat': ['Repeat Loan', 'New Loan'],\n",
       " 'country_id': ['Kenya', 'Ghana']}"
      ]
     },
     "execution_count": 13,
     "metadata": {},
     "output_type": "execute_result"
    }
   ],
   "source": [
    "# Inspect unique values in categorical columns\n",
    "categorical_columns = ['loan_type', 'New_versus_Repeat', 'country_id']\n",
    "unique_values1 = {col: test[col].unique().tolist() for col in categorical_columns}\n",
    "unique_values1"
   ]
  },
  {
   "cell_type": "code",
   "execution_count": 15,
   "metadata": {},
   "outputs": [],
   "source": [
    "# Convert dates to datetime format\n",
    "train['disbursement_date'] = pd.to_datetime(train['disbursement_date'], errors='coerce')\n",
    "train['due_date'] = pd.to_datetime(train['due_date'], errors='coerce')"
   ]
  },
  {
   "cell_type": "code",
   "execution_count": 16,
   "metadata": {},
   "outputs": [],
   "source": [
    "# Check for invalid date conversions\n",
    "invalid_dates = {\n",
    "    \"Disbursement Date\": train['disbursement_date'].isnull().sum(),\n",
    "    \"Due Date\": train['due_date'].isnull().sum()\n",
    "}"
   ]
  },
  {
   "cell_type": "code",
   "execution_count": 17,
   "metadata": {},
   "outputs": [],
   "source": [
    "# Explore the target distribution\n",
    "target_distribution = train['target'].value_counts(normalize=True).to_dict()"
   ]
  },
  {
   "cell_type": "code",
   "execution_count": 18,
   "metadata": {},
   "outputs": [
    {
     "data": {
      "text/plain": [
       "{'Unique Values in Categorical Columns': {'loan_type': ['Type_1',\n",
       "   'Type_7',\n",
       "   'Type_5',\n",
       "   'Type_4',\n",
       "   'Type_6',\n",
       "   'Type_14',\n",
       "   'Type_9',\n",
       "   'Type_10',\n",
       "   'Type_19',\n",
       "   'Type_16',\n",
       "   'Type_2',\n",
       "   'Type_11',\n",
       "   'Type_23',\n",
       "   'Type_18',\n",
       "   'Type_17',\n",
       "   'Type_12',\n",
       "   'Type_20',\n",
       "   'Type_13',\n",
       "   'Type_21',\n",
       "   'Type_15',\n",
       "   'Type_24',\n",
       "   'Type_22'],\n",
       "  'New_versus_Repeat': ['Repeat Loan', 'New Loan'],\n",
       "  'country_id': ['Kenya']},\n",
       " 'Invalid Dates Count': {'Disbursement Date': np.int64(0),\n",
       "  'Due Date': np.int64(0)},\n",
       " 'Target Distribution': {0: 0.9816762315378565, 1: 0.0183237684621435},\n",
       " 'Numerical Summary': {'Total_Amount': {'count': 68654.0,\n",
       "   'mean': 14836.82861697789,\n",
       "   'std': 141649.8683876975,\n",
       "   'min': 2.0,\n",
       "   '25%': 2295.0,\n",
       "   '50%': 5249.0,\n",
       "   '75%': 11450.0,\n",
       "   'max': 23000000.0},\n",
       "  'Total_Amount_to_Repay': {'count': 68654.0,\n",
       "   'mean': 15639.929901243919,\n",
       "   'std': 165078.35283049822,\n",
       "   'min': 0.0,\n",
       "   '25%': 2329.0,\n",
       "   '50%': 5325.0,\n",
       "   '75%': 11650.0,\n",
       "   'max': 25415000.0},\n",
       "  'duration': {'count': 68654.0,\n",
       "   'mean': 8.54458589448539,\n",
       "   'std': 13.343144977953216,\n",
       "   'min': 1.0,\n",
       "   '25%': 7.0,\n",
       "   '50%': 7.0,\n",
       "   '75%': 7.0,\n",
       "   'max': 1096.0},\n",
       "  'Amount_Funded_By_Lender': {'count': 68654.0,\n",
       "   'mean': 2545.66320389198,\n",
       "   'std': 11922.7241693049,\n",
       "   'min': 0.0,\n",
       "   '25%': 234.0,\n",
       "   '50%': 915.0,\n",
       "   '75%': 2272.65,\n",
       "   'max': 1600000.0},\n",
       "  'Lender_portion_Funded': {'count': 68654.0,\n",
       "   'mean': 0.21867889461788473,\n",
       "   'std': 0.1298319614422465,\n",
       "   'min': 0.0,\n",
       "   '25%': 0.11871205477603824,\n",
       "   '50%': 0.3,\n",
       "   '75%': 0.3,\n",
       "   'max': 1.16811916407292}}}"
      ]
     },
     "execution_count": 18,
     "metadata": {},
     "output_type": "execute_result"
    }
   ],
   "source": [
    "# Analyze numerical variables for outliers\n",
    "numerical_columns = ['Total_Amount', 'Total_Amount_to_Repay', 'duration', 'Amount_Funded_By_Lender', 'Lender_portion_Funded']\n",
    "numerical_summary = train[numerical_columns].describe().to_dict()\n",
    "\n",
    "{\n",
    "    \"Unique Values in Categorical Columns\": unique_values,\n",
    "    \"Invalid Dates Count\": invalid_dates,\n",
    "    \"Target Distribution\": target_distribution,\n",
    "    \"Numerical Summary\": numerical_summary\n",
    "}"
   ]
  },
  {
   "cell_type": "markdown",
   "metadata": {},
   "source": [
    "### Outliers"
   ]
  },
  {
   "cell_type": "code",
   "execution_count": 19,
   "metadata": {},
   "outputs": [],
   "source": [
    "# Cap Outliers for Selected Variables\n",
    "def cap_outliers(series, lower_percentile=0.01, upper_percentile=0.99):\n",
    "    lower_bound = np.percentile(series, lower_percentile * 100)\n",
    "    upper_bound = np.percentile(series, upper_percentile * 100)\n",
    "    return np.clip(series, lower_bound, upper_bound)\n"
   ]
  },
  {
   "cell_type": "code",
   "execution_count": 20,
   "metadata": {},
   "outputs": [],
   "source": [
    "train['Total_Amount_Capped'] = cap_outliers(train['Total_Amount'])\n",
    "train['Total_Amount_to_Repay_Capped'] = cap_outliers(train['Total_Amount_to_Repay'])"
   ]
  },
  {
   "cell_type": "markdown",
   "metadata": {},
   "source": [
    "### Create Derived Features"
   ]
  },
  {
   "cell_type": "code",
   "execution_count": 21,
   "metadata": {},
   "outputs": [],
   "source": [
    "# Loan tenure in days\n",
    "train['Loan_Tenure_Days'] = (train['due_date'] - train['disbursement_date']).dt.days"
   ]
  },
  {
   "cell_type": "code",
   "execution_count": 22,
   "metadata": {},
   "outputs": [],
   "source": [
    "# Repayment ratio\n",
    "train['Repayment_Ratio'] = train['Total_Amount_to_Repay'] / train['Total_Amount_Capped']\n"
   ]
  },
  {
   "cell_type": "markdown",
   "metadata": {},
   "source": [
    "### Simplify Categorical Variables"
   ]
  },
  {
   "cell_type": "code",
   "execution_count": 23,
   "metadata": {},
   "outputs": [],
   "source": [
    "# Encode 'New_versus_Repeat'\n",
    "train['New_versus_Repeat_Encoded'] = train['New_versus_Repeat'].map({'New Loan': 0, 'Repeat Loan': 1})"
   ]
  },
  {
   "cell_type": "markdown",
   "metadata": {},
   "source": [
    "### Visual Exploration"
   ]
  },
  {
   "cell_type": "code",
   "execution_count": 24,
   "metadata": {},
   "outputs": [
    {
     "data": {
      "image/png": "[encoded data removed]",
      "text/plain": [
       "<Figure size 1000x500 with 2 Axes>"
      ]
     },
     "metadata": {},
     "output_type": "display_data"
    }
   ],
   "source": [
    "# Visualize target distribution and capped features\n",
    "plt.figure(figsize=(10, 5))\n",
    "plt.subplot(1, 2, 1)\n",
    "train['target'].value_counts().plot(kind='bar', color=['blue', 'orange'])\n",
    "plt.title('Target Distribution')\n",
    "plt.xticks(ticks=[0, 1], labels=['Non-Default (0)', 'Default (1)'])\n",
    "plt.ylabel('Frequency')\n",
    "\n",
    "plt.subplot(1, 2, 2)\n",
    "train['Total_Amount_Capped'].hist(bins=50, alpha=0.7, label='Capped')\n",
    "train['Total_Amount'].hist(bins=50, alpha=0.5, label='Original')\n",
    "plt.title('Total Amount (Original vs. Capped)')\n",
    "plt.legend()\n",
    "\n",
    "plt.tight_layout()\n",
    "plt.show()"
   ]
  },
  {
   "cell_type": "code",
   "execution_count": 25,
   "metadata": {},
   "outputs": [
    {
     "data": {
      "text/html": [
       "<div>\n",
       "<style scoped>\n",
       "    .dataframe tbody tr th:only-of-type {\n",
       "        vertical-align: middle;\n",
       "    }\n",
       "\n",
       "    .dataframe tbody tr th {\n",
       "        vertical-align: top;\n",
       "    }\n",
       "\n",
       "    .dataframe thead th {\n",
       "        text-align: right;\n",
       "    }\n",
       "</style>\n",
       "<table border=\"1\" class=\"dataframe\">\n",
       "  <thead>\n",
       "    <tr style=\"text-align: right;\">\n",
       "      <th></th>\n",
       "      <th>Total_Amount_Capped</th>\n",
       "      <th>Loan_Tenure_Days</th>\n",
       "      <th>Repayment_Ratio</th>\n",
       "      <th>New_versus_Repeat_Encoded</th>\n",
       "      <th>target</th>\n",
       "    </tr>\n",
       "  </thead>\n",
       "  <tbody>\n",
       "    <tr>\n",
       "      <th>0</th>\n",
       "      <td>8448.0</td>\n",
       "      <td>7</td>\n",
       "      <td>1.000000</td>\n",
       "      <td>1</td>\n",
       "      <td>0</td>\n",
       "    </tr>\n",
       "    <tr>\n",
       "      <th>1</th>\n",
       "      <td>25895.0</td>\n",
       "      <td>7</td>\n",
       "      <td>1.003244</td>\n",
       "      <td>1</td>\n",
       "      <td>0</td>\n",
       "    </tr>\n",
       "    <tr>\n",
       "      <th>2</th>\n",
       "      <td>6900.0</td>\n",
       "      <td>7</td>\n",
       "      <td>1.035072</td>\n",
       "      <td>1</td>\n",
       "      <td>0</td>\n",
       "    </tr>\n",
       "    <tr>\n",
       "      <th>3</th>\n",
       "      <td>8958.0</td>\n",
       "      <td>7</td>\n",
       "      <td>1.030699</td>\n",
       "      <td>1</td>\n",
       "      <td>0</td>\n",
       "    </tr>\n",
       "    <tr>\n",
       "      <th>4</th>\n",
       "      <td>4564.0</td>\n",
       "      <td>7</td>\n",
       "      <td>1.035933</td>\n",
       "      <td>1</td>\n",
       "      <td>0</td>\n",
       "    </tr>\n",
       "  </tbody>\n",
       "</table>\n",
       "</div>"
      ],
      "text/plain": [
       "   Total_Amount_Capped  Loan_Tenure_Days  Repayment_Ratio  \\\n",
       "0               8448.0                 7         1.000000   \n",
       "1              25895.0                 7         1.003244   \n",
       "2               6900.0                 7         1.035072   \n",
       "3               8958.0                 7         1.030699   \n",
       "4               4564.0                 7         1.035933   \n",
       "\n",
       "   New_versus_Repeat_Encoded  target  \n",
       "0                          1       0  \n",
       "1                          1       0  \n",
       "2                          1       0  \n",
       "3                          1       0  \n",
       "4                          1       0  "
      ]
     },
     "execution_count": 25,
     "metadata": {},
     "output_type": "execute_result"
    }
   ],
   "source": [
    "# Display sample of engineered data\n",
    "train[['Total_Amount_Capped', 'Loan_Tenure_Days', 'Repayment_Ratio', 'New_versus_Repeat_Encoded', 'target']].head()"
   ]
  },
  {
   "cell_type": "markdown",
   "metadata": {},
   "source": [
    "### Correlation matrix"
   ]
  },
  {
   "cell_type": "code",
   "execution_count": 28,
   "metadata": {},
   "outputs": [],
   "source": [
    "# Correlation Analysis\n",
    "numeric_columns = train.select_dtypes(include=['float64', 'int64']).columns\n",
    "correlation_matrix = train[numeric_columns].corr()"
   ]
  },
  {
   "cell_type": "code",
   "execution_count": 29,
   "metadata": {},
   "outputs": [
    {
     "data": {
      "image/png": "[encoded data removed]",
      "text/plain": [
       "<Figure size 1000x800 with 2 Axes>"
      ]
     },
     "metadata": {},
     "output_type": "display_data"
    },
    {
     "data": {
      "text/html": [
       "<div>\n",
       "<style scoped>\n",
       "    .dataframe tbody tr th:only-of-type {\n",
       "        vertical-align: middle;\n",
       "    }\n",
       "\n",
       "    .dataframe tbody tr th {\n",
       "        vertical-align: top;\n",
       "    }\n",
       "\n",
       "    .dataframe thead th {\n",
       "        text-align: right;\n",
       "    }\n",
       "</style>\n",
       "<table border=\"1\" class=\"dataframe\">\n",
       "  <thead>\n",
       "    <tr style=\"text-align: right;\">\n",
       "      <th></th>\n",
       "      <th>customer_id</th>\n",
       "      <th>tbl_loan_id</th>\n",
       "      <th>lender_id</th>\n",
       "      <th>Total_Amount</th>\n",
       "      <th>Total_Amount_to_Repay</th>\n",
       "      <th>duration</th>\n",
       "      <th>Amount_Funded_By_Lender</th>\n",
       "      <th>Lender_portion_Funded</th>\n",
       "      <th>Lender_portion_to_be_repaid</th>\n",
       "      <th>target</th>\n",
       "      <th>Total_Amount_Capped</th>\n",
       "      <th>Total_Amount_to_Repay_Capped</th>\n",
       "      <th>Loan_Tenure_Days</th>\n",
       "      <th>Repayment_Ratio</th>\n",
       "      <th>New_versus_Repeat_Encoded</th>\n",
       "    </tr>\n",
       "  </thead>\n",
       "  <tbody>\n",
       "    <tr>\n",
       "      <th>customer_id</th>\n",
       "      <td>1.000000</td>\n",
       "      <td>0.241670</td>\n",
       "      <td>-0.094086</td>\n",
       "      <td>0.000880</td>\n",
       "      <td>0.001162</td>\n",
       "      <td>-0.005274</td>\n",
       "      <td>-0.004126</td>\n",
       "      <td>-0.031184</td>\n",
       "      <td>-0.003058</td>\n",
       "      <td>0.030659</td>\n",
       "      <td>-0.031588</td>\n",
       "      <td>-0.031769</td>\n",
       "      <td>-0.005274</td>\n",
       "      <td>0.005035</td>\n",
       "      <td>-0.043016</td>\n",
       "    </tr>\n",
       "    <tr>\n",
       "      <th>tbl_loan_id</th>\n",
       "      <td>0.241670</td>\n",
       "      <td>1.000000</td>\n",
       "      <td>-0.099092</td>\n",
       "      <td>0.016275</td>\n",
       "      <td>0.015313</td>\n",
       "      <td>0.059921</td>\n",
       "      <td>0.004764</td>\n",
       "      <td>-0.213029</td>\n",
       "      <td>0.009076</td>\n",
       "      <td>0.035068</td>\n",
       "      <td>0.006846</td>\n",
       "      <td>0.010322</td>\n",
       "      <td>0.059921</td>\n",
       "      <td>0.015762</td>\n",
       "      <td>0.006845</td>\n",
       "    </tr>\n",
       "    <tr>\n",
       "      <th>lender_id</th>\n",
       "      <td>-0.094086</td>\n",
       "      <td>-0.099092</td>\n",
       "      <td>1.000000</td>\n",
       "      <td>-0.064935</td>\n",
       "      <td>-0.062589</td>\n",
       "      <td>-0.206143</td>\n",
       "      <td>-0.074546</td>\n",
       "      <td>-0.016221</td>\n",
       "      <td>-0.074143</td>\n",
       "      <td>-0.166202</td>\n",
       "      <td>-0.190588</td>\n",
       "      <td>-0.199138</td>\n",
       "      <td>-0.206143</td>\n",
       "      <td>-0.047666</td>\n",
       "      <td>0.130652</td>\n",
       "    </tr>\n",
       "    <tr>\n",
       "      <th>Total_Amount</th>\n",
       "      <td>0.000880</td>\n",
       "      <td>0.016275</td>\n",
       "      <td>-0.064935</td>\n",
       "      <td>1.000000</td>\n",
       "      <td>0.996759</td>\n",
       "      <td>0.354523</td>\n",
       "      <td>0.420987</td>\n",
       "      <td>-0.038000</td>\n",
       "      <td>0.426856</td>\n",
       "      <td>0.086043</td>\n",
       "      <td>0.282248</td>\n",
       "      <td>0.281259</td>\n",
       "      <td>0.354523</td>\n",
       "      <td>0.987671</td>\n",
       "      <td>-0.000212</td>\n",
       "    </tr>\n",
       "    <tr>\n",
       "      <th>Total_Amount_to_Repay</th>\n",
       "      <td>0.001162</td>\n",
       "      <td>0.015313</td>\n",
       "      <td>-0.062589</td>\n",
       "      <td>0.996759</td>\n",
       "      <td>1.000000</td>\n",
       "      <td>0.371108</td>\n",
       "      <td>0.410123</td>\n",
       "      <td>-0.036009</td>\n",
       "      <td>0.418614</td>\n",
       "      <td>0.087089</td>\n",
       "      <td>0.264236</td>\n",
       "      <td>0.263647</td>\n",
       "      <td>0.371108</td>\n",
       "      <td>0.993101</td>\n",
       "      <td>-0.000732</td>\n",
       "    </tr>\n",
       "    <tr>\n",
       "      <th>duration</th>\n",
       "      <td>-0.005274</td>\n",
       "      <td>0.059921</td>\n",
       "      <td>-0.206143</td>\n",
       "      <td>0.354523</td>\n",
       "      <td>0.371108</td>\n",
       "      <td>1.000000</td>\n",
       "      <td>0.364851</td>\n",
       "      <td>-0.019972</td>\n",
       "      <td>0.394855</td>\n",
       "      <td>0.189889</td>\n",
       "      <td>0.395558</td>\n",
       "      <td>0.406177</td>\n",
       "      <td>1.000000</td>\n",
       "      <td>0.337176</td>\n",
       "      <td>-0.057177</td>\n",
       "    </tr>\n",
       "    <tr>\n",
       "      <th>Amount_Funded_By_Lender</th>\n",
       "      <td>-0.004126</td>\n",
       "      <td>0.004764</td>\n",
       "      <td>-0.074546</td>\n",
       "      <td>0.420987</td>\n",
       "      <td>0.410123</td>\n",
       "      <td>0.364851</td>\n",
       "      <td>1.000000</td>\n",
       "      <td>0.093573</td>\n",
       "      <td>0.997542</td>\n",
       "      <td>0.101845</td>\n",
       "      <td>0.436627</td>\n",
       "      <td>0.435142</td>\n",
       "      <td>0.364851</td>\n",
       "      <td>0.370444</td>\n",
       "      <td>-0.006747</td>\n",
       "    </tr>\n",
       "    <tr>\n",
       "      <th>Lender_portion_Funded</th>\n",
       "      <td>-0.031184</td>\n",
       "      <td>-0.213029</td>\n",
       "      <td>-0.016221</td>\n",
       "      <td>-0.038000</td>\n",
       "      <td>-0.036009</td>\n",
       "      <td>-0.019972</td>\n",
       "      <td>0.093573</td>\n",
       "      <td>1.000000</td>\n",
       "      <td>0.085730</td>\n",
       "      <td>0.045418</td>\n",
       "      <td>-0.107272</td>\n",
       "      <td>-0.107084</td>\n",
       "      <td>-0.019972</td>\n",
       "      <td>-0.025168</td>\n",
       "      <td>-0.090109</td>\n",
       "    </tr>\n",
       "    <tr>\n",
       "      <th>Lender_portion_to_be_repaid</th>\n",
       "      <td>-0.003058</td>\n",
       "      <td>0.009076</td>\n",
       "      <td>-0.074143</td>\n",
       "      <td>0.426856</td>\n",
       "      <td>0.418614</td>\n",
       "      <td>0.394855</td>\n",
       "      <td>0.997542</td>\n",
       "      <td>0.085730</td>\n",
       "      <td>1.000000</td>\n",
       "      <td>0.109517</td>\n",
       "      <td>0.418777</td>\n",
       "      <td>0.418098</td>\n",
       "      <td>0.394855</td>\n",
       "      <td>0.381334</td>\n",
       "      <td>-0.008177</td>\n",
       "    </tr>\n",
       "    <tr>\n",
       "      <th>target</th>\n",
       "      <td>0.030659</td>\n",
       "      <td>0.035068</td>\n",
       "      <td>-0.166202</td>\n",
       "      <td>0.086043</td>\n",
       "      <td>0.087089</td>\n",
       "      <td>0.189889</td>\n",
       "      <td>0.101845</td>\n",
       "      <td>0.045418</td>\n",
       "      <td>0.109517</td>\n",
       "      <td>1.000000</td>\n",
       "      <td>0.103314</td>\n",
       "      <td>0.123267</td>\n",
       "      <td>0.189889</td>\n",
       "      <td>0.099838</td>\n",
       "      <td>-0.130334</td>\n",
       "    </tr>\n",
       "    <tr>\n",
       "      <th>Total_Amount_Capped</th>\n",
       "      <td>-0.031588</td>\n",
       "      <td>0.006846</td>\n",
       "      <td>-0.190588</td>\n",
       "      <td>0.282248</td>\n",
       "      <td>0.264236</td>\n",
       "      <td>0.395558</td>\n",
       "      <td>0.436627</td>\n",
       "      <td>-0.107272</td>\n",
       "      <td>0.418777</td>\n",
       "      <td>0.103314</td>\n",
       "      <td>1.000000</td>\n",
       "      <td>0.998510</td>\n",
       "      <td>0.395558</td>\n",
       "      <td>0.158635</td>\n",
       "      <td>0.008938</td>\n",
       "    </tr>\n",
       "    <tr>\n",
       "      <th>Total_Amount_to_Repay_Capped</th>\n",
       "      <td>-0.031769</td>\n",
       "      <td>0.010322</td>\n",
       "      <td>-0.199138</td>\n",
       "      <td>0.281259</td>\n",
       "      <td>0.263647</td>\n",
       "      <td>0.406177</td>\n",
       "      <td>0.435142</td>\n",
       "      <td>-0.107084</td>\n",
       "      <td>0.418098</td>\n",
       "      <td>0.123267</td>\n",
       "      <td>0.998510</td>\n",
       "      <td>1.000000</td>\n",
       "      <td>0.406177</td>\n",
       "      <td>0.159040</td>\n",
       "      <td>0.007015</td>\n",
       "    </tr>\n",
       "    <tr>\n",
       "      <th>Loan_Tenure_Days</th>\n",
       "      <td>-0.005274</td>\n",
       "      <td>0.059921</td>\n",
       "      <td>-0.206143</td>\n",
       "      <td>0.354523</td>\n",
       "      <td>0.371108</td>\n",
       "      <td>1.000000</td>\n",
       "      <td>0.364851</td>\n",
       "      <td>-0.019972</td>\n",
       "      <td>0.394855</td>\n",
       "      <td>0.189889</td>\n",
       "      <td>0.395558</td>\n",
       "      <td>0.406177</td>\n",
       "      <td>1.000000</td>\n",
       "      <td>0.337176</td>\n",
       "      <td>-0.057177</td>\n",
       "    </tr>\n",
       "    <tr>\n",
       "      <th>Repayment_Ratio</th>\n",
       "      <td>0.005035</td>\n",
       "      <td>0.015762</td>\n",
       "      <td>-0.047666</td>\n",
       "      <td>0.987671</td>\n",
       "      <td>0.993101</td>\n",
       "      <td>0.337176</td>\n",
       "      <td>0.370444</td>\n",
       "      <td>-0.025168</td>\n",
       "      <td>0.381334</td>\n",
       "      <td>0.099838</td>\n",
       "      <td>0.158635</td>\n",
       "      <td>0.159040</td>\n",
       "      <td>0.337176</td>\n",
       "      <td>1.000000</td>\n",
       "      <td>-0.004045</td>\n",
       "    </tr>\n",
       "    <tr>\n",
       "      <th>New_versus_Repeat_Encoded</th>\n",
       "      <td>-0.043016</td>\n",
       "      <td>0.006845</td>\n",
       "      <td>0.130652</td>\n",
       "      <td>-0.000212</td>\n",
       "      <td>-0.000732</td>\n",
       "      <td>-0.057177</td>\n",
       "      <td>-0.006747</td>\n",
       "      <td>-0.090109</td>\n",
       "      <td>-0.008177</td>\n",
       "      <td>-0.130334</td>\n",
       "      <td>0.008938</td>\n",
       "      <td>0.007015</td>\n",
       "      <td>-0.057177</td>\n",
       "      <td>-0.004045</td>\n",
       "      <td>1.000000</td>\n",
       "    </tr>\n",
       "  </tbody>\n",
       "</table>\n",
       "</div>"
      ],
      "text/plain": [
       "                              customer_id  tbl_loan_id  lender_id  \\\n",
       "customer_id                      1.000000     0.241670  -0.094086   \n",
       "tbl_loan_id                      0.241670     1.000000  -0.099092   \n",
       "lender_id                       -0.094086    -0.099092   1.000000   \n",
       "Total_Amount                     0.000880     0.016275  -0.064935   \n",
       "Total_Amount_to_Repay            0.001162     0.015313  -0.062589   \n",
       "duration                        -0.005274     0.059921  -0.206143   \n",
       "Amount_Funded_By_Lender         -0.004126     0.004764  -0.074546   \n",
       "Lender_portion_Funded           -0.031184    -0.213029  -0.016221   \n",
       "Lender_portion_to_be_repaid     -0.003058     0.009076  -0.074143   \n",
       "target                           0.030659     0.035068  -0.166202   \n",
       "Total_Amount_Capped             -0.031588     0.006846  -0.190588   \n",
       "Total_Amount_to_Repay_Capped    -0.031769     0.010322  -0.199138   \n",
       "Loan_Tenure_Days                -0.005274     0.059921  -0.206143   \n",
       "Repayment_Ratio                  0.005035     0.015762  -0.047666   \n",
       "New_versus_Repeat_Encoded       -0.043016     0.006845   0.130652   \n",
       "\n",
       "                              Total_Amount  Total_Amount_to_Repay  duration  \\\n",
       "customer_id                       0.000880               0.001162 -0.005274   \n",
       "tbl_loan_id                       0.016275               0.015313  0.059921   \n",
       "lender_id                        -0.064935              -0.062589 -0.206143   \n",
       "Total_Amount                      1.000000               0.996759  0.354523   \n",
       "Total_Amount_to_Repay             0.996759               1.000000  0.371108   \n",
       "duration                          0.354523               0.371108  1.000000   \n",
       "Amount_Funded_By_Lender           0.420987               0.410123  0.364851   \n",
       "Lender_portion_Funded            -0.038000              -0.036009 -0.019972   \n",
       "Lender_portion_to_be_repaid       0.426856               0.418614  0.394855   \n",
       "target                            0.086043               0.087089  0.189889   \n",
       "Total_Amount_Capped               0.282248               0.264236  0.395558   \n",
       "Total_Amount_to_Repay_Capped      0.281259               0.263647  0.406177   \n",
       "Loan_Tenure_Days                  0.354523               0.371108  1.000000   \n",
       "Repayment_Ratio                   0.987671               0.993101  0.337176   \n",
       "New_versus_Repeat_Encoded        -0.000212              -0.000732 -0.057177   \n",
       "\n",
       "                              Amount_Funded_By_Lender  Lender_portion_Funded  \\\n",
       "customer_id                                 -0.004126              -0.031184   \n",
       "tbl_loan_id                                  0.004764              -0.213029   \n",
       "lender_id                                   -0.074546              -0.016221   \n",
       "Total_Amount                                 0.420987              -0.038000   \n",
       "Total_Amount_to_Repay                        0.410123              -0.036009   \n",
       "duration                                     0.364851              -0.019972   \n",
       "Amount_Funded_By_Lender                      1.000000               0.093573   \n",
       "Lender_portion_Funded                        0.093573               1.000000   \n",
       "Lender_portion_to_be_repaid                  0.997542               0.085730   \n",
       "target                                       0.101845               0.045418   \n",
       "Total_Amount_Capped                          0.436627              -0.107272   \n",
       "Total_Amount_to_Repay_Capped                 0.435142              -0.107084   \n",
       "Loan_Tenure_Days                             0.364851              -0.019972   \n",
       "Repayment_Ratio                              0.370444              -0.025168   \n",
       "New_versus_Repeat_Encoded                   -0.006747              -0.090109   \n",
       "\n",
       "                              Lender_portion_to_be_repaid    target  \\\n",
       "customer_id                                     -0.003058  0.030659   \n",
       "tbl_loan_id                                      0.009076  0.035068   \n",
       "lender_id                                       -0.074143 -0.166202   \n",
       "Total_Amount                                     0.426856  0.086043   \n",
       "Total_Amount_to_Repay                            0.418614  0.087089   \n",
       "duration                                         0.394855  0.189889   \n",
       "Amount_Funded_By_Lender                          0.997542  0.101845   \n",
       "Lender_portion_Funded                            0.085730  0.045418   \n",
       "Lender_portion_to_be_repaid                      1.000000  0.109517   \n",
       "target                                           0.109517  1.000000   \n",
       "Total_Amount_Capped                              0.418777  0.103314   \n",
       "Total_Amount_to_Repay_Capped                     0.418098  0.123267   \n",
       "Loan_Tenure_Days                                 0.394855  0.189889   \n",
       "Repayment_Ratio                                  0.381334  0.099838   \n",
       "New_versus_Repeat_Encoded                       -0.008177 -0.130334   \n",
       "\n",
       "                              Total_Amount_Capped  \\\n",
       "customer_id                             -0.031588   \n",
       "tbl_loan_id                              0.006846   \n",
       "lender_id                               -0.190588   \n",
       "Total_Amount                             0.282248   \n",
       "Total_Amount_to_Repay                    0.264236   \n",
       "duration                                 0.395558   \n",
       "Amount_Funded_By_Lender                  0.436627   \n",
       "Lender_portion_Funded                   -0.107272   \n",
       "Lender_portion_to_be_repaid              0.418777   \n",
       "target                                   0.103314   \n",
       "Total_Amount_Capped                      1.000000   \n",
       "Total_Amount_to_Repay_Capped             0.998510   \n",
       "Loan_Tenure_Days                         0.395558   \n",
       "Repayment_Ratio                          0.158635   \n",
       "New_versus_Repeat_Encoded                0.008938   \n",
       "\n",
       "                              Total_Amount_to_Repay_Capped  Loan_Tenure_Days  \\\n",
       "customer_id                                      -0.031769         -0.005274   \n",
       "tbl_loan_id                                       0.010322          0.059921   \n",
       "lender_id                                        -0.199138         -0.206143   \n",
       "Total_Amount                                      0.281259          0.354523   \n",
       "Total_Amount_to_Repay                             0.263647          0.371108   \n",
       "duration                                          0.406177          1.000000   \n",
       "Amount_Funded_By_Lender                           0.435142          0.364851   \n",
       "Lender_portion_Funded                            -0.107084         -0.019972   \n",
       "Lender_portion_to_be_repaid                       0.418098          0.394855   \n",
       "target                                            0.123267          0.189889   \n",
       "Total_Amount_Capped                               0.998510          0.395558   \n",
       "Total_Amount_to_Repay_Capped                      1.000000          0.406177   \n",
       "Loan_Tenure_Days                                  0.406177          1.000000   \n",
       "Repayment_Ratio                                   0.159040          0.337176   \n",
       "New_versus_Repeat_Encoded                         0.007015         -0.057177   \n",
       "\n",
       "                              Repayment_Ratio  New_versus_Repeat_Encoded  \n",
       "customer_id                          0.005035                  -0.043016  \n",
       "tbl_loan_id                          0.015762                   0.006845  \n",
       "lender_id                           -0.047666                   0.130652  \n",
       "Total_Amount                         0.987671                  -0.000212  \n",
       "Total_Amount_to_Repay                0.993101                  -0.000732  \n",
       "duration                             0.337176                  -0.057177  \n",
       "Amount_Funded_By_Lender              0.370444                  -0.006747  \n",
       "Lender_portion_Funded               -0.025168                  -0.090109  \n",
       "Lender_portion_to_be_repaid          0.381334                  -0.008177  \n",
       "target                               0.099838                  -0.130334  \n",
       "Total_Amount_Capped                  0.158635                   0.008938  \n",
       "Total_Amount_to_Repay_Capped         0.159040                   0.007015  \n",
       "Loan_Tenure_Days                     0.337176                  -0.057177  \n",
       "Repayment_Ratio                      1.000000                  -0.004045  \n",
       "New_versus_Repeat_Encoded           -0.004045                   1.000000  "
      ]
     },
     "execution_count": 29,
     "metadata": {},
     "output_type": "execute_result"
    }
   ],
   "source": [
    "# Plot correlation heatmap with numeric-only data\n",
    "plt.figure(figsize=(10, 8))\n",
    "sns.heatmap(correlation_matrix, annot=False, cmap='coolwarm', cbar=True, linewidths=0.5)\n",
    "plt.title('Feature Correlation Heatmap (Numeric Only)')\n",
    "plt.show()\n",
    "\n",
    "correlation_matrix"
   ]
  },
  {
   "cell_type": "markdown",
   "metadata": {},
   "source": [
    "### Prepare Data for Model Training"
   ]
  },
  {
   "cell_type": "code",
   "execution_count": 30,
   "metadata": {},
   "outputs": [],
   "source": [
    "# Selecting relevant features for the model\n",
    "feature_columns = ['Total_Amount_Capped', 'Loan_Tenure_Days', 'Repayment_Ratio', \n",
    "                   'New_versus_Repeat_Encoded', 'duration', 'Amount_Funded_By_Lender', \n",
    "                   'Lender_portion_Funded']\n",
    "\n",
    "X = train[feature_columns]\n",
    "y = train['target']"
   ]
  },
  {
   "cell_type": "code",
   "execution_count": 32,
   "metadata": {},
   "outputs": [],
   "source": [
    "# Splitting the data\n",
    "X_train, X_valid, y_train, y_valid = train_test_split(X, y, test_size=0.2, random_state=42, stratify=y)"
   ]
  },
  {
   "cell_type": "code",
   "execution_count": 33,
   "metadata": {},
   "outputs": [
    {
     "data": {
      "text/plain": [
       "{'Training Set Size': 54923,\n",
       " 'Validation Set Size': 13731,\n",
       " 'Target Distribution in Training': {0: 0.9816834477359212,\n",
       "  1: 0.0183165522640788},\n",
       " 'Target Distribution in Validation': {0: 0.9816473672711383,\n",
       "  1: 0.0183526327288617}}"
      ]
     },
     "execution_count": 33,
     "metadata": {},
     "output_type": "execute_result"
    }
   ],
   "source": [
    "# Summary of the split\n",
    "{\n",
    "    \"Training Set Size\": len(X_train),\n",
    "    \"Validation Set Size\": len(X_valid),\n",
    "    \"Target Distribution in Training\": y_train.value_counts(normalize=True).to_dict(),\n",
    "    \"Target Distribution in Validation\": y_valid.value_counts(normalize=True).to_dict()\n",
    "}"
   ]
  },
  {
   "cell_type": "markdown",
   "metadata": {},
   "source": [
    "### Standardization and normalization"
   ]
  },
  {
   "cell_type": "code",
   "execution_count": 35,
   "metadata": {},
   "outputs": [],
   "source": [
    "# Features to scale\n",
    "scaling_columns = ['Total_Amount_Capped', 'Loan_Tenure_Days', 'Repayment_Ratio', \n",
    "                   'duration', 'Amount_Funded_By_Lender', 'Lender_portion_Funded']"
   ]
  },
  {
   "cell_type": "code",
   "execution_count": 36,
   "metadata": {},
   "outputs": [],
   "source": [
    "# Initialize scaler\n",
    "scaler = StandardScaler()\n",
    "\n",
    "# Scale features\n",
    "X_train_scaled = X_train.copy()\n",
    "X_valid_scaled = X_valid.copy()\n",
    "X_train_scaled[scaling_columns] = scaler.fit_transform(X_train[scaling_columns])\n",
    "X_valid_scaled[scaling_columns] = scaler.transform(X_valid[scaling_columns])"
   ]
  },
  {
   "cell_type": "code",
   "execution_count": 37,
   "metadata": {},
   "outputs": [
    {
     "data": {
      "text/plain": [
       "{'Training Set - Scaled (Sample)':        Total_Amount_Capped  Loan_Tenure_Days  Repayment_Ratio  \\\n",
       " 8166             -0.461100         -0.116791        -0.037887   \n",
       " 30027            -0.463371         -0.116791        -0.013030   \n",
       " 380              -0.004062         -0.116791        -0.037887   \n",
       " 29448            -0.451184         -0.116791        -0.037661   \n",
       " 61352            -0.261855         -0.417895        -0.027590   \n",
       " \n",
       "        New_versus_Repeat_Encoded  duration  Amount_Funded_By_Lender  \\\n",
       " 8166                           1 -0.116791                -0.133128   \n",
       " 30027                          1 -0.116791                -0.199784   \n",
       " 380                            1 -0.116791                -0.199784   \n",
       " 29448                          1 -0.116791                -0.199784   \n",
       " 61352                          1 -0.417895                -0.065800   \n",
       " \n",
       "        Lender_portion_Funded  \n",
       " 8166                0.626549  \n",
       " 30027              -1.693291  \n",
       " 380                -1.693291  \n",
       " 29448              -1.693291  \n",
       " 61352               0.367669  ,\n",
       " 'Validation Set - Scaled (Sample)':        Total_Amount_Capped  Loan_Tenure_Days  Repayment_Ratio  \\\n",
       " 45861            -0.351645         -0.116791         0.059687   \n",
       " 28119            -0.497104         -0.116791        -0.037887   \n",
       " 37744             0.650891         -0.116791         0.092173   \n",
       " 12770            -0.144868         -0.116791        -0.037887   \n",
       " 44782             0.329840         -0.116791        -0.037887   \n",
       " \n",
       "        New_versus_Repeat_Encoded  duration  Amount_Funded_By_Lender  \\\n",
       " 45861                          1 -0.116791                -0.086896   \n",
       " 28119                          1 -0.116791                -0.148335   \n",
       " 37744                          1 -0.116791                 0.336558   \n",
       " 12770                          1 -0.116791                 0.000443   \n",
       " 44782                          1 -0.116791                 0.200952   \n",
       " \n",
       "        Lender_portion_Funded  \n",
       " 45861               0.626549  \n",
       " 28119               0.626549  \n",
       " 37744               0.626549  \n",
       " 12770               0.626549  \n",
       " 44782               0.626549  ,\n",
       " 'Scaler Parameters': {'Mean': [11173.330417675654,\n",
       "   8.551499371847859,\n",
       "   1.0553665507953232,\n",
       "   8.551499371847859,\n",
       "   2561.7157090836263,\n",
       "   0.21897514131152926],\n",
       "  'Variance': [325918595.14529043,\n",
       "   176.4763229253087,\n",
       "   2.135534741504869,\n",
       "   176.4763229253087,\n",
       "   164413957.58814564,\n",
       "   0.016723475751024175]}}"
      ]
     },
     "execution_count": 37,
     "metadata": {},
     "output_type": "execute_result"
    }
   ],
   "source": [
    "# Summary of scaled features\n",
    "scaled_summary = {\n",
    "    \"Training Set - Scaled (Sample)\": X_train_scaled.head(),\n",
    "    \"Validation Set - Scaled (Sample)\": X_valid_scaled.head(),\n",
    "    \"Scaler Parameters\": {\n",
    "        \"Mean\": scaler.mean_.tolist(),\n",
    "        \"Variance\": scaler.var_.tolist()\n",
    "    }\n",
    "}\n",
    "\n",
    "scaled_summary"
   ]
  },
  {
   "cell_type": "markdown",
   "metadata": {},
   "source": [
    "### Handle imbalances"
   ]
  },
  {
   "cell_type": "code",
   "execution_count": 38,
   "metadata": {},
   "outputs": [],
   "source": [
    "from imblearn.over_sampling import SMOTE"
   ]
  },
  {
   "cell_type": "code",
   "execution_count": 39,
   "metadata": {},
   "outputs": [],
   "source": [
    "# Addressing class imbalance using SMOTE\n",
    "smote = SMOTE(random_state=42)"
   ]
  },
  {
   "cell_type": "code",
   "execution_count": 40,
   "metadata": {},
   "outputs": [],
   "source": [
    "# Apply SMOTE on the training data\n",
    "X_train_resampled, y_train_resampled = smote.fit_resample(X_train_scaled, y_train)"
   ]
  },
  {
   "cell_type": "code",
   "execution_count": 41,
   "metadata": {},
   "outputs": [
    {
     "data": {
      "text/plain": [
       "{'Original Target Distribution': {0: 0.9816834477359212,\n",
       "  1: 0.0183165522640788},\n",
       " 'Resampled Target Distribution': {0: 0.5, 1: 0.5},\n",
       " 'Resampled Training Set Size': 107834}"
      ]
     },
     "execution_count": 41,
     "metadata": {},
     "output_type": "execute_result"
    }
   ],
   "source": [
    "# Checking the distribution of the target after resampling\n",
    "resampled_distribution = {\n",
    "    \"Original Target Distribution\": y_train.value_counts(normalize=True).to_dict(),\n",
    "    \"Resampled Target Distribution\": y_train_resampled.value_counts(normalize=True).to_dict(),\n",
    "    \"Resampled Training Set Size\": len(X_train_resampled)\n",
    "}\n",
    "\n",
    "resampled_distribution"
   ]
  },
  {
   "cell_type": "markdown",
   "metadata": {},
   "source": [
    "## Model Development"
   ]
  },
  {
   "cell_type": "code",
   "execution_count": 42,
   "metadata": {},
   "outputs": [],
   "source": [
    "# Initialize Random Forest model with class weights\n",
    "rf_model = RandomForestClassifier(class_weight={0: 0.509, 1: 27.298}, random_state=42, n_jobs=-1)"
   ]
  },
  {
   "cell_type": "code",
   "execution_count": 43,
   "metadata": {},
   "outputs": [
    {
     "data": {
      "text/html": [
       "<style>#sk-container-id-1 {\n",
       "  /* Definition of color scheme common for light and dark mode */\n",
       "  --sklearn-color-text: black;\n",
       "  --sklearn-color-line: gray;\n",
       "  /* Definition of color scheme for unfitted estimators */\n",
       "  --sklearn-color-unfitted-level-0: #fff5e6;\n",
       "  --sklearn-color-unfitted-level-1: #f6e4d2;\n",
       "  --sklearn-color-unfitted-level-2: #ffe0b3;\n",
       "  --sklearn-color-unfitted-level-3: chocolate;\n",
       "  /* Definition of color scheme for fitted estimators */\n",
       "  --sklearn-color-fitted-level-0: #f0f8ff;\n",
       "  --sklearn-color-fitted-level-1: #d4ebff;\n",
       "  --sklearn-color-fitted-level-2: #b3dbfd;\n",
       "  --sklearn-color-fitted-level-3: cornflowerblue;\n",
       "\n",
       "  /* Specific color for light theme */\n",
       "  --sklearn-color-text-on-default-background: var(--sg-text-color, var(--theme-code-foreground, var(--jp-content-font-color1, black)));\n",
       "  --sklearn-color-background: var(--sg-background-color, var(--theme-background, var(--jp-layout-color0, white)));\n",
       "  --sklearn-color-border-box: var(--sg-text-color, var(--theme-code-foreground, var(--jp-content-font-color1, black)));\n",
       "  --sklearn-color-icon: #696969;\n",
       "\n",
       "  @media (prefers-color-scheme: dark) {\n",
       "    /* Redefinition of color scheme for dark theme */\n",
       "    --sklearn-color-text-on-default-background: var(--sg-text-color, var(--theme-code-foreground, var(--jp-content-font-color1, white)));\n",
       "    --sklearn-color-background: var(--sg-background-color, var(--theme-background, var(--jp-layout-color0, #111)));\n",
       "    --sklearn-color-border-box: var(--sg-text-color, var(--theme-code-foreground, var(--jp-content-font-color1, white)));\n",
       "    --sklearn-color-icon: #878787;\n",
       "  }\n",
       "}\n",
       "\n",
       "#sk-container-id-1 {\n",
       "  color: var(--sklearn-color-text);\n",
       "}\n",
       "\n",
       "#sk-container-id-1 pre {\n",
       "  padding: 0;\n",
       "}\n",
       "\n",
       "#sk-container-id-1 input.sk-hidden--visually {\n",
       "  border: 0;\n",
       "  clip: rect(1px 1px 1px 1px);\n",
       "  clip: rect(1px, 1px, 1px, 1px);\n",
       "  height: 1px;\n",
       "  margin: -1px;\n",
       "  overflow: hidden;\n",
       "  padding: 0;\n",
       "  position: absolute;\n",
       "  width: 1px;\n",
       "}\n",
       "\n",
       "#sk-container-id-1 div.sk-dashed-wrapped {\n",
       "  border: 1px dashed var(--sklearn-color-line);\n",
       "  margin: 0 0.4em 0.5em 0.4em;\n",
       "  box-sizing: border-box;\n",
       "  padding-bottom: 0.4em;\n",
       "  background-color: var(--sklearn-color-background);\n",
       "}\n",
       "\n",
       "#sk-container-id-1 div.sk-container {\n",
       "  /* jupyter's `normalize.less` sets `[hidden] { display: none; }`\n",
       "     but bootstrap.min.css set `[hidden] { display: none !important; }`\n",
       "     so we also need the `!important` here to be able to override the\n",
       "     default hidden behavior on the sphinx rendered scikit-learn.org.\n",
       "     See: https://github.com/scikit-learn/scikit-learn/issues/21755 */\n",
       "  display: inline-block !important;\n",
       "  position: relative;\n",
       "}\n",
       "\n",
       "#sk-container-id-1 div.sk-text-repr-fallback {\n",
       "  display: none;\n",
       "}\n",
       "\n",
       "div.sk-parallel-item,\n",
       "div.sk-serial,\n",
       "div.sk-item {\n",
       "  /* draw centered vertical line to link estimators */\n",
       "  background-image: linear-gradient(var(--sklearn-color-text-on-default-background), var(--sklearn-color-text-on-default-background));\n",
       "  background-size: 2px 100%;\n",
       "  background-repeat: no-repeat;\n",
       "  background-position: center center;\n",
       "}\n",
       "\n",
       "/* Parallel-specific style estimator block */\n",
       "\n",
       "#sk-container-id-1 div.sk-parallel-item::after {\n",
       "  content: \"\";\n",
       "  width: 100%;\n",
       "  border-bottom: 2px solid var(--sklearn-color-text-on-default-background);\n",
       "  flex-grow: 1;\n",
       "}\n",
       "\n",
       "#sk-container-id-1 div.sk-parallel {\n",
       "  display: flex;\n",
       "  align-items: stretch;\n",
       "  justify-content: center;\n",
       "  background-color: var(--sklearn-color-background);\n",
       "  position: relative;\n",
       "}\n",
       "\n",
       "#sk-container-id-1 div.sk-parallel-item {\n",
       "  display: flex;\n",
       "  flex-direction: column;\n",
       "}\n",
       "\n",
       "#sk-container-id-1 div.sk-parallel-item:first-child::after {\n",
       "  align-self: flex-end;\n",
       "  width: 50%;\n",
       "}\n",
       "\n",
       "#sk-container-id-1 div.sk-parallel-item:last-child::after {\n",
       "  align-self: flex-start;\n",
       "  width: 50%;\n",
       "}\n",
       "\n",
       "#sk-container-id-1 div.sk-parallel-item:only-child::after {\n",
       "  width: 0;\n",
       "}\n",
       "\n",
       "/* Serial-specific style estimator block */\n",
       "\n",
       "#sk-container-id-1 div.sk-serial {\n",
       "  display: flex;\n",
       "  flex-direction: column;\n",
       "  align-items: center;\n",
       "  background-color: var(--sklearn-color-background);\n",
       "  padding-right: 1em;\n",
       "  padding-left: 1em;\n",
       "}\n",
       "\n",
       "\n",
       "/* Toggleable style: style used for estimator/Pipeline/ColumnTransformer box that is\n",
       "clickable and can be expanded/collapsed.\n",
       "- Pipeline and ColumnTransformer use this feature and define the default style\n",
       "- Estimators will overwrite some part of the style using the `sk-estimator` class\n",
       "*/\n",
       "\n",
       "/* Pipeline and ColumnTransformer style (default) */\n",
       "\n",
       "#sk-container-id-1 div.sk-toggleable {\n",
       "  /* Default theme specific background. It is overwritten whether we have a\n",
       "  specific estimator or a Pipeline/ColumnTransformer */\n",
       "  background-color: var(--sklearn-color-background);\n",
       "}\n",
       "\n",
       "/* Toggleable label */\n",
       "#sk-container-id-1 label.sk-toggleable__label {\n",
       "  cursor: pointer;\n",
       "  display: block;\n",
       "  width: 100%;\n",
       "  margin-bottom: 0;\n",
       "  padding: 0.5em;\n",
       "  box-sizing: border-box;\n",
       "  text-align: center;\n",
       "}\n",
       "\n",
       "#sk-container-id-1 label.sk-toggleable__label-arrow:before {\n",
       "  /* Arrow on the left of the label */\n",
       "  content: \"▸\";\n",
       "  float: left;\n",
       "  margin-right: 0.25em;\n",
       "  color: var(--sklearn-color-icon);\n",
       "}\n",
       "\n",
       "#sk-container-id-1 label.sk-toggleable__label-arrow:hover:before {\n",
       "  color: var(--sklearn-color-text);\n",
       "}\n",
       "\n",
       "/* Toggleable content - dropdown */\n",
       "\n",
       "#sk-container-id-1 div.sk-toggleable__content {\n",
       "  max-height: 0;\n",
       "  max-width: 0;\n",
       "  overflow: hidden;\n",
       "  text-align: left;\n",
       "  /* unfitted */\n",
       "  background-color: var(--sklearn-color-unfitted-level-0);\n",
       "}\n",
       "\n",
       "#sk-container-id-1 div.sk-toggleable__content.fitted {\n",
       "  /* fitted */\n",
       "  background-color: var(--sklearn-color-fitted-level-0);\n",
       "}\n",
       "\n",
       "#sk-container-id-1 div.sk-toggleable__content pre {\n",
       "  margin: 0.2em;\n",
       "  border-radius: 0.25em;\n",
       "  color: var(--sklearn-color-text);\n",
       "  /* unfitted */\n",
       "  background-color: var(--sklearn-color-unfitted-level-0);\n",
       "}\n",
       "\n",
       "#sk-container-id-1 div.sk-toggleable__content.fitted pre {\n",
       "  /* unfitted */\n",
       "  background-color: var(--sklearn-color-fitted-level-0);\n",
       "}\n",
       "\n",
       "#sk-container-id-1 input.sk-toggleable__control:checked~div.sk-toggleable__content {\n",
       "  /* Expand drop-down */\n",
       "  max-height: 200px;\n",
       "  max-width: 100%;\n",
       "  overflow: auto;\n",
       "}\n",
       "\n",
       "#sk-container-id-1 input.sk-toggleable__control:checked~label.sk-toggleable__label-arrow:before {\n",
       "  content: \"▾\";\n",
       "}\n",
       "\n",
       "/* Pipeline/ColumnTransformer-specific style */\n",
       "\n",
       "#sk-container-id-1 div.sk-label input.sk-toggleable__control:checked~label.sk-toggleable__label {\n",
       "  color: var(--sklearn-color-text);\n",
       "  background-color: var(--sklearn-color-unfitted-level-2);\n",
       "}\n",
       "\n",
       "#sk-container-id-1 div.sk-label.fitted input.sk-toggleable__control:checked~label.sk-toggleable__label {\n",
       "  background-color: var(--sklearn-color-fitted-level-2);\n",
       "}\n",
       "\n",
       "/* Estimator-specific style */\n",
       "\n",
       "/* Colorize estimator box */\n",
       "#sk-container-id-1 div.sk-estimator input.sk-toggleable__control:checked~label.sk-toggleable__label {\n",
       "  /* unfitted */\n",
       "  background-color: var(--sklearn-color-unfitted-level-2);\n",
       "}\n",
       "\n",
       "#sk-container-id-1 div.sk-estimator.fitted input.sk-toggleable__control:checked~label.sk-toggleable__label {\n",
       "  /* fitted */\n",
       "  background-color: var(--sklearn-color-fitted-level-2);\n",
       "}\n",
       "\n",
       "#sk-container-id-1 div.sk-label label.sk-toggleable__label,\n",
       "#sk-container-id-1 div.sk-label label {\n",
       "  /* The background is the default theme color */\n",
       "  color: var(--sklearn-color-text-on-default-background);\n",
       "}\n",
       "\n",
       "/* On hover, darken the color of the background */\n",
       "#sk-container-id-1 div.sk-label:hover label.sk-toggleable__label {\n",
       "  color: var(--sklearn-color-text);\n",
       "  background-color: var(--sklearn-color-unfitted-level-2);\n",
       "}\n",
       "\n",
       "/* Label box, darken color on hover, fitted */\n",
       "#sk-container-id-1 div.sk-label.fitted:hover label.sk-toggleable__label.fitted {\n",
       "  color: var(--sklearn-color-text);\n",
       "  background-color: var(--sklearn-color-fitted-level-2);\n",
       "}\n",
       "\n",
       "/* Estimator label */\n",
       "\n",
       "#sk-container-id-1 div.sk-label label {\n",
       "  font-family: monospace;\n",
       "  font-weight: bold;\n",
       "  display: inline-block;\n",
       "  line-height: 1.2em;\n",
       "}\n",
       "\n",
       "#sk-container-id-1 div.sk-label-container {\n",
       "  text-align: center;\n",
       "}\n",
       "\n",
       "/* Estimator-specific */\n",
       "#sk-container-id-1 div.sk-estimator {\n",
       "  font-family: monospace;\n",
       "  border: 1px dotted var(--sklearn-color-border-box);\n",
       "  border-radius: 0.25em;\n",
       "  box-sizing: border-box;\n",
       "  margin-bottom: 0.5em;\n",
       "  /* unfitted */\n",
       "  background-color: var(--sklearn-color-unfitted-level-0);\n",
       "}\n",
       "\n",
       "#sk-container-id-1 div.sk-estimator.fitted {\n",
       "  /* fitted */\n",
       "  background-color: var(--sklearn-color-fitted-level-0);\n",
       "}\n",
       "\n",
       "/* on hover */\n",
       "#sk-container-id-1 div.sk-estimator:hover {\n",
       "  /* unfitted */\n",
       "  background-color: var(--sklearn-color-unfitted-level-2);\n",
       "}\n",
       "\n",
       "#sk-container-id-1 div.sk-estimator.fitted:hover {\n",
       "  /* fitted */\n",
       "  background-color: var(--sklearn-color-fitted-level-2);\n",
       "}\n",
       "\n",
       "/* Specification for estimator info (e.g. \"i\" and \"?\") */\n",
       "\n",
       "/* Common style for \"i\" and \"?\" */\n",
       "\n",
       ".sk-estimator-doc-link,\n",
       "a:link.sk-estimator-doc-link,\n",
       "a:visited.sk-estimator-doc-link {\n",
       "  float: right;\n",
       "  font-size: smaller;\n",
       "  line-height: 1em;\n",
       "  font-family: monospace;\n",
       "  background-color: var(--sklearn-color-background);\n",
       "  border-radius: 1em;\n",
       "  height: 1em;\n",
       "  width: 1em;\n",
       "  text-decoration: none !important;\n",
       "  margin-left: 1ex;\n",
       "  /* unfitted */\n",
       "  border: var(--sklearn-color-unfitted-level-1) 1pt solid;\n",
       "  color: var(--sklearn-color-unfitted-level-1);\n",
       "}\n",
       "\n",
       ".sk-estimator-doc-link.fitted,\n",
       "a:link.sk-estimator-doc-link.fitted,\n",
       "a:visited.sk-estimator-doc-link.fitted {\n",
       "  /* fitted */\n",
       "  border: var(--sklearn-color-fitted-level-1) 1pt solid;\n",
       "  color: var(--sklearn-color-fitted-level-1);\n",
       "}\n",
       "\n",
       "/* On hover */\n",
       "div.sk-estimator:hover .sk-estimator-doc-link:hover,\n",
       ".sk-estimator-doc-link:hover,\n",
       "div.sk-label-container:hover .sk-estimator-doc-link:hover,\n",
       ".sk-estimator-doc-link:hover {\n",
       "  /* unfitted */\n",
       "  background-color: var(--sklearn-color-unfitted-level-3);\n",
       "  color: var(--sklearn-color-background);\n",
       "  text-decoration: none;\n",
       "}\n",
       "\n",
       "div.sk-estimator.fitted:hover .sk-estimator-doc-link.fitted:hover,\n",
       ".sk-estimator-doc-link.fitted:hover,\n",
       "div.sk-label-container:hover .sk-estimator-doc-link.fitted:hover,\n",
       ".sk-estimator-doc-link.fitted:hover {\n",
       "  /* fitted */\n",
       "  background-color: var(--sklearn-color-fitted-level-3);\n",
       "  color: var(--sklearn-color-background);\n",
       "  text-decoration: none;\n",
       "}\n",
       "\n",
       "/* Span, style for the box shown on hovering the info icon */\n",
       ".sk-estimator-doc-link span {\n",
       "  display: none;\n",
       "  z-index: 9999;\n",
       "  position: relative;\n",
       "  font-weight: normal;\n",
       "  right: .2ex;\n",
       "  padding: .5ex;\n",
       "  margin: .5ex;\n",
       "  width: min-content;\n",
       "  min-width: 20ex;\n",
       "  max-width: 50ex;\n",
       "  color: var(--sklearn-color-text);\n",
       "  box-shadow: 2pt 2pt 4pt #999;\n",
       "  /* unfitted */\n",
       "  background: var(--sklearn-color-unfitted-level-0);\n",
       "  border: .5pt solid var(--sklearn-color-unfitted-level-3);\n",
       "}\n",
       "\n",
       ".sk-estimator-doc-link.fitted span {\n",
       "  /* fitted */\n",
       "  background: var(--sklearn-color-fitted-level-0);\n",
       "  border: var(--sklearn-color-fitted-level-3);\n",
       "}\n",
       "\n",
       ".sk-estimator-doc-link:hover span {\n",
       "  display: block;\n",
       "}\n",
       "\n",
       "/* \"?\"-specific style due to the `<a>` HTML tag */\n",
       "\n",
       "#sk-container-id-1 a.estimator_doc_link {\n",
       "  float: right;\n",
       "  font-size: 1rem;\n",
       "  line-height: 1em;\n",
       "  font-family: monospace;\n",
       "  background-color: var(--sklearn-color-background);\n",
       "  border-radius: 1rem;\n",
       "  height: 1rem;\n",
       "  width: 1rem;\n",
       "  text-decoration: none;\n",
       "  /* unfitted */\n",
       "  color: var(--sklearn-color-unfitted-level-1);\n",
       "  border: var(--sklearn-color-unfitted-level-1) 1pt solid;\n",
       "}\n",
       "\n",
       "#sk-container-id-1 a.estimator_doc_link.fitted {\n",
       "  /* fitted */\n",
       "  border: var(--sklearn-color-fitted-level-1) 1pt solid;\n",
       "  color: var(--sklearn-color-fitted-level-1);\n",
       "}\n",
       "\n",
       "/* On hover */\n",
       "#sk-container-id-1 a.estimator_doc_link:hover {\n",
       "  /* unfitted */\n",
       "  background-color: var(--sklearn-color-unfitted-level-3);\n",
       "  color: var(--sklearn-color-background);\n",
       "  text-decoration: none;\n",
       "}\n",
       "\n",
       "#sk-container-id-1 a.estimator_doc_link.fitted:hover {\n",
       "  /* fitted */\n",
       "  background-color: var(--sklearn-color-fitted-level-3);\n",
       "}\n",
       "</style><div id=\"sk-container-id-1\" class=\"sk-top-container\"><div class=\"sk-text-repr-fallback\"><pre>RandomForestClassifier(class_weight={0: 0.509, 1: 27.298}, n_jobs=-1,\n",
       "                       random_state=42)</pre><b>In a Jupyter environment, please rerun this cell to show the HTML representation or trust the notebook. <br />On GitHub, the HTML representation is unable to render, please try loading this page with nbviewer.org.</b></div><div class=\"sk-container\" hidden><div class=\"sk-item\"><div class=\"sk-estimator fitted sk-toggleable\"><input class=\"sk-toggleable__control sk-hidden--visually\" id=\"sk-estimator-id-1\" type=\"checkbox\" checked><label for=\"sk-estimator-id-1\" class=\"sk-toggleable__label fitted sk-toggleable__label-arrow fitted\">&nbsp;&nbsp;RandomForestClassifier<a class=\"sk-estimator-doc-link fitted\" rel=\"noreferrer\" target=\"_blank\" href=\"https://scikit-learn.org/1.5/modules/generated/sklearn.ensemble.RandomForestClassifier.html\">?<span>Documentation for RandomForestClassifier</span></a><span class=\"sk-estimator-doc-link fitted\">i<span>Fitted</span></span></label><div class=\"sk-toggleable__content fitted\"><pre>RandomForestClassifier(class_weight={0: 0.509, 1: 27.298}, n_jobs=-1,\n",
       "                       random_state=42)</pre></div> </div></div></div></div>"
      ],
      "text/plain": [
       "RandomForestClassifier(class_weight={0: 0.509, 1: 27.298}, n_jobs=-1,\n",
       "                       random_state=42)"
      ]
     },
     "execution_count": 43,
     "metadata": {},
     "output_type": "execute_result"
    }
   ],
   "source": [
    "# Train Random Forest on unscaled data\n",
    "rf_model.fit(X_train, y_train)"
   ]
  },
  {
   "cell_type": "code",
   "execution_count": 44,
   "metadata": {},
   "outputs": [],
   "source": [
    "# Predictions using Random Forest\n",
    "rf_preds = rf_model.predict(X_valid)"
   ]
  },
  {
   "cell_type": "code",
   "execution_count": 45,
   "metadata": {},
   "outputs": [],
   "source": [
    "# Evaluation\n",
    "rf_f1 = f1_score(y_valid, rf_preds)\n",
    "rf_conf_matrix = confusion_matrix(y_valid, rf_preds)"
   ]
  },
  {
   "cell_type": "code",
   "execution_count": 46,
   "metadata": {},
   "outputs": [
    {
     "data": {
      "text/plain": [
       "{'Random Forest F1 Score': np.float64(0.8588709677419355),\n",
       " 'Random Forest Confusion Matrix': [[13448, 31], [39, 213]]}"
      ]
     },
     "execution_count": 46,
     "metadata": {},
     "output_type": "execute_result"
    }
   ],
   "source": [
    "# Summary of results\n",
    "{\n",
    "    \"Random Forest F1 Score\": rf_f1,\n",
    "    \"Random Forest Confusion Matrix\": rf_conf_matrix.tolist()\n",
    "}"
   ]
  },
  {
   "cell_type": "markdown",
   "metadata": {},
   "source": [
    "Performance Metrics\n",
    "\n",
    "F1 Score: 0.859\n",
    "\n",
    "\n",
    "Confusion Matrix:\n",
    "\n",
    "*13448* - True Negatives\n",
    "\n",
    "*31* - False Positives\n",
    "\n",
    "\n",
    " *39* - False Negatives\n",
    " \n",
    " *213* - True Positives"
   ]
  },
  {
   "cell_type": "markdown",
   "metadata": {},
   "source": [
    "### Feature Importance Analysis"
   ]
  },
  {
   "cell_type": "code",
   "execution_count": 47,
   "metadata": {},
   "outputs": [],
   "source": [
    "from sklearn.metrics import roc_auc_score, roc_curve, precision_recall_curve, auc"
   ]
  },
  {
   "cell_type": "code",
   "execution_count": 48,
   "metadata": {},
   "outputs": [],
   "source": [
    "# Feature Importance Analysis\n",
    "feature_importances = rf_model.feature_importances_\n",
    "feature_importance_df = pd.DataFrame({\n",
    "    \"Feature\": X_train.columns,\n",
    "    \"Importance\": feature_importances\n",
    "}).sort_values(by=\"Importance\", ascending=False)"
   ]
  },
  {
   "cell_type": "code",
   "execution_count": 49,
   "metadata": {},
   "outputs": [
    {
     "data": {
      "image/png": "[encoded data removed]",
      "text/plain": [
       "<Figure size 1000x600 with 1 Axes>"
      ]
     },
     "metadata": {},
     "output_type": "display_data"
    }
   ],
   "source": [
    "# Visualization of Feature Importances\n",
    "plt.figure(figsize=(10, 6))\n",
    "plt.barh(feature_importance_df[\"Feature\"], feature_importance_df[\"Importance\"])\n",
    "plt.title(\"Feature Importance (Random Forest)\")\n",
    "plt.xlabel(\"Importance\")\n",
    "plt.ylabel(\"Feature\")\n",
    "plt.gca().invert_yaxis()\n",
    "plt.show()"
   ]
  },
  {
   "cell_type": "markdown",
   "metadata": {},
   "source": [
    "The most influential features for Random Forest predictions:\n",
    "\n",
    "Repayment Ratio: Importance = 0.736 (dominates the model’s decisions).\n",
    "\n",
    "Loan Tenure Days: Importance = 0.064.\n",
    "\n",
    "Lender Portion Funded: Importance = 0.059.\n",
    "\n",
    "Amount Funded By Lender: Importance = 0.052.\n",
    "\n",
    "This analysis shows that repayment-related features heavily influence the model's ability to predict loan defaults."
   ]
  },
  {
   "cell_type": "code",
   "execution_count": 50,
   "metadata": {},
   "outputs": [],
   "source": [
    "# Predictions for ROC-AUC and Precision-Recall curves\n",
    "rf_probs = rf_model.predict_proba(X_valid)[:, 1]"
   ]
  },
  {
   "cell_type": "code",
   "execution_count": 51,
   "metadata": {},
   "outputs": [
    {
     "data": {
      "image/png": "[encoded data removed]",
      "text/plain": [
       "<Figure size 1000x600 with 1 Axes>"
      ]
     },
     "metadata": {},
     "output_type": "display_data"
    }
   ],
   "source": [
    "# ROC-AUC Curve\n",
    "fpr, tpr, thresholds = roc_curve(y_valid, rf_probs)\n",
    "roc_auc = roc_auc_score(y_valid, rf_probs)\n",
    "plt.figure(figsize=(10, 6))\n",
    "plt.plot(fpr, tpr, label=f\"ROC-AUC = {roc_auc:.2f}\")\n",
    "plt.plot([0, 1], [0, 1], \"k--\", label=\"Random Guess\")\n",
    "plt.title(\"ROC-AUC Curve\")\n",
    "plt.xlabel(\"False Positive Rate\")\n",
    "plt.ylabel(\"True Positive Rate\")\n",
    "plt.legend()\n",
    "plt.show()"
   ]
  },
  {
   "cell_type": "markdown",
   "metadata": {},
   "source": [
    "ROC-AUC Score: Reflects the model's ability to distinguish between classes.\n",
    "\n",
    "The curve suggests strong separation, indicating good performance."
   ]
  },
  {
   "cell_type": "code",
   "execution_count": 52,
   "metadata": {},
   "outputs": [
    {
     "data": {
      "image/png": "[encoded data removed]",
      "text/plain": [
       "<Figure size 1000x600 with 1 Axes>"
      ]
     },
     "metadata": {},
     "output_type": "display_data"
    },
    {
     "data": {
      "text/html": [
       "<div>\n",
       "<style scoped>\n",
       "    .dataframe tbody tr th:only-of-type {\n",
       "        vertical-align: middle;\n",
       "    }\n",
       "\n",
       "    .dataframe tbody tr th {\n",
       "        vertical-align: top;\n",
       "    }\n",
       "\n",
       "    .dataframe thead th {\n",
       "        text-align: right;\n",
       "    }\n",
       "</style>\n",
       "<table border=\"1\" class=\"dataframe\">\n",
       "  <thead>\n",
       "    <tr style=\"text-align: right;\">\n",
       "      <th></th>\n",
       "      <th>Feature</th>\n",
       "      <th>Importance</th>\n",
       "    </tr>\n",
       "  </thead>\n",
       "  <tbody>\n",
       "    <tr>\n",
       "      <th>2</th>\n",
       "      <td>Repayment_Ratio</td>\n",
       "      <td>0.735583</td>\n",
       "    </tr>\n",
       "    <tr>\n",
       "      <th>1</th>\n",
       "      <td>Loan_Tenure_Days</td>\n",
       "      <td>0.063726</td>\n",
       "    </tr>\n",
       "    <tr>\n",
       "      <th>6</th>\n",
       "      <td>Lender_portion_Funded</td>\n",
       "      <td>0.059055</td>\n",
       "    </tr>\n",
       "    <tr>\n",
       "      <th>5</th>\n",
       "      <td>Amount_Funded_By_Lender</td>\n",
       "      <td>0.052035</td>\n",
       "    </tr>\n",
       "    <tr>\n",
       "      <th>4</th>\n",
       "      <td>duration</td>\n",
       "      <td>0.050969</td>\n",
       "    </tr>\n",
       "    <tr>\n",
       "      <th>0</th>\n",
       "      <td>Total_Amount_Capped</td>\n",
       "      <td>0.034591</td>\n",
       "    </tr>\n",
       "    <tr>\n",
       "      <th>3</th>\n",
       "      <td>New_versus_Repeat_Encoded</td>\n",
       "      <td>0.004041</td>\n",
       "    </tr>\n",
       "  </tbody>\n",
       "</table>\n",
       "</div>"
      ],
      "text/plain": [
       "                     Feature  Importance\n",
       "2            Repayment_Ratio    0.735583\n",
       "1           Loan_Tenure_Days    0.063726\n",
       "6      Lender_portion_Funded    0.059055\n",
       "5    Amount_Funded_By_Lender    0.052035\n",
       "4                   duration    0.050969\n",
       "0        Total_Amount_Capped    0.034591\n",
       "3  New_versus_Repeat_Encoded    0.004041"
      ]
     },
     "execution_count": 52,
     "metadata": {},
     "output_type": "execute_result"
    }
   ],
   "source": [
    "# Precision-Recall Curve\n",
    "precision, recall, thresholds = precision_recall_curve(y_valid, rf_probs)\n",
    "pr_auc = auc(recall, precision)\n",
    "plt.figure(figsize=(10, 6))\n",
    "plt.plot(recall, precision, label=f\"PR-AUC = {pr_auc:.2f}\")\n",
    "plt.title(\"Precision-Recall Curve\")\n",
    "plt.xlabel(\"Recall\")\n",
    "plt.ylabel(\"Precision\")\n",
    "plt.legend()\n",
    "plt.show()\n",
    "\n",
    "feature_importance_df"
   ]
  },
  {
   "cell_type": "markdown",
   "metadata": {},
   "source": [
    "PR-AUC Score: Measures performance on the minority class (defaults).\n",
    "\n",
    "The curve highlights the model's effectiveness in handling the imbalanced dataset."
   ]
  },
  {
   "cell_type": "markdown",
   "metadata": {},
   "source": [
    "### Hyperparameter Tuning"
   ]
  },
  {
   "cell_type": "code",
   "execution_count": 53,
   "metadata": {},
   "outputs": [],
   "source": [
    "from sklearn.model_selection import GridSearchCV"
   ]
  },
  {
   "cell_type": "code",
   "execution_count": 54,
   "metadata": {},
   "outputs": [],
   "source": [
    "# Define the parameter grid for tuning\n",
    "param_grid = {\n",
    "    'n_estimators': [50, 100, 200],\n",
    "    'max_depth': [None, 10, 20, 30],\n",
    "    'min_samples_split': [2, 5, 10],\n",
    "    'min_samples_leaf': [1, 2, 4]\n",
    "}"
   ]
  },
  {
   "cell_type": "code",
   "execution_count": 55,
   "metadata": {},
   "outputs": [
    {
     "name": "stdout",
     "output_type": "stream",
     "text": [
      "Fitting 3 folds for each of 108 candidates, totalling 324 fits\n"
     ]
    },
    {
     "data": {
      "text/html": [
       "<style>#sk-container-id-2 {\n",
       "  /* Definition of color scheme common for light and dark mode */\n",
       "  --sklearn-color-text: black;\n",
       "  --sklearn-color-line: gray;\n",
       "  /* Definition of color scheme for unfitted estimators */\n",
       "  --sklearn-color-unfitted-level-0: #fff5e6;\n",
       "  --sklearn-color-unfitted-level-1: #f6e4d2;\n",
       "  --sklearn-color-unfitted-level-2: #ffe0b3;\n",
       "  --sklearn-color-unfitted-level-3: chocolate;\n",
       "  /* Definition of color scheme for fitted estimators */\n",
       "  --sklearn-color-fitted-level-0: #f0f8ff;\n",
       "  --sklearn-color-fitted-level-1: #d4ebff;\n",
       "  --sklearn-color-fitted-level-2: #b3dbfd;\n",
       "  --sklearn-color-fitted-level-3: cornflowerblue;\n",
       "\n",
       "  /* Specific color for light theme */\n",
       "  --sklearn-color-text-on-default-background: var(--sg-text-color, var(--theme-code-foreground, var(--jp-content-font-color1, black)));\n",
       "  --sklearn-color-background: var(--sg-background-color, var(--theme-background, var(--jp-layout-color0, white)));\n",
       "  --sklearn-color-border-box: var(--sg-text-color, var(--theme-code-foreground, var(--jp-content-font-color1, black)));\n",
       "  --sklearn-color-icon: #696969;\n",
       "\n",
       "  @media (prefers-color-scheme: dark) {\n",
       "    /* Redefinition of color scheme for dark theme */\n",
       "    --sklearn-color-text-on-default-background: var(--sg-text-color, var(--theme-code-foreground, var(--jp-content-font-color1, white)));\n",
       "    --sklearn-color-background: var(--sg-background-color, var(--theme-background, var(--jp-layout-color0, #111)));\n",
       "    --sklearn-color-border-box: var(--sg-text-color, var(--theme-code-foreground, var(--jp-content-font-color1, white)));\n",
       "    --sklearn-color-icon: #878787;\n",
       "  }\n",
       "}\n",
       "\n",
       "#sk-container-id-2 {\n",
       "  color: var(--sklearn-color-text);\n",
       "}\n",
       "\n",
       "#sk-container-id-2 pre {\n",
       "  padding: 0;\n",
       "}\n",
       "\n",
       "#sk-container-id-2 input.sk-hidden--visually {\n",
       "  border: 0;\n",
       "  clip: rect(1px 1px 1px 1px);\n",
       "  clip: rect(1px, 1px, 1px, 1px);\n",
       "  height: 1px;\n",
       "  margin: -1px;\n",
       "  overflow: hidden;\n",
       "  padding: 0;\n",
       "  position: absolute;\n",
       "  width: 1px;\n",
       "}\n",
       "\n",
       "#sk-container-id-2 div.sk-dashed-wrapped {\n",
       "  border: 1px dashed var(--sklearn-color-line);\n",
       "  margin: 0 0.4em 0.5em 0.4em;\n",
       "  box-sizing: border-box;\n",
       "  padding-bottom: 0.4em;\n",
       "  background-color: var(--sklearn-color-background);\n",
       "}\n",
       "\n",
       "#sk-container-id-2 div.sk-container {\n",
       "  /* jupyter's `normalize.less` sets `[hidden] { display: none; }`\n",
       "     but bootstrap.min.css set `[hidden] { display: none !important; }`\n",
       "     so we also need the `!important` here to be able to override the\n",
       "     default hidden behavior on the sphinx rendered scikit-learn.org.\n",
       "     See: https://github.com/scikit-learn/scikit-learn/issues/21755 */\n",
       "  display: inline-block !important;\n",
       "  position: relative;\n",
       "}\n",
       "\n",
       "#sk-container-id-2 div.sk-text-repr-fallback {\n",
       "  display: none;\n",
       "}\n",
       "\n",
       "div.sk-parallel-item,\n",
       "div.sk-serial,\n",
       "div.sk-item {\n",
       "  /* draw centered vertical line to link estimators */\n",
       "  background-image: linear-gradient(var(--sklearn-color-text-on-default-background), var(--sklearn-color-text-on-default-background));\n",
       "  background-size: 2px 100%;\n",
       "  background-repeat: no-repeat;\n",
       "  background-position: center center;\n",
       "}\n",
       "\n",
       "/* Parallel-specific style estimator block */\n",
       "\n",
       "#sk-container-id-2 div.sk-parallel-item::after {\n",
       "  content: \"\";\n",
       "  width: 100%;\n",
       "  border-bottom: 2px solid var(--sklearn-color-text-on-default-background);\n",
       "  flex-grow: 1;\n",
       "}\n",
       "\n",
       "#sk-container-id-2 div.sk-parallel {\n",
       "  display: flex;\n",
       "  align-items: stretch;\n",
       "  justify-content: center;\n",
       "  background-color: var(--sklearn-color-background);\n",
       "  position: relative;\n",
       "}\n",
       "\n",
       "#sk-container-id-2 div.sk-parallel-item {\n",
       "  display: flex;\n",
       "  flex-direction: column;\n",
       "}\n",
       "\n",
       "#sk-container-id-2 div.sk-parallel-item:first-child::after {\n",
       "  align-self: flex-end;\n",
       "  width: 50%;\n",
       "}\n",
       "\n",
       "#sk-container-id-2 div.sk-parallel-item:last-child::after {\n",
       "  align-self: flex-start;\n",
       "  width: 50%;\n",
       "}\n",
       "\n",
       "#sk-container-id-2 div.sk-parallel-item:only-child::after {\n",
       "  width: 0;\n",
       "}\n",
       "\n",
       "/* Serial-specific style estimator block */\n",
       "\n",
       "#sk-container-id-2 div.sk-serial {\n",
       "  display: flex;\n",
       "  flex-direction: column;\n",
       "  align-items: center;\n",
       "  background-color: var(--sklearn-color-background);\n",
       "  padding-right: 1em;\n",
       "  padding-left: 1em;\n",
       "}\n",
       "\n",
       "\n",
       "/* Toggleable style: style used for estimator/Pipeline/ColumnTransformer box that is\n",
       "clickable and can be expanded/collapsed.\n",
       "- Pipeline and ColumnTransformer use this feature and define the default style\n",
       "- Estimators will overwrite some part of the style using the `sk-estimator` class\n",
       "*/\n",
       "\n",
       "/* Pipeline and ColumnTransformer style (default) */\n",
       "\n",
       "#sk-container-id-2 div.sk-toggleable {\n",
       "  /* Default theme specific background. It is overwritten whether we have a\n",
       "  specific estimator or a Pipeline/ColumnTransformer */\n",
       "  background-color: var(--sklearn-color-background);\n",
       "}\n",
       "\n",
       "/* Toggleable label */\n",
       "#sk-container-id-2 label.sk-toggleable__label {\n",
       "  cursor: pointer;\n",
       "  display: block;\n",
       "  width: 100%;\n",
       "  margin-bottom: 0;\n",
       "  padding: 0.5em;\n",
       "  box-sizing: border-box;\n",
       "  text-align: center;\n",
       "}\n",
       "\n",
       "#sk-container-id-2 label.sk-toggleable__label-arrow:before {\n",
       "  /* Arrow on the left of the label */\n",
       "  content: \"▸\";\n",
       "  float: left;\n",
       "  margin-right: 0.25em;\n",
       "  color: var(--sklearn-color-icon);\n",
       "}\n",
       "\n",
       "#sk-container-id-2 label.sk-toggleable__label-arrow:hover:before {\n",
       "  color: var(--sklearn-color-text);\n",
       "}\n",
       "\n",
       "/* Toggleable content - dropdown */\n",
       "\n",
       "#sk-container-id-2 div.sk-toggleable__content {\n",
       "  max-height: 0;\n",
       "  max-width: 0;\n",
       "  overflow: hidden;\n",
       "  text-align: left;\n",
       "  /* unfitted */\n",
       "  background-color: var(--sklearn-color-unfitted-level-0);\n",
       "}\n",
       "\n",
       "#sk-container-id-2 div.sk-toggleable__content.fitted {\n",
       "  /* fitted */\n",
       "  background-color: var(--sklearn-color-fitted-level-0);\n",
       "}\n",
       "\n",
       "#sk-container-id-2 div.sk-toggleable__content pre {\n",
       "  margin: 0.2em;\n",
       "  border-radius: 0.25em;\n",
       "  color: var(--sklearn-color-text);\n",
       "  /* unfitted */\n",
       "  background-color: var(--sklearn-color-unfitted-level-0);\n",
       "}\n",
       "\n",
       "#sk-container-id-2 div.sk-toggleable__content.fitted pre {\n",
       "  /* unfitted */\n",
       "  background-color: var(--sklearn-color-fitted-level-0);\n",
       "}\n",
       "\n",
       "#sk-container-id-2 input.sk-toggleable__control:checked~div.sk-toggleable__content {\n",
       "  /* Expand drop-down */\n",
       "  max-height: 200px;\n",
       "  max-width: 100%;\n",
       "  overflow: auto;\n",
       "}\n",
       "\n",
       "#sk-container-id-2 input.sk-toggleable__control:checked~label.sk-toggleable__label-arrow:before {\n",
       "  content: \"▾\";\n",
       "}\n",
       "\n",
       "/* Pipeline/ColumnTransformer-specific style */\n",
       "\n",
       "#sk-container-id-2 div.sk-label input.sk-toggleable__control:checked~label.sk-toggleable__label {\n",
       "  color: var(--sklearn-color-text);\n",
       "  background-color: var(--sklearn-color-unfitted-level-2);\n",
       "}\n",
       "\n",
       "#sk-container-id-2 div.sk-label.fitted input.sk-toggleable__control:checked~label.sk-toggleable__label {\n",
       "  background-color: var(--sklearn-color-fitted-level-2);\n",
       "}\n",
       "\n",
       "/* Estimator-specific style */\n",
       "\n",
       "/* Colorize estimator box */\n",
       "#sk-container-id-2 div.sk-estimator input.sk-toggleable__control:checked~label.sk-toggleable__label {\n",
       "  /* unfitted */\n",
       "  background-color: var(--sklearn-color-unfitted-level-2);\n",
       "}\n",
       "\n",
       "#sk-container-id-2 div.sk-estimator.fitted input.sk-toggleable__control:checked~label.sk-toggleable__label {\n",
       "  /* fitted */\n",
       "  background-color: var(--sklearn-color-fitted-level-2);\n",
       "}\n",
       "\n",
       "#sk-container-id-2 div.sk-label label.sk-toggleable__label,\n",
       "#sk-container-id-2 div.sk-label label {\n",
       "  /* The background is the default theme color */\n",
       "  color: var(--sklearn-color-text-on-default-background);\n",
       "}\n",
       "\n",
       "/* On hover, darken the color of the background */\n",
       "#sk-container-id-2 div.sk-label:hover label.sk-toggleable__label {\n",
       "  color: var(--sklearn-color-text);\n",
       "  background-color: var(--sklearn-color-unfitted-level-2);\n",
       "}\n",
       "\n",
       "/* Label box, darken color on hover, fitted */\n",
       "#sk-container-id-2 div.sk-label.fitted:hover label.sk-toggleable__label.fitted {\n",
       "  color: var(--sklearn-color-text);\n",
       "  background-color: var(--sklearn-color-fitted-level-2);\n",
       "}\n",
       "\n",
       "/* Estimator label */\n",
       "\n",
       "#sk-container-id-2 div.sk-label label {\n",
       "  font-family: monospace;\n",
       "  font-weight: bold;\n",
       "  display: inline-block;\n",
       "  line-height: 1.2em;\n",
       "}\n",
       "\n",
       "#sk-container-id-2 div.sk-label-container {\n",
       "  text-align: center;\n",
       "}\n",
       "\n",
       "/* Estimator-specific */\n",
       "#sk-container-id-2 div.sk-estimator {\n",
       "  font-family: monospace;\n",
       "  border: 1px dotted var(--sklearn-color-border-box);\n",
       "  border-radius: 0.25em;\n",
       "  box-sizing: border-box;\n",
       "  margin-bottom: 0.5em;\n",
       "  /* unfitted */\n",
       "  background-color: var(--sklearn-color-unfitted-level-0);\n",
       "}\n",
       "\n",
       "#sk-container-id-2 div.sk-estimator.fitted {\n",
       "  /* fitted */\n",
       "  background-color: var(--sklearn-color-fitted-level-0);\n",
       "}\n",
       "\n",
       "/* on hover */\n",
       "#sk-container-id-2 div.sk-estimator:hover {\n",
       "  /* unfitted */\n",
       "  background-color: var(--sklearn-color-unfitted-level-2);\n",
       "}\n",
       "\n",
       "#sk-container-id-2 div.sk-estimator.fitted:hover {\n",
       "  /* fitted */\n",
       "  background-color: var(--sklearn-color-fitted-level-2);\n",
       "}\n",
       "\n",
       "/* Specification for estimator info (e.g. \"i\" and \"?\") */\n",
       "\n",
       "/* Common style for \"i\" and \"?\" */\n",
       "\n",
       ".sk-estimator-doc-link,\n",
       "a:link.sk-estimator-doc-link,\n",
       "a:visited.sk-estimator-doc-link {\n",
       "  float: right;\n",
       "  font-size: smaller;\n",
       "  line-height: 1em;\n",
       "  font-family: monospace;\n",
       "  background-color: var(--sklearn-color-background);\n",
       "  border-radius: 1em;\n",
       "  height: 1em;\n",
       "  width: 1em;\n",
       "  text-decoration: none !important;\n",
       "  margin-left: 1ex;\n",
       "  /* unfitted */\n",
       "  border: var(--sklearn-color-unfitted-level-1) 1pt solid;\n",
       "  color: var(--sklearn-color-unfitted-level-1);\n",
       "}\n",
       "\n",
       ".sk-estimator-doc-link.fitted,\n",
       "a:link.sk-estimator-doc-link.fitted,\n",
       "a:visited.sk-estimator-doc-link.fitted {\n",
       "  /* fitted */\n",
       "  border: var(--sklearn-color-fitted-level-1) 1pt solid;\n",
       "  color: var(--sklearn-color-fitted-level-1);\n",
       "}\n",
       "\n",
       "/* On hover */\n",
       "div.sk-estimator:hover .sk-estimator-doc-link:hover,\n",
       ".sk-estimator-doc-link:hover,\n",
       "div.sk-label-container:hover .sk-estimator-doc-link:hover,\n",
       ".sk-estimator-doc-link:hover {\n",
       "  /* unfitted */\n",
       "  background-color: var(--sklearn-color-unfitted-level-3);\n",
       "  color: var(--sklearn-color-background);\n",
       "  text-decoration: none;\n",
       "}\n",
       "\n",
       "div.sk-estimator.fitted:hover .sk-estimator-doc-link.fitted:hover,\n",
       ".sk-estimator-doc-link.fitted:hover,\n",
       "div.sk-label-container:hover .sk-estimator-doc-link.fitted:hover,\n",
       ".sk-estimator-doc-link.fitted:hover {\n",
       "  /* fitted */\n",
       "  background-color: var(--sklearn-color-fitted-level-3);\n",
       "  color: var(--sklearn-color-background);\n",
       "  text-decoration: none;\n",
       "}\n",
       "\n",
       "/* Span, style for the box shown on hovering the info icon */\n",
       ".sk-estimator-doc-link span {\n",
       "  display: none;\n",
       "  z-index: 9999;\n",
       "  position: relative;\n",
       "  font-weight: normal;\n",
       "  right: .2ex;\n",
       "  padding: .5ex;\n",
       "  margin: .5ex;\n",
       "  width: min-content;\n",
       "  min-width: 20ex;\n",
       "  max-width: 50ex;\n",
       "  color: var(--sklearn-color-text);\n",
       "  box-shadow: 2pt 2pt 4pt #999;\n",
       "  /* unfitted */\n",
       "  background: var(--sklearn-color-unfitted-level-0);\n",
       "  border: .5pt solid var(--sklearn-color-unfitted-level-3);\n",
       "}\n",
       "\n",
       ".sk-estimator-doc-link.fitted span {\n",
       "  /* fitted */\n",
       "  background: var(--sklearn-color-fitted-level-0);\n",
       "  border: var(--sklearn-color-fitted-level-3);\n",
       "}\n",
       "\n",
       ".sk-estimator-doc-link:hover span {\n",
       "  display: block;\n",
       "}\n",
       "\n",
       "/* \"?\"-specific style due to the `<a>` HTML tag */\n",
       "\n",
       "#sk-container-id-2 a.estimator_doc_link {\n",
       "  float: right;\n",
       "  font-size: 1rem;\n",
       "  line-height: 1em;\n",
       "  font-family: monospace;\n",
       "  background-color: var(--sklearn-color-background);\n",
       "  border-radius: 1rem;\n",
       "  height: 1rem;\n",
       "  width: 1rem;\n",
       "  text-decoration: none;\n",
       "  /* unfitted */\n",
       "  color: var(--sklearn-color-unfitted-level-1);\n",
       "  border: var(--sklearn-color-unfitted-level-1) 1pt solid;\n",
       "}\n",
       "\n",
       "#sk-container-id-2 a.estimator_doc_link.fitted {\n",
       "  /* fitted */\n",
       "  border: var(--sklearn-color-fitted-level-1) 1pt solid;\n",
       "  color: var(--sklearn-color-fitted-level-1);\n",
       "}\n",
       "\n",
       "/* On hover */\n",
       "#sk-container-id-2 a.estimator_doc_link:hover {\n",
       "  /* unfitted */\n",
       "  background-color: var(--sklearn-color-unfitted-level-3);\n",
       "  color: var(--sklearn-color-background);\n",
       "  text-decoration: none;\n",
       "}\n",
       "\n",
       "#sk-container-id-2 a.estimator_doc_link.fitted:hover {\n",
       "  /* fitted */\n",
       "  background-color: var(--sklearn-color-fitted-level-3);\n",
       "}\n",
       "</style><div id=\"sk-container-id-2\" class=\"sk-top-container\"><div class=\"sk-text-repr-fallback\"><pre>GridSearchCV(cv=3,\n",
       "             estimator=RandomForestClassifier(class_weight={0: 0.509,\n",
       "                                                            1: 27.298},\n",
       "                                              n_jobs=-1, random_state=42),\n",
       "             n_jobs=-1,\n",
       "             param_grid={&#x27;max_depth&#x27;: [None, 10, 20, 30],\n",
       "                         &#x27;min_samples_leaf&#x27;: [1, 2, 4],\n",
       "                         &#x27;min_samples_split&#x27;: [2, 5, 10],\n",
       "                         &#x27;n_estimators&#x27;: [50, 100, 200]},\n",
       "             scoring=&#x27;f1&#x27;, verbose=1)</pre><b>In a Jupyter environment, please rerun this cell to show the HTML representation or trust the notebook. <br />On GitHub, the HTML representation is unable to render, please try loading this page with nbviewer.org.</b></div><div class=\"sk-container\" hidden><div class=\"sk-item sk-dashed-wrapped\"><div class=\"sk-label-container\"><div class=\"sk-label fitted sk-toggleable\"><input class=\"sk-toggleable__control sk-hidden--visually\" id=\"sk-estimator-id-2\" type=\"checkbox\" ><label for=\"sk-estimator-id-2\" class=\"sk-toggleable__label fitted sk-toggleable__label-arrow fitted\">&nbsp;&nbsp;GridSearchCV<a class=\"sk-estimator-doc-link fitted\" rel=\"noreferrer\" target=\"_blank\" href=\"https://scikit-learn.org/1.5/modules/generated/sklearn.model_selection.GridSearchCV.html\">?<span>Documentation for GridSearchCV</span></a><span class=\"sk-estimator-doc-link fitted\">i<span>Fitted</span></span></label><div class=\"sk-toggleable__content fitted\"><pre>GridSearchCV(cv=3,\n",
       "             estimator=RandomForestClassifier(class_weight={0: 0.509,\n",
       "                                                            1: 27.298},\n",
       "                                              n_jobs=-1, random_state=42),\n",
       "             n_jobs=-1,\n",
       "             param_grid={&#x27;max_depth&#x27;: [None, 10, 20, 30],\n",
       "                         &#x27;min_samples_leaf&#x27;: [1, 2, 4],\n",
       "                         &#x27;min_samples_split&#x27;: [2, 5, 10],\n",
       "                         &#x27;n_estimators&#x27;: [50, 100, 200]},\n",
       "             scoring=&#x27;f1&#x27;, verbose=1)</pre></div> </div></div><div class=\"sk-parallel\"><div class=\"sk-parallel-item\"><div class=\"sk-item\"><div class=\"sk-label-container\"><div class=\"sk-label fitted sk-toggleable\"><input class=\"sk-toggleable__control sk-hidden--visually\" id=\"sk-estimator-id-3\" type=\"checkbox\" ><label for=\"sk-estimator-id-3\" class=\"sk-toggleable__label fitted sk-toggleable__label-arrow fitted\">best_estimator_: RandomForestClassifier</label><div class=\"sk-toggleable__content fitted\"><pre>RandomForestClassifier(class_weight={0: 0.509, 1: 27.298}, max_depth=30,\n",
       "                       min_samples_split=5, n_jobs=-1, random_state=42)</pre></div> </div></div><div class=\"sk-serial\"><div class=\"sk-item\"><div class=\"sk-estimator fitted sk-toggleable\"><input class=\"sk-toggleable__control sk-hidden--visually\" id=\"sk-estimator-id-4\" type=\"checkbox\" ><label for=\"sk-estimator-id-4\" class=\"sk-toggleable__label fitted sk-toggleable__label-arrow fitted\">&nbsp;RandomForestClassifier<a class=\"sk-estimator-doc-link fitted\" rel=\"noreferrer\" target=\"_blank\" href=\"https://scikit-learn.org/1.5/modules/generated/sklearn.ensemble.RandomForestClassifier.html\">?<span>Documentation for RandomForestClassifier</span></a></label><div class=\"sk-toggleable__content fitted\"><pre>RandomForestClassifier(class_weight={0: 0.509, 1: 27.298}, max_depth=30,\n",
       "                       min_samples_split=5, n_jobs=-1, random_state=42)</pre></div> </div></div></div></div></div></div></div></div></div>"
      ],
      "text/plain": [
       "GridSearchCV(cv=3,\n",
       "             estimator=RandomForestClassifier(class_weight={0: 0.509,\n",
       "                                                            1: 27.298},\n",
       "                                              n_jobs=-1, random_state=42),\n",
       "             n_jobs=-1,\n",
       "             param_grid={'max_depth': [None, 10, 20, 30],\n",
       "                         'min_samples_leaf': [1, 2, 4],\n",
       "                         'min_samples_split': [2, 5, 10],\n",
       "                         'n_estimators': [50, 100, 200]},\n",
       "             scoring='f1', verbose=1)"
      ]
     },
     "execution_count": 55,
     "metadata": {},
     "output_type": "execute_result"
    }
   ],
   "source": [
    "# Initialize the Random Forest model\n",
    "rf_tuning_model = RandomForestClassifier(class_weight={0: 0.509, 1: 27.298}, random_state=42, n_jobs=-1)\n",
    "\n",
    "# GridSearchCV for Hyperparameter Tuning\n",
    "grid_search = GridSearchCV(estimator=rf_tuning_model, param_grid=param_grid, scoring='f1', cv=3, verbose=1, n_jobs=-1)\n",
    "grid_search.fit(X_train, y_train)"
   ]
  },
  {
   "cell_type": "code",
   "execution_count": 56,
   "metadata": {},
   "outputs": [],
   "source": [
    "# Best parameters and corresponding score\n",
    "best_params = grid_search.best_params_\n",
    "best_score = grid_search.best_score_"
   ]
  },
  {
   "cell_type": "code",
   "execution_count": 57,
   "metadata": {},
   "outputs": [],
   "source": [
    "# Train the final Random Forest model with the best parameters\n",
    "final_rf_model = grid_search.best_estimator_\n",
    "final_rf_preds = final_rf_model.predict(X_valid)"
   ]
  },
  {
   "cell_type": "code",
   "execution_count": 58,
   "metadata": {},
   "outputs": [
    {
     "data": {
      "text/plain": [
       "{'Best Parameters': {'max_depth': 30,\n",
       "  'min_samples_leaf': 1,\n",
       "  'min_samples_split': 5,\n",
       "  'n_estimators': 100},\n",
       " 'Best Cross-Validated F1 Score': np.float64(0.8323806749152508),\n",
       " 'Final Random Forest F1 Score': np.float64(0.8512241054613936),\n",
       " 'Final Random Forest Confusion Matrix': [[13426, 53], [26, 226]]}"
      ]
     },
     "execution_count": 58,
     "metadata": {},
     "output_type": "execute_result"
    }
   ],
   "source": [
    "# Evaluation on the validation set\n",
    "final_rf_f1 = f1_score(y_valid, final_rf_preds)\n",
    "final_rf_conf_matrix = confusion_matrix(y_valid, final_rf_preds)\n",
    "\n",
    "{\n",
    "    \"Best Parameters\": best_params,\n",
    "    \"Best Cross-Validated F1 Score\": best_score,\n",
    "    \"Final Random Forest F1 Score\": final_rf_f1,\n",
    "    \"Final Random Forest Confusion Matrix\": final_rf_conf_matrix.tolist()\n",
    "}"
   ]
  },
  {
   "cell_type": "markdown",
   "metadata": {},
   "source": [
    "### Credit Scoring Function"
   ]
  },
  {
   "cell_type": "code",
   "execution_count": 60,
   "metadata": {},
   "outputs": [],
   "source": [
    "# Credit Scoring Function: Scale probabilities to a desired range\n",
    "def scale_to_score(probabilities, min_score=300, max_score=850):\n",
    "    \"\"\"\n",
    "    Scale predicted probabilities to a credit score range.\n",
    "\n",
    "    Parameters:\n",
    "        probabilities (array-like): Predicted probabilities for the positive class (defaults = 1).\n",
    "        min_score (int): Minimum score of the credit range.\n",
    "        max_score (int): Maximum score of the credit range.\n",
    "\n",
    "    Returns:\n",
    "        scores (list): Scaled credit scores.\n",
    "    \"\"\"\n",
    "    return max_score - (max_score - min_score) * probabilities"
   ]
  },
  {
   "cell_type": "code",
   "execution_count": 61,
   "metadata": {},
   "outputs": [],
   "source": [
    "# Predicted probabilities from the Random Forest model (assuming rf_probs_validation is available)\n",
    "rf_probs_validation = final_rf_model.predict_proba(X_valid)[:, 1]  # Default probabilities\n"
   ]
  },
  {
   "cell_type": "code",
   "execution_count": 63,
   "metadata": {},
   "outputs": [],
   "source": [
    "credit_scores = scale_to_score(rf_probs_validation, min_score=300, max_score=850)"
   ]
  },
  {
   "cell_type": "code",
   "execution_count": 64,
   "metadata": {},
   "outputs": [
    {
     "data": {
      "text/html": [
       "<div>\n",
       "<style scoped>\n",
       "    .dataframe tbody tr th:only-of-type {\n",
       "        vertical-align: middle;\n",
       "    }\n",
       "\n",
       "    .dataframe tbody tr th {\n",
       "        vertical-align: top;\n",
       "    }\n",
       "\n",
       "    .dataframe thead th {\n",
       "        text-align: right;\n",
       "    }\n",
       "</style>\n",
       "<table border=\"1\" class=\"dataframe\">\n",
       "  <thead>\n",
       "    <tr style=\"text-align: right;\">\n",
       "      <th></th>\n",
       "      <th>Predicted_Probability</th>\n",
       "      <th>Credit_Score</th>\n",
       "      <th>Actual_Target</th>\n",
       "    </tr>\n",
       "  </thead>\n",
       "  <tbody>\n",
       "    <tr>\n",
       "      <th>0</th>\n",
       "      <td>0.739753</td>\n",
       "      <td>443.136104</td>\n",
       "      <td>0</td>\n",
       "    </tr>\n",
       "    <tr>\n",
       "      <th>1</th>\n",
       "      <td>0.000000</td>\n",
       "      <td>850.000000</td>\n",
       "      <td>0</td>\n",
       "    </tr>\n",
       "    <tr>\n",
       "      <th>2</th>\n",
       "      <td>0.712043</td>\n",
       "      <td>458.376148</td>\n",
       "      <td>1</td>\n",
       "    </tr>\n",
       "    <tr>\n",
       "      <th>3</th>\n",
       "      <td>0.000000</td>\n",
       "      <td>850.000000</td>\n",
       "      <td>0</td>\n",
       "    </tr>\n",
       "    <tr>\n",
       "      <th>4</th>\n",
       "      <td>0.000000</td>\n",
       "      <td>850.000000</td>\n",
       "      <td>0</td>\n",
       "    </tr>\n",
       "  </tbody>\n",
       "</table>\n",
       "</div>"
      ],
      "text/plain": [
       "   Predicted_Probability  Credit_Score  Actual_Target\n",
       "0               0.739753    443.136104              0\n",
       "1               0.000000    850.000000              0\n",
       "2               0.712043    458.376148              1\n",
       "3               0.000000    850.000000              0\n",
       "4               0.000000    850.000000              0"
      ]
     },
     "execution_count": 64,
     "metadata": {},
     "output_type": "execute_result"
    }
   ],
   "source": [
    "# Create a DataFrame for the credit scoring results\n",
    "credit_scoring_results = pd.DataFrame({\n",
    "    \"Predicted_Probability\": rf_probs_validation,\n",
    "    \"Credit_Score\": credit_scores,\n",
    "    \"Actual_Target\": y_valid.values\n",
    "})\n",
    "\n",
    "# Display sample of the scoring results\n",
    "credit_scoring_results.head()"
   ]
  },
  {
   "cell_type": "markdown",
   "metadata": {},
   "source": [
    "## Evaluate Fairness"
   ]
  },
  {
   "cell_type": "code",
   "execution_count": 65,
   "metadata": {},
   "outputs": [],
   "source": [
    "# Split validation data into groups based on the sensitive attribute (e.g., 'New_versus_Repeat_Encoded')\n",
    "group_new = X_valid[X_valid[\"New_versus_Repeat_Encoded\"] == 0]\n",
    "group_repeat = X_valid[X_valid[\"New_versus_Repeat_Encoded\"] == 1]"
   ]
  },
  {
   "cell_type": "code",
   "execution_count": 66,
   "metadata": {},
   "outputs": [],
   "source": [
    "# Ground truth for each group\n",
    "y_new = y_valid[group_new.index]\n",
    "y_repeat = y_valid[group_repeat.index]"
   ]
  },
  {
   "cell_type": "code",
   "execution_count": 67,
   "metadata": {},
   "outputs": [],
   "source": [
    "# Predictions and probabilities for each group\n",
    "preds_new = final_rf_model.predict(group_new)\n",
    "preds_repeat = final_rf_model.predict(group_repeat)\n",
    "probs_new = final_rf_model.predict_proba(group_new)[:, 1]\n",
    "probs_repeat = final_rf_model.predict_proba(group_repeat)[:, 1]"
   ]
  },
  {
   "cell_type": "code",
   "execution_count": 68,
   "metadata": {},
   "outputs": [],
   "source": [
    "# Calculate fairness metrics for each group\n",
    "def calculate_metrics(y_true, y_pred, y_prob):\n",
    "    \"\"\"\n",
    "    Calculate fairness metrics for a specific group.\n",
    "\n",
    "    Parameters:\n",
    "        y_true: Ground truth labels.\n",
    "        y_pred: Predicted labels.\n",
    "        y_prob: Predicted probabilities.\n",
    "\n",
    "    Returns:\n",
    "        A dictionary of metrics (precision, recall, F1, and positive rate).\n",
    "    \"\"\"\n",
    "    metrics = {\n",
    "        \"Precision\": classification_report(y_true, y_pred, output_dict=True)[\"1\"][\"precision\"],\n",
    "        \"Recall\": classification_report(y_true, y_pred, output_dict=True)[\"1\"][\"recall\"],\n",
    "        \"F1 Score\": classification_report(y_true, y_pred, output_dict=True)[\"1\"][\"f1-score\"],\n",
    "        \"Positive Rate\": (y_pred == 1).mean(),\n",
    "        \"Average Predicted Probability\": y_prob.mean()\n",
    "    }\n",
    "    return metrics"
   ]
  },
  {
   "cell_type": "code",
   "execution_count": 69,
   "metadata": {},
   "outputs": [
    {
     "data": {
      "text/plain": [
       "{'New Loans (Group 0)': {'Precision': 0.9375,\n",
       "  'Recall': 1.0,\n",
       "  'F1 Score': 0.967741935483871,\n",
       "  'Positive Rate': np.float64(0.26229508196721313),\n",
       "  'Average Predicted Probability': np.float64(0.25823032220080916)},\n",
       " 'Repeat Loans (Group 1)': {'Precision': 0.7935222672064778,\n",
       "  'Recall': 0.8828828828828829,\n",
       "  'F1 Score': 0.835820895522388,\n",
       "  'Positive Rate': np.float64(0.018149753839371004),\n",
       "  'Average Predicted Probability': np.float64(0.018734928128566582)}}"
      ]
     },
     "execution_count": 69,
     "metadata": {},
     "output_type": "execute_result"
    }
   ],
   "source": [
    "# Metrics for New Loans and Repeat Loans groups\n",
    "metrics_new = calculate_metrics(y_new, preds_new, probs_new)\n",
    "metrics_repeat = calculate_metrics(y_repeat, preds_repeat, probs_repeat)\n",
    "\n",
    "# Fairness evaluation summary\n",
    "fairness_summary = {\n",
    "    \"New Loans (Group 0)\": metrics_new,\n",
    "    \"Repeat Loans (Group 1)\": metrics_repeat\n",
    "}\n",
    "\n",
    "fairness_summary"
   ]
  },
  {
   "cell_type": "markdown",
   "metadata": {},
   "source": [
    "**New Loans (Group 0):** Customers receiving their first loan.\n",
    "\n",
    "* Among customers predicted as likely defaulters, 93.75% were actual defaulters.\n",
    "\n",
    "* The model performs very well in identifying actual defaulters for this group.\n",
    "\n",
    "* The model correctly identifies all actual defaulters in this group. *(Recall = 100%)*\n",
    "\n",
    "* High F1 Score indicates excellent balance between precision and recall. *(F1 Score = 96.77%)*\n",
    "\n",
    "* 26.23% of customers in this group were predicted as likely defaulters.\n",
    "The model is more lenient in predicting defaults for first-time borrowers. *(Positive Rate = 26.23%)*\n",
    "\n",
    "* The model assigns a default probability of 25.82% to customers in this group.\n",
    "\n",
    "* Higher recall and positive rate suggest that the model is more sensitive to identifying defaults among New Loans.\n",
    "***\n",
    "\n",
    "**Repeat Loans (Group 1):** Customers who have taken loans before.\n",
    "\n",
    "* For repeat customers, 79.35% of predicted defaulters were correct.\n",
    "Slightly lower precision indicates the model has more False Positives in this group.\n",
    "\n",
    "* The model captures 88.29% of actual defaulters.\n",
    "Misses about 11.71% of defaulters, indicating room for improvement.\n",
    "\n",
    "* A slightly lower F1 Score (**83.58%**) reflects reduced performance compared to New Loans, especially in recall.\n",
    "\n",
    "* Only 1.81% of customers in this group were flagged as likely defaulters.\n",
    "Indicates a stricter threshold for predicting defaults among repeat customers\n",
    "\n",
    "* Repeat customers are assigned much lower default probabilities on average.\n",
    "\n",
    "* Lower precision, recall, and positive rate indicate that the model applies stricter criteria for Repeat Loans, which could lead to underestimating risk for this group."
   ]
  },
  {
   "cell_type": "markdown",
   "metadata": {},
   "source": [
    "## Run the test data predictions"
   ]
  },
  {
   "cell_type": "code",
   "execution_count": 70,
   "metadata": {},
   "outputs": [],
   "source": [
    "# process similarly to the train data\n",
    "test['disbursement_date'] = pd.to_datetime(test['disbursement_date'], errors='coerce')\n",
    "test['due_date'] = pd.to_datetime(test['due_date'], errors='coerce')"
   ]
  },
  {
   "cell_type": "code",
   "execution_count": 71,
   "metadata": {},
   "outputs": [],
   "source": [
    "# Cap outliers and create derived features for the test data\n",
    "test['Total_Amount_Capped'] = cap_outliers(test['Total_Amount'])\n",
    "test['Total_Amount_to_Repay_Capped'] = cap_outliers(test['Total_Amount_to_Repay'])\n",
    "test['Loan_Tenure_Days'] = (test['due_date'] - test['disbursement_date']).dt.days\n",
    "test['Repayment_Ratio'] = test['Total_Amount_to_Repay'] / test['Total_Amount_Capped']\n",
    "test['New_versus_Repeat_Encoded'] = test['New_versus_Repeat'].map({'New Loan': 0, 'Repeat Loan': 1})"
   ]
  },
  {
   "cell_type": "code",
   "execution_count": 78,
   "metadata": {},
   "outputs": [],
   "source": [
    "# Select and scale features\n",
    "X_test = test[feature_columns]\n",
    "X_test_scaled = X_test.copy()\n",
    "X_test_scaled[scaling_columns] = scaler.transform(X_test[scaling_columns])"
   ]
  },
  {
   "cell_type": "code",
   "execution_count": 74,
   "metadata": {},
   "outputs": [],
   "source": [
    "# Predict probabilities and outcomes for the unified test data\n",
    "rf_probs_test = final_rf_model.predict_proba(X_test_scaled)[:, 1]  # Predicted probabilities\n",
    "rf_preds_test = final_rf_model.predict(X_test_scaled)  # Predicted labels"
   ]
  },
  {
   "cell_type": "code",
   "execution_count": 75,
   "metadata": {},
   "outputs": [],
   "source": [
    "# Scale probabilities to credit scores (300-850 range)\n",
    "credit_scores_test = scale_to_score(rf_probs_test, min_score=300, max_score=850)"
   ]
  },
  {
   "cell_type": "code",
   "execution_count": 76,
   "metadata": {},
   "outputs": [],
   "source": [
    "# Create a unified DataFrame for the test scoring results\n",
    "test['Predicted_Probability'] = rf_probs_test\n",
    "test['Credit_Score'] = credit_scores_test\n",
    "test['Predicted_Target'] = rf_preds_test"
   ]
  },
  {
   "cell_type": "code",
   "execution_count": 77,
   "metadata": {},
   "outputs": [
    {
     "data": {
      "text/html": [
       "<div>\n",
       "<style scoped>\n",
       "    .dataframe tbody tr th:only-of-type {\n",
       "        vertical-align: middle;\n",
       "    }\n",
       "\n",
       "    .dataframe tbody tr th {\n",
       "        vertical-align: top;\n",
       "    }\n",
       "\n",
       "    .dataframe thead th {\n",
       "        text-align: right;\n",
       "    }\n",
       "</style>\n",
       "<table border=\"1\" class=\"dataframe\">\n",
       "  <thead>\n",
       "    <tr style=\"text-align: right;\">\n",
       "      <th></th>\n",
       "      <th>Predicted_Probability</th>\n",
       "      <th>Credit_Score</th>\n",
       "      <th>Predicted_Target</th>\n",
       "    </tr>\n",
       "  </thead>\n",
       "  <tbody>\n",
       "    <tr>\n",
       "      <th>0</th>\n",
       "      <td>0.0</td>\n",
       "      <td>850.0</td>\n",
       "      <td>0</td>\n",
       "    </tr>\n",
       "    <tr>\n",
       "      <th>1</th>\n",
       "      <td>0.0</td>\n",
       "      <td>850.0</td>\n",
       "      <td>0</td>\n",
       "    </tr>\n",
       "    <tr>\n",
       "      <th>2</th>\n",
       "      <td>0.0</td>\n",
       "      <td>850.0</td>\n",
       "      <td>0</td>\n",
       "    </tr>\n",
       "    <tr>\n",
       "      <th>3</th>\n",
       "      <td>0.0</td>\n",
       "      <td>850.0</td>\n",
       "      <td>0</td>\n",
       "    </tr>\n",
       "    <tr>\n",
       "      <th>4</th>\n",
       "      <td>0.0</td>\n",
       "      <td>850.0</td>\n",
       "      <td>0</td>\n",
       "    </tr>\n",
       "  </tbody>\n",
       "</table>\n",
       "</div>"
      ],
      "text/plain": [
       "   Predicted_Probability  Credit_Score  Predicted_Target\n",
       "0                    0.0         850.0                 0\n",
       "1                    0.0         850.0                 0\n",
       "2                    0.0         850.0                 0\n",
       "3                    0.0         850.0                 0\n",
       "4                    0.0         850.0                 0"
      ]
     },
     "execution_count": 77,
     "metadata": {},
     "output_type": "execute_result"
    }
   ],
   "source": [
    "# Display a sample of the scoring results\n",
    "test[['Predicted_Probability', 'Credit_Score', 'Predicted_Target']].head()"
   ]
  },
  {
   "cell_type": "code",
   "execution_count": 81,
   "metadata": {},
   "outputs": [
    {
     "name": "stdout",
     "output_type": "stream",
     "text": [
      "Submission file saved to model_prediction/submission.csv.\n"
     ]
    }
   ],
   "source": [
    "#  Prepare the submission DataFrame\n",
    "submission = pd.DataFrame({\n",
    "    \"ID\": test[\"ID\"],\n",
    "    \"Target\": rf_preds_test\n",
    "})\n",
    "\n",
    "# Save to CSV\n",
    "submission_file_path = \"model_prediction/submission.csv\"\n",
    "submission.to_csv(submission_file_path, index=False)\n",
    "\n",
    "print(f\"Submission file saved to {submission_file_path}.\")"
   ]
  },
  {
   "cell_type": "code",
   "execution_count": 82,
   "metadata": {},
   "outputs": [
    {
     "data": {
      "text/html": [
       "<div>\n",
       "<style scoped>\n",
       "    .dataframe tbody tr th:only-of-type {\n",
       "        vertical-align: middle;\n",
       "    }\n",
       "\n",
       "    .dataframe tbody tr th {\n",
       "        vertical-align: top;\n",
       "    }\n",
       "\n",
       "    .dataframe thead th {\n",
       "        text-align: right;\n",
       "    }\n",
       "</style>\n",
       "<table border=\"1\" class=\"dataframe\">\n",
       "  <thead>\n",
       "    <tr style=\"text-align: right;\">\n",
       "      <th></th>\n",
       "      <th>ID</th>\n",
       "      <th>Target</th>\n",
       "    </tr>\n",
       "  </thead>\n",
       "  <tbody>\n",
       "    <tr>\n",
       "      <th>0</th>\n",
       "      <td>ID_269404226088267278</td>\n",
       "      <td>0</td>\n",
       "    </tr>\n",
       "    <tr>\n",
       "      <th>1</th>\n",
       "      <td>ID_255356300042267278</td>\n",
       "      <td>0</td>\n",
       "    </tr>\n",
       "    <tr>\n",
       "      <th>2</th>\n",
       "      <td>ID_257026243764267278</td>\n",
       "      <td>0</td>\n",
       "    </tr>\n",
       "    <tr>\n",
       "      <th>3</th>\n",
       "      <td>ID_264617299409267278</td>\n",
       "      <td>0</td>\n",
       "    </tr>\n",
       "    <tr>\n",
       "      <th>4</th>\n",
       "      <td>ID_247613296713267278</td>\n",
       "      <td>0</td>\n",
       "    </tr>\n",
       "  </tbody>\n",
       "</table>\n",
       "</div>"
      ],
      "text/plain": [
       "                      ID  Target\n",
       "0  ID_269404226088267278       0\n",
       "1  ID_255356300042267278       0\n",
       "2  ID_257026243764267278       0\n",
       "3  ID_264617299409267278       0\n",
       "4  ID_247613296713267278       0"
      ]
     },
     "execution_count": 82,
     "metadata": {},
     "output_type": "execute_result"
    }
   ],
   "source": [
    "df=pd.read_csv('model_prediction/submission.csv')\n",
    "df.head()"
   ]
  },
  {
   "cell_type": "code",
   "execution_count": 85,
   "metadata": {},
   "outputs": [
    {
     "data": {
      "text/plain": [
       "array([0, 1])"
      ]
     },
     "execution_count": 85,
     "metadata": {},
     "output_type": "execute_result"
    }
   ],
   "source": [
    "uniqueid = df['Target'].unique()\n",
    "uniqueid"
   ]
  },
  {
   "cell_type": "markdown",
   "metadata": {
    "id": "qbc_jPpr9yDh"
   },
   "source": [
    "### EDA"
   ]
  },
  {
   "cell_type": "code",
   "execution_count": 7,
   "metadata": {
    "id": "Fpu52BLQLxx1"
   },
   "outputs": [],
   "source": [
    "def plot_continuous(df, column, transform=None):\n",
    "    \"\"\"\n",
    "    Plots visualizations for a continuous variable, showing the distribution and boxplot for both\n",
    "    the original and transformed versions of the data.\n",
    "\n",
    "    Args:\n",
    "        df (pandas.DataFrame): The DataFrame containing the data.\n",
    "        column (str): The column name of the continuous variable to plot.\n",
    "        transform (str, optional): Transformation to apply to the data before plotting.\n",
    "                                  Accepted values are 'log' or 'sqrt'. Default is None, which means no transformation.\n",
    "\n",
    "    This function generates:\n",
    "        - A histogram with a kernel density estimate (KDE) for the original data.\n",
    "        - A boxplot for the original data.\n",
    "        - If a transformation is specified ('log' or 'sqrt'):\n",
    "            - A histogram with a KDE for the transformed data.\n",
    "            - A boxplot for the transformed data.\n",
    "    \"\"\"\n",
    "    # Create subplots for visualizations\n",
    "    fig, axs = plt.subplots(2, 2, figsize=(15, 15))\n",
    "\n",
    "    # Original data plots\n",
    "    sns.histplot(df[column], kde=True, ax=axs[0, 0])\n",
    "    axs[0, 0].set_title(f'Distribution of {column}')\n",
    "    axs[0, 0].set_xlabel(column)\n",
    "\n",
    "    sns.boxplot(y=df[column], ax=axs[1, 0])\n",
    "    axs[1, 0].set_title(f'Box Plot of {column}')\n",
    "    axs[1, 0].set_ylabel(column)\n",
    "\n",
    "    # Transformations (log or square root)\n",
    "    if transform == 'log':\n",
    "        transformed_data = np.log1p(df[column])  # log1p handles log(0) gracefully\n",
    "        transform_label = 'Log'\n",
    "    elif transform == 'sqrt':\n",
    "        transformed_data = np.sqrt(df[column])  # Square root transformation\n",
    "        transform_label = 'Square Root'\n",
    "    else:\n",
    "        transformed_data = None  # No transformation if not specified\n",
    "\n",
    "    # If transformed data exists, generate corresponding plots\n",
    "    if transformed_data is not None:\n",
    "        sns.histplot(transformed_data, kde=True, ax=axs[0, 1])\n",
    "        axs[0, 1].set_title(f'{transform_label} Distribution of {column}')\n",
    "        axs[0, 1].set_xlabel(f'{transform_label}({column})')\n",
    "\n",
    "        sns.boxplot(y=transformed_data, ax=axs[1, 1])\n",
    "        axs[1, 1].set_title(f'{transform_label} Box Plot of {column}')\n",
    "        axs[1, 1].set_ylabel(f'{transform_label}({column})')\n",
    "    else:\n",
    "        # If no transformation, remove the second set of axes\n",
    "        for ax in [axs[0, 1], axs[1, 1]]:\n",
    "            ax.remove()\n",
    "\n",
    "    # Adjust layout to prevent overlap\n",
    "    plt.tight_layout()\n",
    "    plt.show()\n",
    "\n",
    "\n",
    "def plot_categorical(df, column):\n",
    "    \"\"\"\n",
    "    Plots visualizations for a categorical variable, including a bar plot and a pie chart.\n",
    "\n",
    "    Args:\n",
    "        df (pandas.DataFrame): The DataFrame containing the data.\n",
    "        column (str): The column name of the categorical variable to plot.\n",
    "\n",
    "    This function generates:\n",
    "        - A bar plot showing the counts of each category in the specified column.\n",
    "        - A pie chart showing the relative proportions of each category.\n",
    "    \"\"\"\n",
    "    # Create subplots for visualizations\n",
    "    fig, (ax1, ax2) = plt.subplots(1, 2, figsize=(15, 5))\n",
    "\n",
    "    # Bar plot showing counts of each category\n",
    "    value_counts = df[column].value_counts()\n",
    "    sns.barplot(x=value_counts.index, y=value_counts.values, ax=ax1)\n",
    "    ax1.set_title(f'Bar Plot of {column}')\n",
    "    ax1.set_xlabel(column)\n",
    "    ax1.set_ylabel('Count')\n",
    "    ax1.tick_params(axis='x', rotation=45)  # Rotate x-axis labels for better readability\n",
    "\n",
    "    # Pie chart showing percentage distribution of each category\n",
    "    ax2.pie(value_counts.values, labels=value_counts.index, autopct='%1.1f%%')\n",
    "    ax2.set_title(f'Pie Chart of {column}')\n",
    "\n",
    "    # Adjust layout to prevent overlap\n",
    "    plt.tight_layout()\n",
    "    plt.show()\n"
   ]
  },
  {
   "cell_type": "markdown",
   "metadata": {
    "id": "0uQ6y1nh9yDl"
   },
   "source": [
    "#### Categorical exploration"
   ]
  },
  {
   "cell_type": "code",
   "execution_count": 8,
   "metadata": {
    "colab": {
     "base_uri": "https://localhost:8080/",
     "height": 429
    },
    "id": "CvBZFCDB9yDp",
    "outputId": "b3e66c2e-b96e-46fc-9486-23de6a03330b"
   },
   "outputs": [
    {
     "data": {
      "image/png": "[encoded data removed]",
      "text/plain": [
       "<Figure size 1500x500 with 2 Axes>"
      ]
     },
     "metadata": {},
     "output_type": "display_data"
    }
   ],
   "source": [
    "plot_categorical(train, 'country_id')"
   ]
  },
  {
   "cell_type": "code",
   "execution_count": 9,
   "metadata": {
    "colab": {
     "base_uri": "https://localhost:8080/",
     "height": 431
    },
    "id": "tkHc46MC9yDr",
    "outputId": "5f5647d2-cdd2-406b-e578-049f8fa60b9f"
   },
   "outputs": [
    {
     "data": {
      "image/png": "[encoded data removed]",
      "text/plain": [
       "<Figure size 1500x500 with 2 Axes>"
      ]
     },
     "metadata": {},
     "output_type": "display_data"
    }
   ],
   "source": [
    "plot_categorical(test, 'country_id')"
   ]
  },
  {
   "cell_type": "markdown",
   "metadata": {
    "id": "e6KZsi7C9yDs"
   },
   "source": [
    "##### This shows that test has a new country, ghana so one of the goals is to build a solution that can generalize well in new regions"
   ]
  },
  {
   "cell_type": "code",
   "execution_count": 10,
   "metadata": {
    "colab": {
     "base_uri": "https://localhost:8080/",
     "height": 420
    },
    "id": "oBNBL-iE9yDt",
    "outputId": "c74c4abb-a888-435c-f5e5-f757cb9e5838"
   },
   "outputs": [
    {
     "data": {
      "image/png": "[encoded data removed]",
      "text/plain": [
       "<Figure size 1500x500 with 2 Axes>"
      ]
     },
     "metadata": {},
     "output_type": "display_data"
    }
   ],
   "source": [
    "plot_categorical(train, 'lender_id')"
   ]
  },
  {
   "cell_type": "markdown",
   "metadata": {
    "id": "InTIxxFY9yDu"
   },
   "source": [
    "##### You can exploree more of the categorical columns as well"
   ]
  },
  {
   "cell_type": "markdown",
   "metadata": {
    "id": "cxbIof5w9yDv"
   },
   "source": [
    "#### TARGET EXPLORATION\n"
   ]
  },
  {
   "cell_type": "code",
   "execution_count": 11,
   "metadata": {
    "colab": {
     "base_uri": "https://localhost:8080/",
     "height": 427
    },
    "id": "fRY_YskV9yDv",
    "outputId": "ff65f4d1-da3c-433e-c974-90754125ccf0"
   },
   "outputs": [
    {
     "data": {
      "image/png": "[encoded data removed]",
      "text/plain": [
       "<Figure size 1500x500 with 2 Axes>"
      ]
     },
     "metadata": {},
     "output_type": "display_data"
    }
   ],
   "source": [
    "plot_categorical(train, 'target')"
   ]
  },
  {
   "cell_type": "markdown",
   "metadata": {
    "id": "tv2WRWv59yDw"
   },
   "source": [
    "##### You can see the dataset is highly imbalanced , and this is expected in loan default scenarios, So find  ways to deal with the  imbalance"
   ]
  },
  {
   "cell_type": "markdown",
   "metadata": {
    "id": "RXMEJ_j-9yDw"
   },
   "source": [
    "### CONTINUOUS COLUMN EXPLORATION"
   ]
  },
  {
   "cell_type": "code",
   "execution_count": 12,
   "metadata": {
    "colab": {
     "base_uri": "https://localhost:8080/",
     "height": 1000
    },
    "id": "2AttBo4C9yDw",
    "outputId": "5320bd41-5fb6-40ec-c846-1261cb2c7ad6"
   },
   "outputs": [
    {
     "data": {
      "image/png": "[encoded data removed]",
      "text/plain": [
       "<Figure size 1500x1500 with 2 Axes>"
      ]
     },
     "metadata": {},
     "output_type": "display_data"
    }
   ],
   "source": [
    "plot_continuous(train, 'Total_Amount')"
   ]
  },
  {
   "cell_type": "markdown",
   "metadata": {
    "id": "cwK6jcu19yDx"
   },
   "source": [
    "Are those outliers?\n",
    "##### You can explore more of the given numerical columns as well"
   ]
  },
  {
   "cell_type": "markdown",
   "metadata": {
    "id": "8KnFfQ679yDx"
   },
   "source": [
    "### Feature Engineering\n",
    "* So here we are going to concatenate both the train and test so that we can do the processing once instead of repeating for each"
   ]
  },
  {
   "cell_type": "code",
   "execution_count": 13,
   "metadata": {
    "colab": {
     "base_uri": "https://localhost:8080/"
    },
    "id": "KJ0sgX3uti_u",
    "outputId": "a524986f-be6d-413f-9a92-fa67a081243c"
   },
   "outputs": [
    {
     "name": "stdout",
     "output_type": "stream",
     "text": [
      "The categorical columns are: Index(['ID', 'country_id', 'loan_type', 'New_versus_Repeat'], dtype='object').\n",
      "----------------------------------------------------------------------------------------------------\n",
      "The numerical columns are: ['customer_id', 'tbl_loan_id', 'lender_id', 'Total_Amount', 'Total_Amount_to_Repay', 'duration', 'Amount_Funded_By_Lender', 'Lender_portion_Funded', 'Lender_portion_to_be_repaid', 'disbursement_date_month', 'disbursement_date_day', 'disbursement_date_year', 'due_date_month', 'due_date_day', 'due_date_year']\n",
      "----------------------------------------------------------------------------------------------------\n",
      "The shape of train_df is: (68654, 45)\n",
      "The shape of test_df is: (18594, 45)\n",
      "The shape of train is: (68654, 16)\n",
      "The shape of test is: (18594, 15)\n",
      "The features for modelling are:\n",
      "['customer_id', 'tbl_loan_id', 'lender_id', 'Total_Amount', 'Total_Amount_to_Repay', 'duration', 'New_versus_Repeat', 'Amount_Funded_By_Lender', 'Lender_portion_Funded', 'Lender_portion_to_be_repaid', 'disbursement_date_month', 'disbursement_date_day', 'disbursement_date_year', 'due_date_month', 'due_date_day', 'due_date_year', 'loan_type_Type_1', 'loan_type_Type_10', 'loan_type_Type_11', 'loan_type_Type_12', 'loan_type_Type_13', 'loan_type_Type_14', 'loan_type_Type_15', 'loan_type_Type_16', 'loan_type_Type_17', 'loan_type_Type_18', 'loan_type_Type_19', 'loan_type_Type_2', 'loan_type_Type_20', 'loan_type_Type_21', 'loan_type_Type_22', 'loan_type_Type_23', 'loan_type_Type_24', 'loan_type_Type_3', 'loan_type_Type_4', 'loan_type_Type_5', 'loan_type_Type_6', 'loan_type_Type_7', 'loan_type_Type_8', 'loan_type_Type_9']\n"
     ]
    }
   ],
   "source": [
    "data = pd.concat([train, test]).reset_index(drop=True)\n",
    "\n",
    "# Convert the datetime columns appropriately\n",
    "date_cols = ['disbursement_date', 'due_date']\n",
    "for col in date_cols:\n",
    "    data[col] = pd.to_datetime(data[col])\n",
    "    # Extract month, day, and year from the date columns\n",
    "    data[col+'_month'] = data[col].dt.month\n",
    "    data[col+'_day'] = data[col].dt.day\n",
    "    data[col+'_year'] = data[col].dt.year\n",
    "\n",
    "# Select all categorical columns from the dataset and label encode them or one hot encode\n",
    "cat_cols = data.select_dtypes(include='object').columns\n",
    "num_cols = [col for col in data.select_dtypes(include='number').columns if col not in ['target']]\n",
    "print(f\"The categorical columns are: {cat_cols}.\")\n",
    "print(\"-\"* 100)\n",
    "print(f\"The numerical columns are: {num_cols}\")\n",
    "print(\"-\"* 100)\n",
    "# we are going to one  hot encode the loan type\n",
    "data = pd.get_dummies(data, columns=['loan_type'], prefix='loan_type', drop_first=False)\n",
    "# Convert all the columns with prefix loan_type_ to 0/1 instead of False/True\n",
    "loan_type_cols = [col for col in data.columns if col.startswith('loan_type_')]\n",
    "data[loan_type_cols] = data[loan_type_cols].astype(int)\n",
    "\n",
    "# Label-encoding for the other remaining categorical columns\n",
    "le = LabelEncoder()\n",
    "for col in [col for col in cat_cols if col not in ['loan_type', 'ID']]:\n",
    "    data[col] = le.fit_transform(data[col])\n",
    "\n",
    "\n",
    "# deal with numerical columns: we saw loan amount is  highly right skewed for this we can log transform it\n",
    "data['Total_Amount'] = np.log1p(data['Total_Amount']) # study other numerical columns and see if they are skewed as well\n",
    "\n",
    "# Splitting the data back into train and test\n",
    "train_df = data[data['ID'].isin(train['ID'].unique())]\n",
    "\n",
    "test_df = data[data['ID'].isin(test['ID'].unique())]\n",
    "\n",
    "# we are also going to drop the country id as we saw we have only one country in train\n",
    "features_for_modelling = [col for col in train_df.columns if col not in date_cols + ['ID', 'target', 'country_id']]\n",
    "\n",
    "# Check if the new datasets have the same rows as train and test datasets\n",
    "print(f\"The shape of train_df is: {train_df.shape}\")\n",
    "print(f\"The shape of test_df is: {test_df.shape}\")\n",
    "print(f\"The shape of train is: {train.shape}\")\n",
    "print(f\"The shape of test is: {test.shape}\")\n",
    "print(f\"The features for modelling are:\\n{features_for_modelling}\")\n"
   ]
  },
  {
   "cell_type": "markdown",
   "metadata": {
    "id": "6DSpwlQP9yD2"
   },
   "source": [
    "### CROSS VALIDATION\n",
    "* Here we are going to use a simple train test split but due to the imbalance try other robust methods like StratifiedKFold\n"
   ]
  },
  {
   "cell_type": "code",
   "execution_count": 14,
   "metadata": {
    "colab": {
     "base_uri": "https://localhost:8080/"
    },
    "id": "nwX_NRfbAbDq",
    "outputId": "54a5538b-2219-498c-b8c8-6b42e38f2edd"
   },
   "outputs": [
    {
     "name": "stdout",
     "output_type": "stream",
     "text": [
      "(51490, 40) (17164, 40) (51490,) (17164,)\n"
     ]
    }
   ],
   "source": [
    "from sklearn.model_selection import train_test_split\n",
    "X_train, X_valid, y_train, y_valid = train_test_split(train_df[features_for_modelling], train['target'], stratify=train['target'], shuffle=True, random_state=42)\n",
    "print(X_train.shape, X_valid.shape, y_train.shape, y_valid.shape)"
   ]
  },
  {
   "cell_type": "markdown",
   "metadata": {
    "id": "f5CHOKoi0tG0"
   },
   "source": [
    "## Initialisation & Model Training"
   ]
  },
  {
   "cell_type": "code",
   "execution_count": 15,
   "metadata": {
    "colab": {
     "base_uri": "https://localhost:8080/",
     "height": 698
    },
    "id": "BHh2jDjc7wPQ",
    "outputId": "ff5cba25-6860-4b41-de48-1cc6a94bb00e"
   },
   "outputs": [
    {
     "name": "stdout",
     "output_type": "stream",
     "text": [
      "F1 Score: 0.2615\n",
      "ROC AUC Score: 0.9285\n",
      "\n",
      "Classification Report:\n",
      "               precision    recall  f1-score   support\n",
      "\n",
      "           0       1.00      0.92      0.96     16849\n",
      "           1       0.16      0.80      0.26       315\n",
      "\n",
      "    accuracy                           0.92     17164\n",
      "   macro avg       0.58      0.86      0.61     17164\n",
      "weighted avg       0.98      0.92      0.94     17164\n",
      "\n"
     ]
    },
    {
     "data": {
      "image/png": "[encoded data removed]",
      "text/plain": [
       "<Figure size 640x480 with 2 Axes>"
      ]
     },
     "metadata": {},
     "output_type": "display_data"
    }
   ],
   "source": [
    "\n",
    "# Standard Scaling\n",
    "scaler = StandardScaler()\n",
    "X_train_scaled = scaler.fit_transform(X_train)\n",
    "X_valid_scaled = scaler.transform(X_valid)\n",
    "\n",
    "# Logistic Regression Classifier\n",
    "clf = LogisticRegression(\n",
    "    random_state=42,\n",
    "    class_weight=\"balanced\",  # Handle class imbalance\n",
    ")\n",
    "clf.fit(X_train_scaled, y_train)\n",
    "\n",
    "# Predictions\n",
    "y_pred = clf.predict(X_valid_scaled)\n",
    "y_pred_proba = clf.predict_proba(X_valid_scaled)[:, 1]\n",
    "\n",
    "# Evaluation Metrics\n",
    "f1 = f1_score(y_valid, y_pred)\n",
    "roc_auc = roc_auc_score(y_valid, y_pred_proba)\n",
    "\n",
    "print(f\"F1 Score: {f1:.4f}\")\n",
    "print(f\"ROC AUC Score: {roc_auc:.4f}\")\n",
    "print(\"\\nClassification Report:\\n\", classification_report(y_valid, y_pred))\n",
    "\n",
    "# Confusion Matrix\n",
    "# Confusion Matrix Visualization\n",
    "ConfusionMatrixDisplay.from_predictions(\n",
    "    y_valid,\n",
    "    y_pred,\n",
    "    display_labels=clf.classes_,\n",
    "    cmap=plt.cm.Blues\n",
    ")\n",
    "plt.title(\"Confusion Matrix\")\n",
    "plt.show()\n"
   ]
  },
  {
   "cell_type": "markdown",
   "metadata": {
    "id": "R8s6-hmZ9yD7"
   },
   "source": [
    "### FEATURE IMPORTANCE"
   ]
  },
  {
   "cell_type": "code",
   "execution_count": 16,
   "metadata": {
    "colab": {
     "base_uri": "https://localhost:8080/",
     "height": 718
    },
    "id": "ddDFL2N49yD8",
    "outputId": "0bff1ab2-c586-4f0e-98c4-2f296e20fb10"
   },
   "outputs": [
    {
     "data": {
      "image/png": "[encoded data removed]",
      "text/plain": [
       "<Figure size 1000x800 with 1 Axes>"
      ]
     },
     "metadata": {},
     "output_type": "display_data"
    }
   ],
   "source": [
    "# Feature Importance\n",
    "\n",
    "# Get the absolute values of the coefficients\n",
    "feature_importances = np.abs(clf.coef_).flatten()\n",
    "\n",
    "# Create a DataFrame for feature importance\n",
    "importance_df = pd.DataFrame({\n",
    "    'Feature': features_for_modelling,\n",
    "    'Importance': feature_importances\n",
    "})\n",
    "\n",
    "# Sort by importance\n",
    "importance_df = importance_df.sort_values(by='Importance', ascending=False).head(20)\n",
    "\n",
    "# Plot the top 20 feature importances\n",
    "plt.figure(figsize=(10, 8))\n",
    "plt.barh(importance_df['Feature'], importance_df['Importance'], color='skyblue')\n",
    "plt.gca().invert_yaxis()  # To display the most important feature at the top\n",
    "plt.xlabel('Feature Importance')\n",
    "plt.title('Top 20 Feature Importances')\n",
    "plt.show()"
   ]
  },
  {
   "cell_type": "markdown",
   "metadata": {
    "id": "28MmdSCq0zre"
   },
   "source": [
    "## Model Prediction & Inference"
   ]
  },
  {
   "cell_type": "code",
   "execution_count": 17,
   "metadata": {
    "colab": {
     "base_uri": "https://localhost:8080/",
     "height": 206
    },
    "id": "pm6VoIQM8VKE",
    "outputId": "801e48b9-9f12-4a83-cf1e-5d230ae4db6a"
   },
   "outputs": [
    {
     "data": {
      "application/vnd.google.colaboratory.intrinsic+json": {
       "summary": "{\n  \"name\": \"sub\",\n  \"rows\": 18594,\n  \"fields\": [\n    {\n      \"column\": \"ID\",\n      \"properties\": {\n        \"dtype\": \"string\",\n        \"num_unique_values\": 18594,\n        \"samples\": [\n          \"ID_308368372955251804\",\n          \"ID_254227232713267278\",\n          \"ID_296735364076296542\"\n        ],\n        \"semantic_type\": \"\",\n        \"description\": \"\"\n      }\n    },\n    {\n      \"column\": \"target\",\n      \"properties\": {\n        \"dtype\": \"number\",\n        \"std\": 0,\n        \"min\": 0,\n        \"max\": 1,\n        \"num_unique_values\": 2,\n        \"samples\": [\n          1,\n          0\n        ],\n        \"semantic_type\": \"\",\n        \"description\": \"\"\n      }\n    }\n  ]\n}",
       "type": "dataframe",
       "variable_name": "sub"
      },
      "text/html": [
       "\n",
       "  <div id=\"df-7688666f-5d04-4bcd-a16d-7a55158ee4a8\" class=\"colab-df-container\">\n",
       "    <div>\n",
       "<style scoped>\n",
       "    .dataframe tbody tr th:only-of-type {\n",
       "        vertical-align: middle;\n",
       "    }\n",
       "\n",
       "    .dataframe tbody tr th {\n",
       "        vertical-align: top;\n",
       "    }\n",
       "\n",
       "    .dataframe thead th {\n",
       "        text-align: right;\n",
       "    }\n",
       "</style>\n",
       "<table border=\"1\" class=\"dataframe\">\n",
       "  <thead>\n",
       "    <tr style=\"text-align: right;\">\n",
       "      <th></th>\n",
       "      <th>ID</th>\n",
       "      <th>target</th>\n",
       "    </tr>\n",
       "  </thead>\n",
       "  <tbody>\n",
       "    <tr>\n",
       "      <th>68654</th>\n",
       "      <td>ID_269404226088267278</td>\n",
       "      <td>0</td>\n",
       "    </tr>\n",
       "    <tr>\n",
       "      <th>68655</th>\n",
       "      <td>ID_255356300042267278</td>\n",
       "      <td>0</td>\n",
       "    </tr>\n",
       "    <tr>\n",
       "      <th>68656</th>\n",
       "      <td>ID_257026243764267278</td>\n",
       "      <td>0</td>\n",
       "    </tr>\n",
       "    <tr>\n",
       "      <th>68657</th>\n",
       "      <td>ID_264617299409267278</td>\n",
       "      <td>0</td>\n",
       "    </tr>\n",
       "    <tr>\n",
       "      <th>68658</th>\n",
       "      <td>ID_247613296713267278</td>\n",
       "      <td>0</td>\n",
       "    </tr>\n",
       "  </tbody>\n",
       "</table>\n",
       "</div>\n",
       "    <div class=\"colab-df-buttons\">\n",
       "\n",
       "  <div class=\"colab-df-container\">\n",
       "    <button class=\"colab-df-convert\" onclick=\"convertToInteractive('df-7688666f-5d04-4bcd-a16d-7a55158ee4a8')\"\n",
       "            title=\"Convert this dataframe to an interactive table.\"\n",
       "            style=\"display:none;\">\n",
       "\n",
       "  <svg xmlns=\"http://www.w3.org/2000/svg\" height=\"24px\" viewBox=\"0 -960 960 960\">\n",
       "    <path d=\"M120-120v-720h720v720H120Zm60-500h600v-160H180v160Zm220 220h160v-160H400v160Zm0 220h160v-160H400v160ZM180-400h160v-160H180v160Zm440 0h160v-160H620v160ZM180-180h160v-160H180v160Zm440 0h160v-160H620v160Z\"/>\n",
       "  </svg>\n",
       "    </button>\n",
       "\n",
       "  <style>\n",
       "    .colab-df-container {\n",
       "      display:flex;\n",
       "      gap: 12px;\n",
       "    }\n",
       "\n",
       "    .colab-df-convert {\n",
       "      background-color: #E8F0FE;\n",
       "      border: none;\n",
       "      border-radius: 50%;\n",
       "      cursor: pointer;\n",
       "      display: none;\n",
       "      fill: #1967D2;\n",
       "      height: 32px;\n",
       "      padding: 0 0 0 0;\n",
       "      width: 32px;\n",
       "    }\n",
       "\n",
       "    .colab-df-convert:hover {\n",
       "      background-color: #E2EBFA;\n",
       "      box-shadow: 0px 1px 2px rgba(60, 64, 67, 0.3), 0px 1px 3px 1px rgba(60, 64, 67, 0.15);\n",
       "      fill: #174EA6;\n",
       "    }\n",
       "\n",
       "    .colab-df-buttons div {\n",
       "      margin-bottom: 4px;\n",
       "    }\n",
       "\n",
       "    [theme=dark] .colab-df-convert {\n",
       "      background-color: #3B4455;\n",
       "      fill: #D2E3FC;\n",
       "    }\n",
       "\n",
       "    [theme=dark] .colab-df-convert:hover {\n",
       "      background-color: #434B5C;\n",
       "      box-shadow: 0px 1px 3px 1px rgba(0, 0, 0, 0.15);\n",
       "      filter: drop-shadow(0px 1px 2px rgba(0, 0, 0, 0.3));\n",
       "      fill: #FFFFFF;\n",
       "    }\n",
       "  </style>\n",
       "\n",
       "    <script>\n",
       "      const buttonEl =\n",
       "        document.querySelector('#df-7688666f-5d04-4bcd-a16d-7a55158ee4a8 button.colab-df-convert');\n",
       "      buttonEl.style.display =\n",
       "        google.colab.kernel.accessAllowed ? 'block' : 'none';\n",
       "\n",
       "      async function convertToInteractive(key) {\n",
       "        const element = document.querySelector('#df-7688666f-5d04-4bcd-a16d-7a55158ee4a8');\n",
       "        const dataTable =\n",
       "          await google.colab.kernel.invokeFunction('convertToInteractive',\n",
       "                                                    [key], {});\n",
       "        if (!dataTable) return;\n",
       "\n",
       "        const docLinkHtml = 'Like what you see? Visit the ' +\n",
       "          '<a target=\"_blank\" href=https://colab.research.google.com/notebooks/data_table.ipynb>data table notebook</a>'\n",
       "          + ' to learn more about interactive tables.';\n",
       "        element.innerHTML = '';\n",
       "        dataTable['output_type'] = 'display_data';\n",
       "        await google.colab.output.renderOutput(dataTable, element);\n",
       "        const docLink = document.createElement('div');\n",
       "        docLink.innerHTML = docLinkHtml;\n",
       "        element.appendChild(docLink);\n",
       "      }\n",
       "    </script>\n",
       "  </div>\n",
       "\n",
       "\n",
       "<div id=\"df-18a621b8-b7c3-4059-8c46-4df0f5719706\">\n",
       "  <button class=\"colab-df-quickchart\" onclick=\"quickchart('df-18a621b8-b7c3-4059-8c46-4df0f5719706')\"\n",
       "            title=\"Suggest charts\"\n",
       "            style=\"display:none;\">\n",
       "\n",
       "<svg xmlns=\"http://www.w3.org/2000/svg\" height=\"24px\"viewBox=\"0 0 24 24\"\n",
       "     width=\"24px\">\n",
       "    <g>\n",
       "        <path d=\"M19 3H5c-1.1 0-2 .9-2 2v14c0 1.1.9 2 2 2h14c1.1 0 2-.9 2-2V5c0-1.1-.9-2-2-2zM9 17H7v-7h2v7zm4 0h-2V7h2v10zm4 0h-2v-4h2v4z\"/>\n",
       "    </g>\n",
       "</svg>\n",
       "  </button>\n",
       "\n",
       "<style>\n",
       "  .colab-df-quickchart {\n",
       "      --bg-color: #E8F0FE;\n",
       "      --fill-color: #1967D2;\n",
       "      --hover-bg-color: #E2EBFA;\n",
       "      --hover-fill-color: #174EA6;\n",
       "      --disabled-fill-color: #AAA;\n",
       "      --disabled-bg-color: #DDD;\n",
       "  }\n",
       "\n",
       "  [theme=dark] .colab-df-quickchart {\n",
       "      --bg-color: #3B4455;\n",
       "      --fill-color: #D2E3FC;\n",
       "      --hover-bg-color: #434B5C;\n",
       "      --hover-fill-color: #FFFFFF;\n",
       "      --disabled-bg-color: #3B4455;\n",
       "      --disabled-fill-color: #666;\n",
       "  }\n",
       "\n",
       "  .colab-df-quickchart {\n",
       "    background-color: var(--bg-color);\n",
       "    border: none;\n",
       "    border-radius: 50%;\n",
       "    cursor: pointer;\n",
       "    display: none;\n",
       "    fill: var(--fill-color);\n",
       "    height: 32px;\n",
       "    padding: 0;\n",
       "    width: 32px;\n",
       "  }\n",
       "\n",
       "  .colab-df-quickchart:hover {\n",
       "    background-color: var(--hover-bg-color);\n",
       "    box-shadow: 0 1px 2px rgba(60, 64, 67, 0.3), 0 1px 3px 1px rgba(60, 64, 67, 0.15);\n",
       "    fill: var(--button-hover-fill-color);\n",
       "  }\n",
       "\n",
       "  .colab-df-quickchart-complete:disabled,\n",
       "  .colab-df-quickchart-complete:disabled:hover {\n",
       "    background-color: var(--disabled-bg-color);\n",
       "    fill: var(--disabled-fill-color);\n",
       "    box-shadow: none;\n",
       "  }\n",
       "\n",
       "  .colab-df-spinner {\n",
       "    border: 2px solid var(--fill-color);\n",
       "    border-color: transparent;\n",
       "    border-bottom-color: var(--fill-color);\n",
       "    animation:\n",
       "      spin 1s steps(1) infinite;\n",
       "  }\n",
       "\n",
       "  @keyframes spin {\n",
       "    0% {\n",
       "      border-color: transparent;\n",
       "      border-bottom-color: var(--fill-color);\n",
       "      border-left-color: var(--fill-color);\n",
       "    }\n",
       "    20% {\n",
       "      border-color: transparent;\n",
       "      border-left-color: var(--fill-color);\n",
       "      border-top-color: var(--fill-color);\n",
       "    }\n",
       "    30% {\n",
       "      border-color: transparent;\n",
       "      border-left-color: var(--fill-color);\n",
       "      border-top-color: var(--fill-color);\n",
       "      border-right-color: var(--fill-color);\n",
       "    }\n",
       "    40% {\n",
       "      border-color: transparent;\n",
       "      border-right-color: var(--fill-color);\n",
       "      border-top-color: var(--fill-color);\n",
       "    }\n",
       "    60% {\n",
       "      border-color: transparent;\n",
       "      border-right-color: var(--fill-color);\n",
       "    }\n",
       "    80% {\n",
       "      border-color: transparent;\n",
       "      border-right-color: var(--fill-color);\n",
       "      border-bottom-color: var(--fill-color);\n",
       "    }\n",
       "    90% {\n",
       "      border-color: transparent;\n",
       "      border-bottom-color: var(--fill-color);\n",
       "    }\n",
       "  }\n",
       "</style>\n",
       "\n",
       "  <script>\n",
       "    async function quickchart(key) {\n",
       "      const quickchartButtonEl =\n",
       "        document.querySelector('#' + key + ' button');\n",
       "      quickchartButtonEl.disabled = true;  // To prevent multiple clicks.\n",
       "      quickchartButtonEl.classList.add('colab-df-spinner');\n",
       "      try {\n",
       "        const charts = await google.colab.kernel.invokeFunction(\n",
       "            'suggestCharts', [key], {});\n",
       "      } catch (error) {\n",
       "        console.error('Error during call to suggestCharts:', error);\n",
       "      }\n",
       "      quickchartButtonEl.classList.remove('colab-df-spinner');\n",
       "      quickchartButtonEl.classList.add('colab-df-quickchart-complete');\n",
       "    }\n",
       "    (() => {\n",
       "      let quickchartButtonEl =\n",
       "        document.querySelector('#df-18a621b8-b7c3-4059-8c46-4df0f5719706 button');\n",
       "      quickchartButtonEl.style.display =\n",
       "        google.colab.kernel.accessAllowed ? 'block' : 'none';\n",
       "    })();\n",
       "  </script>\n",
       "</div>\n",
       "\n",
       "    </div>\n",
       "  </div>\n"
      ],
      "text/plain": [
       "                          ID  target\n",
       "68654  ID_269404226088267278       0\n",
       "68655  ID_255356300042267278       0\n",
       "68656  ID_257026243764267278       0\n",
       "68657  ID_264617299409267278       0\n",
       "68658  ID_247613296713267278       0"
      ]
     },
     "execution_count": 17,
     "metadata": {},
     "output_type": "execute_result"
    }
   ],
   "source": [
    "# Make predictions on the test dataset\n",
    "test_predictions = clf.predict(test_df[features_for_modelling])\n",
    "test_predictions_proba = clf.predict_proba(test_df[features_for_modelling])[:, 1]\n",
    "\n",
    "# Save the predictions to a CSV file\n",
    "\n",
    "test_df['target'] = test_predictions\n",
    "sub =  test_df[['ID', 'target']]\n",
    "sub.head()\n"
   ]
  },
  {
   "cell_type": "code",
   "execution_count": 18,
   "metadata": {
    "id": "L-0bfscp9yED"
   },
   "outputs": [],
   "source": [
    "sub.to_csv('baseline_submission.csv', index=False)"
   ]
  },
  {
   "cell_type": "code",
   "execution_count": 18,
   "metadata": {
    "id": "yhguEHw9cXdc"
   },
   "outputs": [],
   "source": []
  },
  {
   "cell_type": "markdown",
   "metadata": {
    "id": "PBvU51459yEE"
   },
   "source": [
    "#### To Do\n",
    "* Handle imbalance\n",
    "* Do more feature engineering\n",
    "* Use more sophisticated machine learning algorithms\n",
    "##### Good luck"
   ]
  },
  {
   "cell_type": "markdown",
   "metadata": {
    "id": "JBJo01jJ9yEG"
   },
   "source": [
    "train['target].value_counts()"
   ]
  }
 ],
 "metadata": {
  "colab": {
   "provenance": []
  },
  "kernelspec": {
   "display_name": "myenv",
   "language": "python",
   "name": "python3"
  },
  "language_info": {
   "codemirror_mode": {
    "name": "ipython",
    "version": 3
   },
   "file_extension": ".py",
   "mimetype": "text/x-python",
   "name": "python",
   "nbconvert_exporter": "python",
   "pygments_lexer": "ipython3",
   "version": "3.10.15"
  }
 },
 "nbformat": 4,
 "nbformat_minor": 0
}
